{
 "cells": [
  {
   "cell_type": "markdown",
   "metadata": {},
   "source": [
    "<h1 align=\"center\">Распознавание мошеннических случаев в страховании транспортных средств</h2>"
   ]
  },
  {
   "cell_type": "markdown",
   "metadata": {},
   "source": [
    "### Цель"
   ]
  },
  {
   "cell_type": "markdown",
   "metadata": {},
   "source": [
    "Построить модели, используя различные виды алгоритмов анализа данных для решения задачи классификации случаев мошенничества в сфере страхования автотранспорта. Оценить модели путём сравнения метрик качества, выбрать наилучшую и подобрать для неё гиперпараметры (при необходимости)."
   ]
  },
  {
   "cell_type": "markdown",
   "metadata": {},
   "source": [
    "### Структура датасета"
   ]
  },
  {
   "cell_type": "markdown",
   "metadata": {},
   "source": [
    "<ul>\n",
    "    <li><b>Month</b> - месяц, в который произошла авария</li>\n",
    "    <li><b>WeekOfMonth</b> - порядковый номер недели в месяце, в который произошла авария</li>\n",
    "    <li><b>DayOfWeek</b> - день недели, в который произошла авария</li>\n",
    "    <li><b>Make</b> - марка</li>\n",
    "    <li><b>AccidentArea</b> - местность происшествия</li>\n",
    "    <li><b>DayOfWeekClaimed</b> - день недели подачи заявления о страховом случае</li>\n",
    "    <li><b>MonthClaimed</b> - месяц подачи заявления о страховом случае</li>\n",
    "    <li><b>WeekOfMonthClaimed</b> - порядковый номер недели в месяце подачи заявления о страховом случае</li>\n",
    "    <li><b>Sex</b> - пол</li>\n",
    "    <li><b>MaritalStatus</b> - семейный статус</li>\n",
    "    <li><b>Age</b> - возраст водителя</li>\n",
    "    <li><b>Fault</b> - виновное лицо</li>\n",
    "    <li><b>PolicyType</b> - тип полиса</li>\n",
    "    <li><b>VehicleCategory</b> - категория автомобиля</li>\n",
    "    <li><b>VehiclePrice</b> - стоимость автомобиля</li>\n",
    "    <li><b>PolicyNumber</b> - номер полиса</li>\n",
    "    <li><b>RepNumber</b> - номер агента</li>\n",
    "    <li><b>Deductible</b> - франшиза (невозмещаемая часть ущерба страхователя)</li>\n",
    "    <li><b>DriverRating</b> - рейтинг водителя</li>\n",
    "    <li><b>Days_Policy_Accident</b> - количество дней между покупкой полиса и страховым случаем</li>\n",
    "    <li><b>Days_Policy_Claim</b> - количество дней, прошедших между покупкой полиса и подачей заявления о страховом случае</li>\n",
    "    <li><b>PastNumberOfClaims</b> - количество ранее поданных заявлений</li>\n",
    "    <li><b>AgeOfVehicle</b> - срок эксплуатации автомобиля</li>\n",
    "    <li><b>AgeOfPolicyHolder</b> - возраст страхователя</li>\n",
    "    <li><b>PoliceReportFiled</b> - факт подачи заявления в полицию</li>\n",
    "    <li><b>WitnessPresent</b> - наличие свидетеля</li>\n",
    "    <li><b>AgentType</b> - тип агента</li>\n",
    "    <li><b>NumberOfSuppliments</b> - количество принимаемых медицинских препаратов, витаминов\n",
    "    <li><b>AddressChange_Claim</b> - время с момента подачи заявления до момента, когда человек подал заявку на изменение адреса</li>\n",
    "    <li><b>NumberOfCars</b> - число автомобилей, вовлечённых в страховой случай</li>\n",
    "    <li><b>Year</b> - год</li>\n",
    "    <li><b>BasePolicy</b> - вид страхового покрытия</li>\n",
    "    <li><b>FraudFound_P</b> - обнаружено мошенничество</li>\n",
    "</ul>"
   ]
  },
  {
   "cell_type": "markdown",
   "metadata": {},
   "source": [
    "### Целевой атрибут"
   ]
  },
  {
   "cell_type": "markdown",
   "metadata": {},
   "source": [
    "<b>FraudFound_P</b> - обнаружено мошенничество (1 - целевой класс)"
   ]
  },
  {
   "cell_type": "markdown",
   "metadata": {},
   "source": [
    "## Этап 1. Сбор (загрузка) данных"
   ]
  },
  {
   "cell_type": "markdown",
   "metadata": {},
   "source": [
    "### 1.1 Подключение необходимых библиотек"
   ]
  },
  {
   "cell_type": "code",
   "execution_count": 1,
   "metadata": {},
   "outputs": [],
   "source": [
    "import numpy as np\n",
    "import pandas as pd\n",
    "\n",
    "from scipy.stats import shapiro, mannwhitneyu, chi2_contingency\n",
    "\n",
    "from sklearn.model_selection import train_test_split, RandomizedSearchCV\n",
    "from sklearn.linear_model import LogisticRegression\n",
    "from sklearn.neighbors import KNeighborsClassifier\n",
    "from sklearn.ensemble import RandomForestClassifier\n",
    "from xgboost import XGBClassifier\n",
    "from sklearn.preprocessing import StandardScaler\n",
    "from sklearn.metrics import classification_report, confusion_matrix, ConfusionMatrixDisplay, f1_score\n",
    "\n",
    "from imblearn.over_sampling import SMOTE\n",
    "\n",
    "import matplotlib\n",
    "import matplotlib.pyplot as plt\n",
    "import seaborn as sns\n",
    "%matplotlib inline\n",
    "\n",
    "import timeit\n",
    "\n",
    "import warnings\n",
    "warnings.filterwarnings(\"ignore\")"
   ]
  },
  {
   "cell_type": "code",
   "execution_count": 2,
   "metadata": {},
   "outputs": [],
   "source": [
    "matplotlib.rcParams.update({\"font.size\": 14})"
   ]
  },
  {
   "cell_type": "markdown",
   "metadata": {},
   "source": [
    "##### Сброс ограничений на число столбцов"
   ]
  },
  {
   "cell_type": "code",
   "execution_count": 3,
   "metadata": {},
   "outputs": [],
   "source": [
    "pd.set_option(\"display.max_columns\", None)"
   ]
  },
  {
   "cell_type": "markdown",
   "metadata": {},
   "source": [
    "##### Сброс ограничений на ширину ячейки"
   ]
  },
  {
   "cell_type": "code",
   "execution_count": 4,
   "metadata": {},
   "outputs": [],
   "source": [
    "pd.set_option(\"display.max_colwidth\", -1)"
   ]
  },
  {
   "cell_type": "markdown",
   "metadata": {},
   "source": [
    "### 1.2 Загрузка данных"
   ]
  },
  {
   "cell_type": "code",
   "execution_count": 5,
   "metadata": {},
   "outputs": [],
   "source": [
    "df = pd.read_csv(\"fraud.csv\")"
   ]
  },
  {
   "cell_type": "code",
   "execution_count": 6,
   "metadata": {
    "scrolled": false
   },
   "outputs": [
    {
     "data": {
      "text/html": [
       "<div>\n",
       "<style scoped>\n",
       "    .dataframe tbody tr th:only-of-type {\n",
       "        vertical-align: middle;\n",
       "    }\n",
       "\n",
       "    .dataframe tbody tr th {\n",
       "        vertical-align: top;\n",
       "    }\n",
       "\n",
       "    .dataframe thead th {\n",
       "        text-align: right;\n",
       "    }\n",
       "</style>\n",
       "<table border=\"1\" class=\"dataframe\">\n",
       "  <thead>\n",
       "    <tr style=\"text-align: right;\">\n",
       "      <th></th>\n",
       "      <th>Month</th>\n",
       "      <th>WeekOfMonth</th>\n",
       "      <th>DayOfWeek</th>\n",
       "      <th>Make</th>\n",
       "      <th>AccidentArea</th>\n",
       "      <th>DayOfWeekClaimed</th>\n",
       "      <th>MonthClaimed</th>\n",
       "      <th>WeekOfMonthClaimed</th>\n",
       "      <th>Sex</th>\n",
       "      <th>MaritalStatus</th>\n",
       "      <th>Age</th>\n",
       "      <th>Fault</th>\n",
       "      <th>PolicyType</th>\n",
       "      <th>VehicleCategory</th>\n",
       "      <th>VehiclePrice</th>\n",
       "      <th>PolicyNumber</th>\n",
       "      <th>RepNumber</th>\n",
       "      <th>Deductible</th>\n",
       "      <th>DriverRating</th>\n",
       "      <th>Days_Policy_Accident</th>\n",
       "      <th>Days_Policy_Claim</th>\n",
       "      <th>PastNumberOfClaims</th>\n",
       "      <th>AgeOfVehicle</th>\n",
       "      <th>AgeOfPolicyHolder</th>\n",
       "      <th>PoliceReportFiled</th>\n",
       "      <th>WitnessPresent</th>\n",
       "      <th>AgentType</th>\n",
       "      <th>NumberOfSuppliments</th>\n",
       "      <th>AddressChange_Claim</th>\n",
       "      <th>NumberOfCars</th>\n",
       "      <th>Year</th>\n",
       "      <th>BasePolicy</th>\n",
       "      <th>FraudFound_P</th>\n",
       "    </tr>\n",
       "  </thead>\n",
       "  <tbody>\n",
       "    <tr>\n",
       "      <td>15415</td>\n",
       "      <td>Nov</td>\n",
       "      <td>4</td>\n",
       "      <td>Friday</td>\n",
       "      <td>Toyota</td>\n",
       "      <td>Urban</td>\n",
       "      <td>Tuesday</td>\n",
       "      <td>Nov</td>\n",
       "      <td>5</td>\n",
       "      <td>Male</td>\n",
       "      <td>Married</td>\n",
       "      <td>35</td>\n",
       "      <td>Policy Holder</td>\n",
       "      <td>Sedan - Collision</td>\n",
       "      <td>Sedan</td>\n",
       "      <td>20000 to 29000</td>\n",
       "      <td>15416</td>\n",
       "      <td>5</td>\n",
       "      <td>400</td>\n",
       "      <td>4</td>\n",
       "      <td>more than 30</td>\n",
       "      <td>more than 30</td>\n",
       "      <td>2 to 4</td>\n",
       "      <td>6 years</td>\n",
       "      <td>31 to 35</td>\n",
       "      <td>No</td>\n",
       "      <td>No</td>\n",
       "      <td>External</td>\n",
       "      <td>none</td>\n",
       "      <td>no change</td>\n",
       "      <td>1 vehicle</td>\n",
       "      <td>1996</td>\n",
       "      <td>Collision</td>\n",
       "      <td>1</td>\n",
       "    </tr>\n",
       "    <tr>\n",
       "      <td>15416</td>\n",
       "      <td>Nov</td>\n",
       "      <td>5</td>\n",
       "      <td>Thursday</td>\n",
       "      <td>Pontiac</td>\n",
       "      <td>Urban</td>\n",
       "      <td>Friday</td>\n",
       "      <td>Dec</td>\n",
       "      <td>1</td>\n",
       "      <td>Male</td>\n",
       "      <td>Married</td>\n",
       "      <td>30</td>\n",
       "      <td>Policy Holder</td>\n",
       "      <td>Sedan - Liability</td>\n",
       "      <td>Sport</td>\n",
       "      <td>30000 to 39000</td>\n",
       "      <td>15417</td>\n",
       "      <td>11</td>\n",
       "      <td>400</td>\n",
       "      <td>3</td>\n",
       "      <td>more than 30</td>\n",
       "      <td>more than 30</td>\n",
       "      <td>more than 4</td>\n",
       "      <td>6 years</td>\n",
       "      <td>31 to 35</td>\n",
       "      <td>No</td>\n",
       "      <td>No</td>\n",
       "      <td>External</td>\n",
       "      <td>more than 5</td>\n",
       "      <td>no change</td>\n",
       "      <td>3 to 4</td>\n",
       "      <td>1996</td>\n",
       "      <td>Liability</td>\n",
       "      <td>0</td>\n",
       "    </tr>\n",
       "    <tr>\n",
       "      <td>15417</td>\n",
       "      <td>Nov</td>\n",
       "      <td>5</td>\n",
       "      <td>Thursday</td>\n",
       "      <td>Toyota</td>\n",
       "      <td>Rural</td>\n",
       "      <td>Friday</td>\n",
       "      <td>Dec</td>\n",
       "      <td>1</td>\n",
       "      <td>Male</td>\n",
       "      <td>Single</td>\n",
       "      <td>24</td>\n",
       "      <td>Policy Holder</td>\n",
       "      <td>Sedan - Collision</td>\n",
       "      <td>Sedan</td>\n",
       "      <td>20000 to 29000</td>\n",
       "      <td>15418</td>\n",
       "      <td>4</td>\n",
       "      <td>400</td>\n",
       "      <td>4</td>\n",
       "      <td>more than 30</td>\n",
       "      <td>more than 30</td>\n",
       "      <td>more than 4</td>\n",
       "      <td>5 years</td>\n",
       "      <td>26 to 30</td>\n",
       "      <td>No</td>\n",
       "      <td>No</td>\n",
       "      <td>External</td>\n",
       "      <td>1 to 2</td>\n",
       "      <td>no change</td>\n",
       "      <td>1 vehicle</td>\n",
       "      <td>1996</td>\n",
       "      <td>Collision</td>\n",
       "      <td>1</td>\n",
       "    </tr>\n",
       "    <tr>\n",
       "      <td>15418</td>\n",
       "      <td>Dec</td>\n",
       "      <td>1</td>\n",
       "      <td>Monday</td>\n",
       "      <td>Toyota</td>\n",
       "      <td>Urban</td>\n",
       "      <td>Thursday</td>\n",
       "      <td>Dec</td>\n",
       "      <td>2</td>\n",
       "      <td>Female</td>\n",
       "      <td>Married</td>\n",
       "      <td>34</td>\n",
       "      <td>Third Party</td>\n",
       "      <td>Sedan - All Perils</td>\n",
       "      <td>Sedan</td>\n",
       "      <td>20000 to 29000</td>\n",
       "      <td>15419</td>\n",
       "      <td>6</td>\n",
       "      <td>400</td>\n",
       "      <td>4</td>\n",
       "      <td>more than 30</td>\n",
       "      <td>more than 30</td>\n",
       "      <td>none</td>\n",
       "      <td>2 years</td>\n",
       "      <td>31 to 35</td>\n",
       "      <td>No</td>\n",
       "      <td>No</td>\n",
       "      <td>External</td>\n",
       "      <td>more than 5</td>\n",
       "      <td>no change</td>\n",
       "      <td>1 vehicle</td>\n",
       "      <td>1996</td>\n",
       "      <td>All Perils</td>\n",
       "      <td>0</td>\n",
       "    </tr>\n",
       "    <tr>\n",
       "      <td>15419</td>\n",
       "      <td>Dec</td>\n",
       "      <td>2</td>\n",
       "      <td>Wednesday</td>\n",
       "      <td>Toyota</td>\n",
       "      <td>Urban</td>\n",
       "      <td>Thursday</td>\n",
       "      <td>Dec</td>\n",
       "      <td>3</td>\n",
       "      <td>Male</td>\n",
       "      <td>Single</td>\n",
       "      <td>21</td>\n",
       "      <td>Policy Holder</td>\n",
       "      <td>Sedan - Collision</td>\n",
       "      <td>Sedan</td>\n",
       "      <td>20000 to 29000</td>\n",
       "      <td>15420</td>\n",
       "      <td>3</td>\n",
       "      <td>400</td>\n",
       "      <td>4</td>\n",
       "      <td>more than 30</td>\n",
       "      <td>more than 30</td>\n",
       "      <td>none</td>\n",
       "      <td>5 years</td>\n",
       "      <td>26 to 30</td>\n",
       "      <td>No</td>\n",
       "      <td>No</td>\n",
       "      <td>External</td>\n",
       "      <td>1 to 2</td>\n",
       "      <td>no change</td>\n",
       "      <td>1 vehicle</td>\n",
       "      <td>1996</td>\n",
       "      <td>Collision</td>\n",
       "      <td>1</td>\n",
       "    </tr>\n",
       "  </tbody>\n",
       "</table>\n",
       "</div>"
      ],
      "text/plain": [
       "      Month  WeekOfMonth  DayOfWeek     Make AccidentArea DayOfWeekClaimed  \\\n",
       "15415  Nov   4            Friday     Toyota   Urban        Tuesday           \n",
       "15416  Nov   5            Thursday   Pontiac  Urban        Friday            \n",
       "15417  Nov   5            Thursday   Toyota   Rural        Friday            \n",
       "15418  Dec   1            Monday     Toyota   Urban        Thursday          \n",
       "15419  Dec   2            Wednesday  Toyota   Urban        Thursday          \n",
       "\n",
       "      MonthClaimed  WeekOfMonthClaimed     Sex MaritalStatus  Age  \\\n",
       "15415  Nov          5                   Male    Married       35    \n",
       "15416  Dec          1                   Male    Married       30    \n",
       "15417  Dec          1                   Male    Single        24    \n",
       "15418  Dec          2                   Female  Married       34    \n",
       "15419  Dec          3                   Male    Single        21    \n",
       "\n",
       "               Fault          PolicyType VehicleCategory    VehiclePrice  \\\n",
       "15415  Policy Holder  Sedan - Collision   Sedan           20000 to 29000   \n",
       "15416  Policy Holder  Sedan - Liability   Sport           30000 to 39000   \n",
       "15417  Policy Holder  Sedan - Collision   Sedan           20000 to 29000   \n",
       "15418  Third Party    Sedan - All Perils  Sedan           20000 to 29000   \n",
       "15419  Policy Holder  Sedan - Collision   Sedan           20000 to 29000   \n",
       "\n",
       "       PolicyNumber  RepNumber  Deductible  DriverRating Days_Policy_Accident  \\\n",
       "15415  15416         5          400         4             more than 30          \n",
       "15416  15417         11         400         3             more than 30          \n",
       "15417  15418         4          400         4             more than 30          \n",
       "15418  15419         6          400         4             more than 30          \n",
       "15419  15420         3          400         4             more than 30          \n",
       "\n",
       "      Days_Policy_Claim PastNumberOfClaims AgeOfVehicle AgeOfPolicyHolder  \\\n",
       "15415  more than 30      2 to 4             6 years      31 to 35           \n",
       "15416  more than 30      more than 4        6 years      31 to 35           \n",
       "15417  more than 30      more than 4        5 years      26 to 30           \n",
       "15418  more than 30      none               2 years      31 to 35           \n",
       "15419  more than 30      none               5 years      26 to 30           \n",
       "\n",
       "      PoliceReportFiled WitnessPresent AgentType NumberOfSuppliments  \\\n",
       "15415  No                No             External  none                 \n",
       "15416  No                No             External  more than 5          \n",
       "15417  No                No             External  1 to 2               \n",
       "15418  No                No             External  more than 5          \n",
       "15419  No                No             External  1 to 2               \n",
       "\n",
       "      AddressChange_Claim NumberOfCars  Year  BasePolicy  FraudFound_P  \n",
       "15415  no change           1 vehicle    1996  Collision   1             \n",
       "15416  no change           3 to 4       1996  Liability   0             \n",
       "15417  no change           1 vehicle    1996  Collision   1             \n",
       "15418  no change           1 vehicle    1996  All Perils  0             \n",
       "15419  no change           1 vehicle    1996  Collision   1             "
      ]
     },
     "execution_count": 6,
     "metadata": {},
     "output_type": "execute_result"
    }
   ],
   "source": [
    "df.tail()"
   ]
  },
  {
   "cell_type": "code",
   "execution_count": 7,
   "metadata": {},
   "outputs": [],
   "source": [
    "TARGET = \"FraudFound_P\""
   ]
  },
  {
   "cell_type": "markdown",
   "metadata": {},
   "source": [
    "## Этап 2. Первичный анализ данных"
   ]
  },
  {
   "cell_type": "markdown",
   "metadata": {},
   "source": [
    "### 2.1 Обзор структуры датасета"
   ]
  },
  {
   "cell_type": "code",
   "execution_count": 8,
   "metadata": {
    "scrolled": false
   },
   "outputs": [
    {
     "data": {
      "text/plain": [
       "Month                   object\n",
       "WeekOfMonth             int64 \n",
       "DayOfWeek               object\n",
       "Make                    object\n",
       "AccidentArea            object\n",
       "DayOfWeekClaimed        object\n",
       "MonthClaimed            object\n",
       "WeekOfMonthClaimed      int64 \n",
       "Sex                     object\n",
       "MaritalStatus           object\n",
       "Age                     int64 \n",
       "Fault                   object\n",
       "PolicyType              object\n",
       "VehicleCategory         object\n",
       "VehiclePrice            object\n",
       "PolicyNumber            int64 \n",
       "RepNumber               int64 \n",
       "Deductible              int64 \n",
       "DriverRating            int64 \n",
       "Days_Policy_Accident    object\n",
       "Days_Policy_Claim       object\n",
       "PastNumberOfClaims      object\n",
       "AgeOfVehicle            object\n",
       "AgeOfPolicyHolder       object\n",
       "PoliceReportFiled       object\n",
       "WitnessPresent          object\n",
       "AgentType               object\n",
       "NumberOfSuppliments     object\n",
       "AddressChange_Claim     object\n",
       "NumberOfCars            object\n",
       "Year                    int64 \n",
       "BasePolicy              object\n",
       "FraudFound_P            int64 \n",
       "dtype: object"
      ]
     },
     "execution_count": 8,
     "metadata": {},
     "output_type": "execute_result"
    }
   ],
   "source": [
    "df.dtypes"
   ]
  },
  {
   "cell_type": "markdown",
   "metadata": {},
   "source": [
    "<i>Признак 'PolicyNumber' не является информативным, определим его в качестве индекса</i>"
   ]
  },
  {
   "cell_type": "code",
   "execution_count": 9,
   "metadata": {
    "scrolled": false
   },
   "outputs": [
    {
     "data": {
      "text/html": [
       "<div>\n",
       "<style scoped>\n",
       "    .dataframe tbody tr th:only-of-type {\n",
       "        vertical-align: middle;\n",
       "    }\n",
       "\n",
       "    .dataframe tbody tr th {\n",
       "        vertical-align: top;\n",
       "    }\n",
       "\n",
       "    .dataframe thead th {\n",
       "        text-align: right;\n",
       "    }\n",
       "</style>\n",
       "<table border=\"1\" class=\"dataframe\">\n",
       "  <thead>\n",
       "    <tr style=\"text-align: right;\">\n",
       "      <th></th>\n",
       "      <th>Month</th>\n",
       "      <th>WeekOfMonth</th>\n",
       "      <th>DayOfWeek</th>\n",
       "      <th>Make</th>\n",
       "      <th>AccidentArea</th>\n",
       "      <th>DayOfWeekClaimed</th>\n",
       "      <th>MonthClaimed</th>\n",
       "      <th>WeekOfMonthClaimed</th>\n",
       "      <th>Sex</th>\n",
       "      <th>MaritalStatus</th>\n",
       "      <th>Age</th>\n",
       "      <th>Fault</th>\n",
       "      <th>PolicyType</th>\n",
       "      <th>VehicleCategory</th>\n",
       "      <th>VehiclePrice</th>\n",
       "      <th>RepNumber</th>\n",
       "      <th>Deductible</th>\n",
       "      <th>DriverRating</th>\n",
       "      <th>Days_Policy_Accident</th>\n",
       "      <th>Days_Policy_Claim</th>\n",
       "      <th>PastNumberOfClaims</th>\n",
       "      <th>AgeOfVehicle</th>\n",
       "      <th>AgeOfPolicyHolder</th>\n",
       "      <th>PoliceReportFiled</th>\n",
       "      <th>WitnessPresent</th>\n",
       "      <th>AgentType</th>\n",
       "      <th>NumberOfSuppliments</th>\n",
       "      <th>AddressChange_Claim</th>\n",
       "      <th>NumberOfCars</th>\n",
       "      <th>Year</th>\n",
       "      <th>BasePolicy</th>\n",
       "      <th>FraudFound_P</th>\n",
       "    </tr>\n",
       "    <tr>\n",
       "      <th>PolicyNumber</th>\n",
       "      <th></th>\n",
       "      <th></th>\n",
       "      <th></th>\n",
       "      <th></th>\n",
       "      <th></th>\n",
       "      <th></th>\n",
       "      <th></th>\n",
       "      <th></th>\n",
       "      <th></th>\n",
       "      <th></th>\n",
       "      <th></th>\n",
       "      <th></th>\n",
       "      <th></th>\n",
       "      <th></th>\n",
       "      <th></th>\n",
       "      <th></th>\n",
       "      <th></th>\n",
       "      <th></th>\n",
       "      <th></th>\n",
       "      <th></th>\n",
       "      <th></th>\n",
       "      <th></th>\n",
       "      <th></th>\n",
       "      <th></th>\n",
       "      <th></th>\n",
       "      <th></th>\n",
       "      <th></th>\n",
       "      <th></th>\n",
       "      <th></th>\n",
       "      <th></th>\n",
       "      <th></th>\n",
       "      <th></th>\n",
       "    </tr>\n",
       "  </thead>\n",
       "  <tbody>\n",
       "    <tr>\n",
       "      <td>1</td>\n",
       "      <td>Dec</td>\n",
       "      <td>5</td>\n",
       "      <td>Wednesday</td>\n",
       "      <td>Honda</td>\n",
       "      <td>Urban</td>\n",
       "      <td>Tuesday</td>\n",
       "      <td>Jan</td>\n",
       "      <td>1</td>\n",
       "      <td>Female</td>\n",
       "      <td>Single</td>\n",
       "      <td>21</td>\n",
       "      <td>Policy Holder</td>\n",
       "      <td>Sport - Liability</td>\n",
       "      <td>Sport</td>\n",
       "      <td>more than 69000</td>\n",
       "      <td>12</td>\n",
       "      <td>300</td>\n",
       "      <td>1</td>\n",
       "      <td>more than 30</td>\n",
       "      <td>more than 30</td>\n",
       "      <td>none</td>\n",
       "      <td>3 years</td>\n",
       "      <td>26 to 30</td>\n",
       "      <td>No</td>\n",
       "      <td>No</td>\n",
       "      <td>External</td>\n",
       "      <td>none</td>\n",
       "      <td>1 year</td>\n",
       "      <td>3 to 4</td>\n",
       "      <td>1994</td>\n",
       "      <td>Liability</td>\n",
       "      <td>0</td>\n",
       "    </tr>\n",
       "    <tr>\n",
       "      <td>2</td>\n",
       "      <td>Jan</td>\n",
       "      <td>3</td>\n",
       "      <td>Wednesday</td>\n",
       "      <td>Honda</td>\n",
       "      <td>Urban</td>\n",
       "      <td>Monday</td>\n",
       "      <td>Jan</td>\n",
       "      <td>4</td>\n",
       "      <td>Male</td>\n",
       "      <td>Single</td>\n",
       "      <td>34</td>\n",
       "      <td>Policy Holder</td>\n",
       "      <td>Sport - Collision</td>\n",
       "      <td>Sport</td>\n",
       "      <td>more than 69000</td>\n",
       "      <td>15</td>\n",
       "      <td>400</td>\n",
       "      <td>4</td>\n",
       "      <td>more than 30</td>\n",
       "      <td>more than 30</td>\n",
       "      <td>none</td>\n",
       "      <td>6 years</td>\n",
       "      <td>31 to 35</td>\n",
       "      <td>Yes</td>\n",
       "      <td>No</td>\n",
       "      <td>External</td>\n",
       "      <td>none</td>\n",
       "      <td>no change</td>\n",
       "      <td>1 vehicle</td>\n",
       "      <td>1994</td>\n",
       "      <td>Collision</td>\n",
       "      <td>0</td>\n",
       "    </tr>\n",
       "    <tr>\n",
       "      <td>3</td>\n",
       "      <td>Oct</td>\n",
       "      <td>5</td>\n",
       "      <td>Friday</td>\n",
       "      <td>Honda</td>\n",
       "      <td>Urban</td>\n",
       "      <td>Thursday</td>\n",
       "      <td>Nov</td>\n",
       "      <td>2</td>\n",
       "      <td>Male</td>\n",
       "      <td>Married</td>\n",
       "      <td>47</td>\n",
       "      <td>Policy Holder</td>\n",
       "      <td>Sport - Collision</td>\n",
       "      <td>Sport</td>\n",
       "      <td>more than 69000</td>\n",
       "      <td>7</td>\n",
       "      <td>400</td>\n",
       "      <td>3</td>\n",
       "      <td>more than 30</td>\n",
       "      <td>more than 30</td>\n",
       "      <td>1</td>\n",
       "      <td>7 years</td>\n",
       "      <td>41 to 50</td>\n",
       "      <td>No</td>\n",
       "      <td>No</td>\n",
       "      <td>External</td>\n",
       "      <td>none</td>\n",
       "      <td>no change</td>\n",
       "      <td>1 vehicle</td>\n",
       "      <td>1994</td>\n",
       "      <td>Collision</td>\n",
       "      <td>0</td>\n",
       "    </tr>\n",
       "    <tr>\n",
       "      <td>4</td>\n",
       "      <td>Jun</td>\n",
       "      <td>2</td>\n",
       "      <td>Saturday</td>\n",
       "      <td>Toyota</td>\n",
       "      <td>Rural</td>\n",
       "      <td>Friday</td>\n",
       "      <td>Jul</td>\n",
       "      <td>1</td>\n",
       "      <td>Male</td>\n",
       "      <td>Married</td>\n",
       "      <td>65</td>\n",
       "      <td>Third Party</td>\n",
       "      <td>Sedan - Liability</td>\n",
       "      <td>Sport</td>\n",
       "      <td>20000 to 29000</td>\n",
       "      <td>4</td>\n",
       "      <td>400</td>\n",
       "      <td>2</td>\n",
       "      <td>more than 30</td>\n",
       "      <td>more than 30</td>\n",
       "      <td>1</td>\n",
       "      <td>more than 7</td>\n",
       "      <td>51 to 65</td>\n",
       "      <td>Yes</td>\n",
       "      <td>No</td>\n",
       "      <td>External</td>\n",
       "      <td>more than 5</td>\n",
       "      <td>no change</td>\n",
       "      <td>1 vehicle</td>\n",
       "      <td>1994</td>\n",
       "      <td>Liability</td>\n",
       "      <td>0</td>\n",
       "    </tr>\n",
       "    <tr>\n",
       "      <td>5</td>\n",
       "      <td>Jan</td>\n",
       "      <td>5</td>\n",
       "      <td>Monday</td>\n",
       "      <td>Honda</td>\n",
       "      <td>Urban</td>\n",
       "      <td>Tuesday</td>\n",
       "      <td>Feb</td>\n",
       "      <td>2</td>\n",
       "      <td>Female</td>\n",
       "      <td>Single</td>\n",
       "      <td>27</td>\n",
       "      <td>Third Party</td>\n",
       "      <td>Sport - Collision</td>\n",
       "      <td>Sport</td>\n",
       "      <td>more than 69000</td>\n",
       "      <td>3</td>\n",
       "      <td>400</td>\n",
       "      <td>1</td>\n",
       "      <td>more than 30</td>\n",
       "      <td>more than 30</td>\n",
       "      <td>none</td>\n",
       "      <td>5 years</td>\n",
       "      <td>31 to 35</td>\n",
       "      <td>No</td>\n",
       "      <td>No</td>\n",
       "      <td>External</td>\n",
       "      <td>none</td>\n",
       "      <td>no change</td>\n",
       "      <td>1 vehicle</td>\n",
       "      <td>1994</td>\n",
       "      <td>Collision</td>\n",
       "      <td>0</td>\n",
       "    </tr>\n",
       "  </tbody>\n",
       "</table>\n",
       "</div>"
      ],
      "text/plain": [
       "             Month  WeekOfMonth  DayOfWeek    Make AccidentArea  \\\n",
       "PolicyNumber                                                      \n",
       "1             Dec   5            Wednesday  Honda   Urban         \n",
       "2             Jan   3            Wednesday  Honda   Urban         \n",
       "3             Oct   5            Friday     Honda   Urban         \n",
       "4             Jun   2            Saturday   Toyota  Rural         \n",
       "5             Jan   5            Monday     Honda   Urban         \n",
       "\n",
       "             DayOfWeekClaimed MonthClaimed  WeekOfMonthClaimed     Sex  \\\n",
       "PolicyNumber                                                             \n",
       "1             Tuesday          Jan          1                   Female   \n",
       "2             Monday           Jan          4                   Male     \n",
       "3             Thursday         Nov          2                   Male     \n",
       "4             Friday           Jul          1                   Male     \n",
       "5             Tuesday          Feb          2                   Female   \n",
       "\n",
       "             MaritalStatus  Age          Fault         PolicyType  \\\n",
       "PolicyNumber                                                        \n",
       "1             Single        21   Policy Holder  Sport - Liability   \n",
       "2             Single        34   Policy Holder  Sport - Collision   \n",
       "3             Married       47   Policy Holder  Sport - Collision   \n",
       "4             Married       65   Third Party    Sedan - Liability   \n",
       "5             Single        27   Third Party    Sport - Collision   \n",
       "\n",
       "             VehicleCategory     VehiclePrice  RepNumber  Deductible  \\\n",
       "PolicyNumber                                                           \n",
       "1             Sport           more than 69000  12         300          \n",
       "2             Sport           more than 69000  15         400          \n",
       "3             Sport           more than 69000  7          400          \n",
       "4             Sport           20000 to 29000   4          400          \n",
       "5             Sport           more than 69000  3          400          \n",
       "\n",
       "              DriverRating Days_Policy_Accident Days_Policy_Claim  \\\n",
       "PolicyNumber                                                        \n",
       "1             1             more than 30         more than 30       \n",
       "2             4             more than 30         more than 30       \n",
       "3             3             more than 30         more than 30       \n",
       "4             2             more than 30         more than 30       \n",
       "5             1             more than 30         more than 30       \n",
       "\n",
       "             PastNumberOfClaims AgeOfVehicle AgeOfPolicyHolder  \\\n",
       "PolicyNumber                                                     \n",
       "1             none               3 years      26 to 30           \n",
       "2             none               6 years      31 to 35           \n",
       "3             1                  7 years      41 to 50           \n",
       "4             1                  more than 7  51 to 65           \n",
       "5             none               5 years      31 to 35           \n",
       "\n",
       "             PoliceReportFiled WitnessPresent AgentType NumberOfSuppliments  \\\n",
       "PolicyNumber                                                                  \n",
       "1             No                No             External  none                 \n",
       "2             Yes               No             External  none                 \n",
       "3             No                No             External  none                 \n",
       "4             Yes               No             External  more than 5          \n",
       "5             No                No             External  none                 \n",
       "\n",
       "             AddressChange_Claim NumberOfCars  Year BasePolicy  FraudFound_P  \n",
       "PolicyNumber                                                                  \n",
       "1             1 year              3 to 4       1994  Liability  0             \n",
       "2             no change           1 vehicle    1994  Collision  0             \n",
       "3             no change           1 vehicle    1994  Collision  0             \n",
       "4             no change           1 vehicle    1994  Liability  0             \n",
       "5             no change           1 vehicle    1994  Collision  0             "
      ]
     },
     "execution_count": 9,
     "metadata": {},
     "output_type": "execute_result"
    }
   ],
   "source": [
    "df.set_index(\"PolicyNumber\", inplace=True)\n",
    "df.head()"
   ]
  },
  {
   "cell_type": "markdown",
   "metadata": {},
   "source": [
    "<i>Сгруппируем переменные в зависимости от шкалы, в которой представлены их значения</i>"
   ]
  },
  {
   "cell_type": "code",
   "execution_count": 10,
   "metadata": {},
   "outputs": [],
   "source": [
    "numeric_features = df.select_dtypes(include = [\"int64\"]).columns.to_list()\n",
    "nominative_features = df.select_dtypes(include = [\"object\"]).columns.to_list()\n",
    "features = df.drop(columns=[TARGET]).columns"
   ]
  },
  {
   "cell_type": "code",
   "execution_count": 11,
   "metadata": {},
   "outputs": [
    {
     "name": "stdout",
     "output_type": "stream",
     "text": [
      "Количество объектов в датасете - 15420, признаков - 32.\n",
      "Из них представлено в категориальной шкале - 24,\n",
      "\t\t    в количественной - 8\n"
     ]
    }
   ],
   "source": [
    "print(f\"Количество объектов в датасете - {df.shape[0]}, признаков - {df.shape[1]}.\",\n",
    "      f\"Из них представлено в категориальной шкале - {len(nominative_features)},\", \n",
    "      f\"\\t\\t    в количественной - {len(numeric_features)}\", sep=\"\\n\")"
   ]
  },
  {
   "cell_type": "markdown",
   "metadata": {},
   "source": [
    "### 2.2 Обзор количественных переменных"
   ]
  },
  {
   "cell_type": "markdown",
   "metadata": {},
   "source": [
    "<i>Исключим целевую переменную из списка независимых количественных</i>"
   ]
  },
  {
   "cell_type": "code",
   "execution_count": 12,
   "metadata": {
    "scrolled": true
   },
   "outputs": [
    {
     "data": {
      "text/plain": [
       "['WeekOfMonth',\n",
       " 'WeekOfMonthClaimed',\n",
       " 'Age',\n",
       " 'RepNumber',\n",
       " 'Deductible',\n",
       " 'DriverRating',\n",
       " 'Year']"
      ]
     },
     "execution_count": 12,
     "metadata": {},
     "output_type": "execute_result"
    }
   ],
   "source": [
    "numeric_features = numeric_features[:-1]\n",
    "numeric_features"
   ]
  },
  {
   "cell_type": "markdown",
   "metadata": {},
   "source": [
    "##### Вывод описательных статистик"
   ]
  },
  {
   "cell_type": "code",
   "execution_count": 13,
   "metadata": {
    "scrolled": true
   },
   "outputs": [
    {
     "data": {
      "text/html": [
       "<div>\n",
       "<style scoped>\n",
       "    .dataframe tbody tr th:only-of-type {\n",
       "        vertical-align: middle;\n",
       "    }\n",
       "\n",
       "    .dataframe tbody tr th {\n",
       "        vertical-align: top;\n",
       "    }\n",
       "\n",
       "    .dataframe thead th {\n",
       "        text-align: right;\n",
       "    }\n",
       "</style>\n",
       "<table border=\"1\" class=\"dataframe\">\n",
       "  <thead>\n",
       "    <tr style=\"text-align: right;\">\n",
       "      <th></th>\n",
       "      <th>WeekOfMonth</th>\n",
       "      <th>WeekOfMonthClaimed</th>\n",
       "      <th>Age</th>\n",
       "      <th>RepNumber</th>\n",
       "      <th>Deductible</th>\n",
       "      <th>DriverRating</th>\n",
       "      <th>Year</th>\n",
       "    </tr>\n",
       "  </thead>\n",
       "  <tbody>\n",
       "    <tr>\n",
       "      <td>count</td>\n",
       "      <td>15420.000000</td>\n",
       "      <td>15420.000000</td>\n",
       "      <td>15420.000000</td>\n",
       "      <td>15420.000000</td>\n",
       "      <td>15420.000000</td>\n",
       "      <td>15420.000000</td>\n",
       "      <td>15420.000000</td>\n",
       "    </tr>\n",
       "    <tr>\n",
       "      <td>mean</td>\n",
       "      <td>2.788586</td>\n",
       "      <td>2.693969</td>\n",
       "      <td>39.855707</td>\n",
       "      <td>8.483268</td>\n",
       "      <td>407.704280</td>\n",
       "      <td>2.487808</td>\n",
       "      <td>1994.866472</td>\n",
       "    </tr>\n",
       "    <tr>\n",
       "      <td>std</td>\n",
       "      <td>1.287585</td>\n",
       "      <td>1.259115</td>\n",
       "      <td>13.492377</td>\n",
       "      <td>4.599948</td>\n",
       "      <td>43.950998</td>\n",
       "      <td>1.119453</td>\n",
       "      <td>0.803313</td>\n",
       "    </tr>\n",
       "    <tr>\n",
       "      <td>min</td>\n",
       "      <td>1.000000</td>\n",
       "      <td>1.000000</td>\n",
       "      <td>0.000000</td>\n",
       "      <td>1.000000</td>\n",
       "      <td>300.000000</td>\n",
       "      <td>1.000000</td>\n",
       "      <td>1994.000000</td>\n",
       "    </tr>\n",
       "    <tr>\n",
       "      <td>25%</td>\n",
       "      <td>2.000000</td>\n",
       "      <td>2.000000</td>\n",
       "      <td>31.000000</td>\n",
       "      <td>5.000000</td>\n",
       "      <td>400.000000</td>\n",
       "      <td>1.000000</td>\n",
       "      <td>1994.000000</td>\n",
       "    </tr>\n",
       "    <tr>\n",
       "      <td>50%</td>\n",
       "      <td>3.000000</td>\n",
       "      <td>3.000000</td>\n",
       "      <td>38.000000</td>\n",
       "      <td>8.000000</td>\n",
       "      <td>400.000000</td>\n",
       "      <td>2.000000</td>\n",
       "      <td>1995.000000</td>\n",
       "    </tr>\n",
       "    <tr>\n",
       "      <td>75%</td>\n",
       "      <td>4.000000</td>\n",
       "      <td>4.000000</td>\n",
       "      <td>48.000000</td>\n",
       "      <td>12.000000</td>\n",
       "      <td>400.000000</td>\n",
       "      <td>3.000000</td>\n",
       "      <td>1996.000000</td>\n",
       "    </tr>\n",
       "    <tr>\n",
       "      <td>max</td>\n",
       "      <td>5.000000</td>\n",
       "      <td>5.000000</td>\n",
       "      <td>80.000000</td>\n",
       "      <td>16.000000</td>\n",
       "      <td>700.000000</td>\n",
       "      <td>4.000000</td>\n",
       "      <td>1996.000000</td>\n",
       "    </tr>\n",
       "  </tbody>\n",
       "</table>\n",
       "</div>"
      ],
      "text/plain": [
       "        WeekOfMonth  WeekOfMonthClaimed           Age     RepNumber  \\\n",
       "count  15420.000000  15420.000000        15420.000000  15420.000000   \n",
       "mean   2.788586      2.693969            39.855707     8.483268       \n",
       "std    1.287585      1.259115            13.492377     4.599948       \n",
       "min    1.000000      1.000000            0.000000      1.000000       \n",
       "25%    2.000000      2.000000            31.000000     5.000000       \n",
       "50%    3.000000      3.000000            38.000000     8.000000       \n",
       "75%    4.000000      4.000000            48.000000     12.000000      \n",
       "max    5.000000      5.000000            80.000000     16.000000      \n",
       "\n",
       "         Deductible  DriverRating          Year  \n",
       "count  15420.000000  15420.000000  15420.000000  \n",
       "mean   407.704280    2.487808      1994.866472   \n",
       "std    43.950998     1.119453      0.803313      \n",
       "min    300.000000    1.000000      1994.000000   \n",
       "25%    400.000000    1.000000      1994.000000   \n",
       "50%    400.000000    2.000000      1995.000000   \n",
       "75%    400.000000    3.000000      1996.000000   \n",
       "max    700.000000    4.000000      1996.000000   "
      ]
     },
     "execution_count": 13,
     "metadata": {},
     "output_type": "execute_result"
    }
   ],
   "source": [
    "df[numeric_features].describe()"
   ]
  },
  {
   "cell_type": "markdown",
   "metadata": {},
   "source": [
    "### 2.3 Обзор качественных переменных"
   ]
  },
  {
   "cell_type": "markdown",
   "metadata": {},
   "source": [
    "<i>Отобразим информацию о преобладающем классе и о количестве уникальных меток каждого номинативного атрибута</i>"
   ]
  },
  {
   "cell_type": "code",
   "execution_count": 14,
   "metadata": {},
   "outputs": [],
   "source": [
    "nominative_statistics = np.transpose(df[nominative_features].describe()).reset_index().drop(columns=[\"count\"]).\\\n",
    "rename(columns={\"index\": \"feature\", \"top\": \"predominating class\", \"freq\": \"frequency\"})"
   ]
  },
  {
   "cell_type": "code",
   "execution_count": 15,
   "metadata": {},
   "outputs": [],
   "source": [
    "for column in nominative_features:\n",
    "    nominative_statistics.loc[nominative_statistics[\"feature\"] == column, \"categories\"] \\\n",
    "    = \", \".join(list(df[column].unique()))"
   ]
  },
  {
   "cell_type": "code",
   "execution_count": 16,
   "metadata": {
    "scrolled": false
   },
   "outputs": [
    {
     "data": {
      "text/html": [
       "<div>\n",
       "<style scoped>\n",
       "    .dataframe tbody tr th:only-of-type {\n",
       "        vertical-align: middle;\n",
       "    }\n",
       "\n",
       "    .dataframe tbody tr th {\n",
       "        vertical-align: top;\n",
       "    }\n",
       "\n",
       "    .dataframe thead th {\n",
       "        text-align: right;\n",
       "    }\n",
       "</style>\n",
       "<table border=\"1\" class=\"dataframe\">\n",
       "  <thead>\n",
       "    <tr style=\"text-align: right;\">\n",
       "      <th></th>\n",
       "      <th>feature</th>\n",
       "      <th>unique</th>\n",
       "      <th>predominating class</th>\n",
       "      <th>frequency</th>\n",
       "      <th>categories</th>\n",
       "    </tr>\n",
       "  </thead>\n",
       "  <tbody>\n",
       "    <tr>\n",
       "      <td>0</td>\n",
       "      <td>Month</td>\n",
       "      <td>12</td>\n",
       "      <td>Jan</td>\n",
       "      <td>1411</td>\n",
       "      <td>Dec, Jan, Oct, Jun, Feb, Nov, Apr, Mar, Aug, Jul, May, Sep</td>\n",
       "    </tr>\n",
       "    <tr>\n",
       "      <td>1</td>\n",
       "      <td>DayOfWeek</td>\n",
       "      <td>7</td>\n",
       "      <td>Monday</td>\n",
       "      <td>2616</td>\n",
       "      <td>Wednesday, Friday, Saturday, Monday, Tuesday, Sunday, Thursday</td>\n",
       "    </tr>\n",
       "    <tr>\n",
       "      <td>2</td>\n",
       "      <td>Make</td>\n",
       "      <td>19</td>\n",
       "      <td>Pontiac</td>\n",
       "      <td>3837</td>\n",
       "      <td>Honda, Toyota, Ford, Mazda, Chevrolet, Pontiac, Accura, Dodge, Mercury, Jaguar, Nisson, VW, Saab, Saturn, Porche, BMW, Mecedes, Ferrari, Lexus</td>\n",
       "    </tr>\n",
       "    <tr>\n",
       "      <td>3</td>\n",
       "      <td>AccidentArea</td>\n",
       "      <td>2</td>\n",
       "      <td>Urban</td>\n",
       "      <td>13822</td>\n",
       "      <td>Urban, Rural</td>\n",
       "    </tr>\n",
       "    <tr>\n",
       "      <td>4</td>\n",
       "      <td>DayOfWeekClaimed</td>\n",
       "      <td>8</td>\n",
       "      <td>Monday</td>\n",
       "      <td>3757</td>\n",
       "      <td>Tuesday, Monday, Thursday, Friday, Wednesday, Saturday, Sunday, 0</td>\n",
       "    </tr>\n",
       "    <tr>\n",
       "      <td>5</td>\n",
       "      <td>MonthClaimed</td>\n",
       "      <td>13</td>\n",
       "      <td>Jan</td>\n",
       "      <td>1446</td>\n",
       "      <td>Jan, Nov, Jul, Feb, Mar, Dec, Apr, Aug, May, Jun, Sep, Oct, 0</td>\n",
       "    </tr>\n",
       "    <tr>\n",
       "      <td>6</td>\n",
       "      <td>Sex</td>\n",
       "      <td>2</td>\n",
       "      <td>Male</td>\n",
       "      <td>13000</td>\n",
       "      <td>Female, Male</td>\n",
       "    </tr>\n",
       "    <tr>\n",
       "      <td>7</td>\n",
       "      <td>MaritalStatus</td>\n",
       "      <td>4</td>\n",
       "      <td>Married</td>\n",
       "      <td>10625</td>\n",
       "      <td>Single, Married, Widow, Divorced</td>\n",
       "    </tr>\n",
       "    <tr>\n",
       "      <td>8</td>\n",
       "      <td>Fault</td>\n",
       "      <td>2</td>\n",
       "      <td>Policy Holder</td>\n",
       "      <td>11230</td>\n",
       "      <td>Policy Holder, Third Party</td>\n",
       "    </tr>\n",
       "    <tr>\n",
       "      <td>9</td>\n",
       "      <td>PolicyType</td>\n",
       "      <td>9</td>\n",
       "      <td>Sedan - Collision</td>\n",
       "      <td>5584</td>\n",
       "      <td>Sport - Liability, Sport - Collision, Sedan - Liability, Utility - All Perils, Sedan - All Perils, Sedan - Collision, Utility - Collision, Utility - Liability, Sport - All Perils</td>\n",
       "    </tr>\n",
       "    <tr>\n",
       "      <td>10</td>\n",
       "      <td>VehicleCategory</td>\n",
       "      <td>3</td>\n",
       "      <td>Sedan</td>\n",
       "      <td>9671</td>\n",
       "      <td>Sport, Utility, Sedan</td>\n",
       "    </tr>\n",
       "    <tr>\n",
       "      <td>11</td>\n",
       "      <td>VehiclePrice</td>\n",
       "      <td>6</td>\n",
       "      <td>20000 to 29000</td>\n",
       "      <td>8079</td>\n",
       "      <td>more than 69000, 20000 to 29000, 30000 to 39000, less than 20000, 40000 to 59000, 60000 to 69000</td>\n",
       "    </tr>\n",
       "    <tr>\n",
       "      <td>12</td>\n",
       "      <td>Days_Policy_Accident</td>\n",
       "      <td>5</td>\n",
       "      <td>more than 30</td>\n",
       "      <td>15247</td>\n",
       "      <td>more than 30, 15 to 30, none, 1 to 7, 8 to 15</td>\n",
       "    </tr>\n",
       "    <tr>\n",
       "      <td>13</td>\n",
       "      <td>Days_Policy_Claim</td>\n",
       "      <td>4</td>\n",
       "      <td>more than 30</td>\n",
       "      <td>15342</td>\n",
       "      <td>more than 30, 15 to 30, 8 to 15, none</td>\n",
       "    </tr>\n",
       "    <tr>\n",
       "      <td>14</td>\n",
       "      <td>PastNumberOfClaims</td>\n",
       "      <td>4</td>\n",
       "      <td>2 to 4</td>\n",
       "      <td>5485</td>\n",
       "      <td>none, 1, 2 to 4, more than 4</td>\n",
       "    </tr>\n",
       "    <tr>\n",
       "      <td>15</td>\n",
       "      <td>AgeOfVehicle</td>\n",
       "      <td>8</td>\n",
       "      <td>7 years</td>\n",
       "      <td>5807</td>\n",
       "      <td>3 years, 6 years, 7 years, more than 7, 5 years, new, 4 years, 2 years</td>\n",
       "    </tr>\n",
       "    <tr>\n",
       "      <td>16</td>\n",
       "      <td>AgeOfPolicyHolder</td>\n",
       "      <td>9</td>\n",
       "      <td>31 to 35</td>\n",
       "      <td>5593</td>\n",
       "      <td>26 to 30, 31 to 35, 41 to 50, 51 to 65, 21 to 25, 36 to 40, 16 to 17, over 65, 18 to 20</td>\n",
       "    </tr>\n",
       "    <tr>\n",
       "      <td>17</td>\n",
       "      <td>PoliceReportFiled</td>\n",
       "      <td>2</td>\n",
       "      <td>No</td>\n",
       "      <td>14992</td>\n",
       "      <td>No, Yes</td>\n",
       "    </tr>\n",
       "    <tr>\n",
       "      <td>18</td>\n",
       "      <td>WitnessPresent</td>\n",
       "      <td>2</td>\n",
       "      <td>No</td>\n",
       "      <td>15333</td>\n",
       "      <td>No, Yes</td>\n",
       "    </tr>\n",
       "    <tr>\n",
       "      <td>19</td>\n",
       "      <td>AgentType</td>\n",
       "      <td>2</td>\n",
       "      <td>External</td>\n",
       "      <td>15179</td>\n",
       "      <td>External, Internal</td>\n",
       "    </tr>\n",
       "    <tr>\n",
       "      <td>20</td>\n",
       "      <td>NumberOfSuppliments</td>\n",
       "      <td>4</td>\n",
       "      <td>none</td>\n",
       "      <td>7047</td>\n",
       "      <td>none, more than 5, 3 to 5, 1 to 2</td>\n",
       "    </tr>\n",
       "    <tr>\n",
       "      <td>21</td>\n",
       "      <td>AddressChange_Claim</td>\n",
       "      <td>5</td>\n",
       "      <td>no change</td>\n",
       "      <td>14324</td>\n",
       "      <td>1 year, no change, 4 to 8 years, 2 to 3 years, under 6 months</td>\n",
       "    </tr>\n",
       "    <tr>\n",
       "      <td>22</td>\n",
       "      <td>NumberOfCars</td>\n",
       "      <td>5</td>\n",
       "      <td>1 vehicle</td>\n",
       "      <td>14316</td>\n",
       "      <td>3 to 4, 1 vehicle, 2 vehicles, 5 to 8, more than 8</td>\n",
       "    </tr>\n",
       "    <tr>\n",
       "      <td>23</td>\n",
       "      <td>BasePolicy</td>\n",
       "      <td>3</td>\n",
       "      <td>Collision</td>\n",
       "      <td>5962</td>\n",
       "      <td>Liability, Collision, All Perils</td>\n",
       "    </tr>\n",
       "  </tbody>\n",
       "</table>\n",
       "</div>"
      ],
      "text/plain": [
       "                 feature unique predominating class frequency  \\\n",
       "0   Month                 12     Jan                 1411       \n",
       "1   DayOfWeek             7      Monday              2616       \n",
       "2   Make                  19     Pontiac             3837       \n",
       "3   AccidentArea          2      Urban               13822      \n",
       "4   DayOfWeekClaimed      8      Monday              3757       \n",
       "5   MonthClaimed          13     Jan                 1446       \n",
       "6   Sex                   2      Male                13000      \n",
       "7   MaritalStatus         4      Married             10625      \n",
       "8   Fault                 2      Policy Holder       11230      \n",
       "9   PolicyType            9      Sedan - Collision   5584       \n",
       "10  VehicleCategory       3      Sedan               9671       \n",
       "11  VehiclePrice          6      20000 to 29000      8079       \n",
       "12  Days_Policy_Accident  5      more than 30        15247      \n",
       "13  Days_Policy_Claim     4      more than 30        15342      \n",
       "14  PastNumberOfClaims    4      2 to 4              5485       \n",
       "15  AgeOfVehicle          8      7 years             5807       \n",
       "16  AgeOfPolicyHolder     9      31 to 35            5593       \n",
       "17  PoliceReportFiled     2      No                  14992      \n",
       "18  WitnessPresent        2      No                  15333      \n",
       "19  AgentType             2      External            15179      \n",
       "20  NumberOfSuppliments   4      none                7047       \n",
       "21  AddressChange_Claim   5      no change           14324      \n",
       "22  NumberOfCars          5      1 vehicle           14316      \n",
       "23  BasePolicy            3      Collision           5962       \n",
       "\n",
       "                                                                                                                                                                            categories  \n",
       "0   Dec, Jan, Oct, Jun, Feb, Nov, Apr, Mar, Aug, Jul, May, Sep                                                                                                                          \n",
       "1   Wednesday, Friday, Saturday, Monday, Tuesday, Sunday, Thursday                                                                                                                      \n",
       "2   Honda, Toyota, Ford, Mazda, Chevrolet, Pontiac, Accura, Dodge, Mercury, Jaguar, Nisson, VW, Saab, Saturn, Porche, BMW, Mecedes, Ferrari, Lexus                                      \n",
       "3   Urban, Rural                                                                                                                                                                        \n",
       "4   Tuesday, Monday, Thursday, Friday, Wednesday, Saturday, Sunday, 0                                                                                                                   \n",
       "5   Jan, Nov, Jul, Feb, Mar, Dec, Apr, Aug, May, Jun, Sep, Oct, 0                                                                                                                       \n",
       "6   Female, Male                                                                                                                                                                        \n",
       "7   Single, Married, Widow, Divorced                                                                                                                                                    \n",
       "8   Policy Holder, Third Party                                                                                                                                                          \n",
       "9   Sport - Liability, Sport - Collision, Sedan - Liability, Utility - All Perils, Sedan - All Perils, Sedan - Collision, Utility - Collision, Utility - Liability, Sport - All Perils  \n",
       "10  Sport, Utility, Sedan                                                                                                                                                               \n",
       "11  more than 69000, 20000 to 29000, 30000 to 39000, less than 20000, 40000 to 59000, 60000 to 69000                                                                                    \n",
       "12  more than 30, 15 to 30, none, 1 to 7, 8 to 15                                                                                                                                       \n",
       "13  more than 30, 15 to 30, 8 to 15, none                                                                                                                                               \n",
       "14  none, 1, 2 to 4, more than 4                                                                                                                                                        \n",
       "15  3 years, 6 years, 7 years, more than 7, 5 years, new, 4 years, 2 years                                                                                                              \n",
       "16  26 to 30, 31 to 35, 41 to 50, 51 to 65, 21 to 25, 36 to 40, 16 to 17, over 65, 18 to 20                                                                                             \n",
       "17  No, Yes                                                                                                                                                                             \n",
       "18  No, Yes                                                                                                                                                                             \n",
       "19  External, Internal                                                                                                                                                                  \n",
       "20  none, more than 5, 3 to 5, 1 to 2                                                                                                                                                   \n",
       "21  1 year, no change, 4 to 8 years, 2 to 3 years, under 6 months                                                                                                                       \n",
       "22  3 to 4, 1 vehicle, 2 vehicles, 5 to 8, more than 8                                                                                                                                  \n",
       "23  Liability, Collision, All Perils                                                                                                                                                    "
      ]
     },
     "execution_count": 16,
     "metadata": {},
     "output_type": "execute_result"
    }
   ],
   "source": [
    "nominative_statistics"
   ]
  },
  {
   "cell_type": "markdown",
   "metadata": {},
   "source": [
    "### 2.4 Анализ целевого атрибута"
   ]
  },
  {
   "cell_type": "code",
   "execution_count": 17,
   "metadata": {},
   "outputs": [],
   "source": [
    "COLORS = [\"#80ADD7\", \"#F3B05A\"]"
   ]
  },
  {
   "cell_type": "code",
   "execution_count": 18,
   "metadata": {
    "scrolled": false
   },
   "outputs": [
    {
     "data": {
      "image/png": "[encoded data removed]",
      "text/plain": [
       "<Figure size 576x576 with 1 Axes>"
      ]
     },
     "metadata": {},
     "output_type": "display_data"
    }
   ],
   "source": [
    "pie_data = df[TARGET].value_counts()\n",
    "plt.figure(figsize=(8, 8))\n",
    "plt.pie(pie_data,  autopct=lambda p: f\"{sum(pie_data) * p/100 :.0f} - {p:.2f}%\", explode=(0, 0.075), startangle=10,\n",
    "        colors=COLORS, labels=[f\"Исход без\\nмошенничества\", f\"Исход с\\nмошенничеством\"])\n",
    "plt.title(\"Дисбаланс классов целевого признака\")\n",
    "plt.show()"
   ]
  },
  {
   "cell_type": "markdown",
   "metadata": {},
   "source": [
    "## Этап 3. Предобработка данных и анализ взаимосвязи переменных"
   ]
  },
  {
   "cell_type": "markdown",
   "metadata": {},
   "source": [
    "### 3.1 Обработка грязных данных (дупликатов, пропущенных значений, выбросов (outliers))\n",
    "<ul>\n",
    "    <li>Удаление строк с грязными данными</li>\n",
    "    <li>Заполнение средними статистиками (среднее, медиана, мода)</li>\n",
    "    <li>Бездействие</li>\n",
    "    <li>Генерация новых фичей</li>\n",
    "</ul>"
   ]
  },
  {
   "cell_type": "markdown",
   "metadata": {},
   "source": [
    "#### Поиск дубликатов"
   ]
  },
  {
   "cell_type": "code",
   "execution_count": 19,
   "metadata": {},
   "outputs": [
    {
     "data": {
      "text/plain": [
       "0"
      ]
     },
     "execution_count": 19,
     "metadata": {},
     "output_type": "execute_result"
    }
   ],
   "source": [
    "df.duplicated(keep=False).sum()"
   ]
  },
  {
   "cell_type": "markdown",
   "metadata": {},
   "source": [
    "<i>Дубликаты отсутствуют</i>"
   ]
  },
  {
   "cell_type": "markdown",
   "metadata": {},
   "source": [
    "#### Сводные данные о пропусках"
   ]
  },
  {
   "cell_type": "code",
   "execution_count": 20,
   "metadata": {},
   "outputs": [
    {
     "data": {
      "text/plain": [
       "0"
      ]
     },
     "execution_count": 20,
     "metadata": {},
     "output_type": "execute_result"
    }
   ],
   "source": [
    "df.isna().sum().sum()"
   ]
  },
  {
   "cell_type": "markdown",
   "metadata": {},
   "source": [
    "<i>Явных пропусков нет. Однако, на основе таблицы с описательными статистиками минимумом для возраста является 0.<br> Изучим распределение данной переменной.</i>"
   ]
  },
  {
   "cell_type": "code",
   "execution_count": 21,
   "metadata": {},
   "outputs": [
    {
     "data": {
      "text/html": [
       "<div>\n",
       "<style scoped>\n",
       "    .dataframe tbody tr th:only-of-type {\n",
       "        vertical-align: middle;\n",
       "    }\n",
       "\n",
       "    .dataframe tbody tr th {\n",
       "        vertical-align: top;\n",
       "    }\n",
       "\n",
       "    .dataframe thead th {\n",
       "        text-align: right;\n",
       "    }\n",
       "</style>\n",
       "<table border=\"1\" class=\"dataframe\">\n",
       "  <thead>\n",
       "    <tr style=\"text-align: right;\">\n",
       "      <th></th>\n",
       "      <th>Age</th>\n",
       "      <th>quantity</th>\n",
       "    </tr>\n",
       "  </thead>\n",
       "  <tbody>\n",
       "    <tr>\n",
       "      <td>20</td>\n",
       "      <td>0</td>\n",
       "      <td>320</td>\n",
       "    </tr>\n",
       "    <tr>\n",
       "      <td>64</td>\n",
       "      <td>16</td>\n",
       "      <td>9</td>\n",
       "    </tr>\n",
       "    <tr>\n",
       "      <td>65</td>\n",
       "      <td>17</td>\n",
       "      <td>6</td>\n",
       "    </tr>\n",
       "    <tr>\n",
       "      <td>46</td>\n",
       "      <td>18</td>\n",
       "      <td>48</td>\n",
       "    </tr>\n",
       "    <tr>\n",
       "      <td>56</td>\n",
       "      <td>19</td>\n",
       "      <td>32</td>\n",
       "    </tr>\n",
       "    <tr>\n",
       "      <td>...</td>\n",
       "      <td>...</td>\n",
       "      <td>...</td>\n",
       "    </tr>\n",
       "    <tr>\n",
       "      <td>49</td>\n",
       "      <td>76</td>\n",
       "      <td>42</td>\n",
       "    </tr>\n",
       "    <tr>\n",
       "      <td>60</td>\n",
       "      <td>77</td>\n",
       "      <td>29</td>\n",
       "    </tr>\n",
       "    <tr>\n",
       "      <td>52</td>\n",
       "      <td>78</td>\n",
       "      <td>35</td>\n",
       "    </tr>\n",
       "    <tr>\n",
       "      <td>63</td>\n",
       "      <td>79</td>\n",
       "      <td>20</td>\n",
       "    </tr>\n",
       "    <tr>\n",
       "      <td>57</td>\n",
       "      <td>80</td>\n",
       "      <td>32</td>\n",
       "    </tr>\n",
       "  </tbody>\n",
       "</table>\n",
       "<p>66 rows × 2 columns</p>\n",
       "</div>"
      ],
      "text/plain": [
       "    Age  quantity\n",
       "20  0    320     \n",
       "64  16   9       \n",
       "65  17   6       \n",
       "46  18   48      \n",
       "56  19   32      \n",
       "..  ..   ..      \n",
       "49  76   42      \n",
       "60  77   29      \n",
       "52  78   35      \n",
       "63  79   20      \n",
       "57  80   32      \n",
       "\n",
       "[66 rows x 2 columns]"
      ]
     },
     "execution_count": 21,
     "metadata": {},
     "output_type": "execute_result"
    }
   ],
   "source": [
    "pd.DataFrame(df[\"Age\"].value_counts()).reset_index().sort_values(by=\"index\").\\\n",
    "rename(columns={\"index\": \"Age\", \"Age\": \"quantity\"})"
   ]
  },
  {
   "cell_type": "markdown",
   "metadata": {},
   "source": [
    "<i>Обнаружено 253 пропуска для переменной Age. Обработаем их</i>"
   ]
  },
  {
   "cell_type": "code",
   "execution_count": 22,
   "metadata": {},
   "outputs": [
    {
     "data": {
      "text/plain": [
       "Series([], Name: Age, dtype: float64)"
      ]
     },
     "execution_count": 22,
     "metadata": {},
     "output_type": "execute_result"
    }
   ],
   "source": [
    "df.loc[df[\"Age\"] == 0, \"Age\"] = df.loc[df[\"Age\"] != 0, \"Age\"].median()\n",
    "df.loc[df[\"Age\"] == 0, \"Age\"]"
   ]
  },
  {
   "cell_type": "markdown",
   "metadata": {},
   "source": [
    "<i>Проанализируем пропуски переменных MonthClaimed и DayOfWeekClaimed</i>"
   ]
  },
  {
   "cell_type": "code",
   "execution_count": 23,
   "metadata": {
    "scrolled": true
   },
   "outputs": [
    {
     "data": {
      "text/html": [
       "<div>\n",
       "<style scoped>\n",
       "    .dataframe tbody tr th:only-of-type {\n",
       "        vertical-align: middle;\n",
       "    }\n",
       "\n",
       "    .dataframe tbody tr th {\n",
       "        vertical-align: top;\n",
       "    }\n",
       "\n",
       "    .dataframe thead th {\n",
       "        text-align: right;\n",
       "    }\n",
       "</style>\n",
       "<table border=\"1\" class=\"dataframe\">\n",
       "  <thead>\n",
       "    <tr style=\"text-align: right;\">\n",
       "      <th></th>\n",
       "      <th>Month</th>\n",
       "      <th>WeekOfMonth</th>\n",
       "      <th>DayOfWeek</th>\n",
       "      <th>Make</th>\n",
       "      <th>AccidentArea</th>\n",
       "      <th>DayOfWeekClaimed</th>\n",
       "      <th>MonthClaimed</th>\n",
       "      <th>WeekOfMonthClaimed</th>\n",
       "      <th>Sex</th>\n",
       "      <th>MaritalStatus</th>\n",
       "      <th>Age</th>\n",
       "      <th>Fault</th>\n",
       "      <th>PolicyType</th>\n",
       "      <th>VehicleCategory</th>\n",
       "      <th>VehiclePrice</th>\n",
       "      <th>RepNumber</th>\n",
       "      <th>Deductible</th>\n",
       "      <th>DriverRating</th>\n",
       "      <th>Days_Policy_Accident</th>\n",
       "      <th>Days_Policy_Claim</th>\n",
       "      <th>PastNumberOfClaims</th>\n",
       "      <th>AgeOfVehicle</th>\n",
       "      <th>AgeOfPolicyHolder</th>\n",
       "      <th>PoliceReportFiled</th>\n",
       "      <th>WitnessPresent</th>\n",
       "      <th>AgentType</th>\n",
       "      <th>NumberOfSuppliments</th>\n",
       "      <th>AddressChange_Claim</th>\n",
       "      <th>NumberOfCars</th>\n",
       "      <th>Year</th>\n",
       "      <th>BasePolicy</th>\n",
       "      <th>FraudFound_P</th>\n",
       "    </tr>\n",
       "    <tr>\n",
       "      <th>PolicyNumber</th>\n",
       "      <th></th>\n",
       "      <th></th>\n",
       "      <th></th>\n",
       "      <th></th>\n",
       "      <th></th>\n",
       "      <th></th>\n",
       "      <th></th>\n",
       "      <th></th>\n",
       "      <th></th>\n",
       "      <th></th>\n",
       "      <th></th>\n",
       "      <th></th>\n",
       "      <th></th>\n",
       "      <th></th>\n",
       "      <th></th>\n",
       "      <th></th>\n",
       "      <th></th>\n",
       "      <th></th>\n",
       "      <th></th>\n",
       "      <th></th>\n",
       "      <th></th>\n",
       "      <th></th>\n",
       "      <th></th>\n",
       "      <th></th>\n",
       "      <th></th>\n",
       "      <th></th>\n",
       "      <th></th>\n",
       "      <th></th>\n",
       "      <th></th>\n",
       "      <th></th>\n",
       "      <th></th>\n",
       "      <th></th>\n",
       "    </tr>\n",
       "  </thead>\n",
       "  <tbody>\n",
       "    <tr>\n",
       "      <td>1517</td>\n",
       "      <td>Jul</td>\n",
       "      <td>2</td>\n",
       "      <td>Monday</td>\n",
       "      <td>Honda</td>\n",
       "      <td>Rural</td>\n",
       "      <td>0</td>\n",
       "      <td>0</td>\n",
       "      <td>1</td>\n",
       "      <td>Male</td>\n",
       "      <td>Single</td>\n",
       "      <td>39.0</td>\n",
       "      <td>Policy Holder</td>\n",
       "      <td>Sedan - All Perils</td>\n",
       "      <td>Sedan</td>\n",
       "      <td>more than 69000</td>\n",
       "      <td>15</td>\n",
       "      <td>400</td>\n",
       "      <td>2</td>\n",
       "      <td>more than 30</td>\n",
       "      <td>none</td>\n",
       "      <td>none</td>\n",
       "      <td>new</td>\n",
       "      <td>16 to 17</td>\n",
       "      <td>No</td>\n",
       "      <td>No</td>\n",
       "      <td>External</td>\n",
       "      <td>none</td>\n",
       "      <td>no change</td>\n",
       "      <td>1 vehicle</td>\n",
       "      <td>1994</td>\n",
       "      <td>All Perils</td>\n",
       "      <td>0</td>\n",
       "    </tr>\n",
       "  </tbody>\n",
       "</table>\n",
       "</div>"
      ],
      "text/plain": [
       "             Month  WeekOfMonth DayOfWeek   Make AccidentArea  \\\n",
       "PolicyNumber                                                    \n",
       "1517          Jul   2            Monday    Honda  Rural         \n",
       "\n",
       "             DayOfWeekClaimed MonthClaimed  WeekOfMonthClaimed   Sex  \\\n",
       "PolicyNumber                                                           \n",
       "1517          0                0            1                   Male   \n",
       "\n",
       "             MaritalStatus   Age          Fault          PolicyType  \\\n",
       "PolicyNumber                                                          \n",
       "1517          Single        39.0  Policy Holder  Sedan - All Perils   \n",
       "\n",
       "             VehicleCategory     VehiclePrice  RepNumber  Deductible  \\\n",
       "PolicyNumber                                                           \n",
       "1517          Sedan           more than 69000  15         400          \n",
       "\n",
       "              DriverRating Days_Policy_Accident Days_Policy_Claim  \\\n",
       "PolicyNumber                                                        \n",
       "1517          2             more than 30         none               \n",
       "\n",
       "             PastNumberOfClaims AgeOfVehicle AgeOfPolicyHolder  \\\n",
       "PolicyNumber                                                     \n",
       "1517          none               new          16 to 17           \n",
       "\n",
       "             PoliceReportFiled WitnessPresent AgentType NumberOfSuppliments  \\\n",
       "PolicyNumber                                                                  \n",
       "1517          No                No             External  none                 \n",
       "\n",
       "             AddressChange_Claim NumberOfCars  Year  BasePolicy  FraudFound_P  \n",
       "PolicyNumber                                                                   \n",
       "1517          no change           1 vehicle    1994  All Perils  0             "
      ]
     },
     "execution_count": 23,
     "metadata": {},
     "output_type": "execute_result"
    }
   ],
   "source": [
    "df.loc[(df[\"DayOfWeekClaimed\"] == \"0\") | (df[\"MonthClaimed\"] == \"0\"), :]"
   ]
  },
  {
   "cell_type": "markdown",
   "metadata": {},
   "source": [
    "<i>Заменим данные пропуски модой распределений</i>"
   ]
  },
  {
   "cell_type": "code",
   "execution_count": 24,
   "metadata": {},
   "outputs": [
    {
     "data": {
      "text/plain": [
       "Month                   Jul               \n",
       "WeekOfMonth             2                 \n",
       "DayOfWeek               Monday            \n",
       "Make                    Honda             \n",
       "AccidentArea            Rural             \n",
       "DayOfWeekClaimed        Monday            \n",
       "MonthClaimed            Jan               \n",
       "WeekOfMonthClaimed      1                 \n",
       "Sex                     Male              \n",
       "MaritalStatus           Single            \n",
       "Age                     39                \n",
       "Fault                   Policy Holder     \n",
       "PolicyType              Sedan - All Perils\n",
       "VehicleCategory         Sedan             \n",
       "VehiclePrice            more than 69000   \n",
       "RepNumber               15                \n",
       "Deductible              400               \n",
       "DriverRating            2                 \n",
       "Days_Policy_Accident    more than 30      \n",
       "Days_Policy_Claim       none              \n",
       "PastNumberOfClaims      none              \n",
       "AgeOfVehicle            new               \n",
       "AgeOfPolicyHolder       16 to 17          \n",
       "PoliceReportFiled       No                \n",
       "WitnessPresent          No                \n",
       "AgentType               External          \n",
       "NumberOfSuppliments     none              \n",
       "AddressChange_Claim     no change         \n",
       "NumberOfCars            1 vehicle         \n",
       "Year                    1994              \n",
       "BasePolicy              All Perils        \n",
       "FraudFound_P            0                 \n",
       "Name: 1517, dtype: object"
      ]
     },
     "execution_count": 24,
     "metadata": {},
     "output_type": "execute_result"
    }
   ],
   "source": [
    "df.loc[df[\"DayOfWeekClaimed\"] == \"0\", \"DayOfWeekClaimed\"] = df.loc[df[\"DayOfWeekClaimed\"] != \"0\", \"DayOfWeekClaimed\"].mode()[0]\n",
    "df.loc[df[\"MonthClaimed\"] == \"0\", \"MonthClaimed\"] = df.loc[df[\"MonthClaimed\"] != \"0\", \"MonthClaimed\"].mode()[0]\n",
    "df.loc[1517, :]"
   ]
  },
  {
   "cell_type": "markdown",
   "metadata": {},
   "source": [
    "### 3.2 Исследование взаимосвязи независимых атрибутов с таргетом"
   ]
  },
  {
   "cell_type": "markdown",
   "metadata": {},
   "source": [
    "#### Функция для принятия решения о принятии/отклонении нулевой гипотезы"
   ]
  },
  {
   "cell_type": "code",
   "execution_count": 25,
   "metadata": {},
   "outputs": [],
   "source": [
    "def evaluate_pvalue(p_value, α):\n",
    "    if p_value < α:\n",
    "        return \"отклоняем нулевую гипотезу\"\n",
    "    else:\n",
    "        return \"принимаем нулевую гипотезу\""
   ]
  },
  {
   "cell_type": "markdown",
   "metadata": {},
   "source": [
    "<b>Кросс-таблица (таблица сопряжённости)</b> - таблица, которая показывает частоту, с которой появляются определенные группы данных"
   ]
  },
  {
   "cell_type": "markdown",
   "metadata": {},
   "source": [
    "#### Fault"
   ]
  },
  {
   "cell_type": "code",
   "execution_count": 26,
   "metadata": {
    "scrolled": true
   },
   "outputs": [
    {
     "data": {
      "text/html": [
       "<div>\n",
       "<style scoped>\n",
       "    .dataframe tbody tr th:only-of-type {\n",
       "        vertical-align: middle;\n",
       "    }\n",
       "\n",
       "    .dataframe tbody tr th {\n",
       "        vertical-align: top;\n",
       "    }\n",
       "\n",
       "    .dataframe thead th {\n",
       "        text-align: right;\n",
       "    }\n",
       "</style>\n",
       "<table border=\"1\" class=\"dataframe\">\n",
       "  <thead>\n",
       "    <tr style=\"text-align: right;\">\n",
       "      <th>Fault</th>\n",
       "      <th>Policy Holder</th>\n",
       "      <th>Third Party</th>\n",
       "    </tr>\n",
       "    <tr>\n",
       "      <th>FraudFound_P</th>\n",
       "      <th></th>\n",
       "      <th></th>\n",
       "    </tr>\n",
       "  </thead>\n",
       "  <tbody>\n",
       "    <tr>\n",
       "      <td>0</td>\n",
       "      <td>10344</td>\n",
       "      <td>4153</td>\n",
       "    </tr>\n",
       "    <tr>\n",
       "      <td>1</td>\n",
       "      <td>886</td>\n",
       "      <td>37</td>\n",
       "    </tr>\n",
       "  </tbody>\n",
       "</table>\n",
       "</div>"
      ],
      "text/plain": [
       "Fault         Policy Holder  Third Party\n",
       "FraudFound_P                            \n",
       "0             10344          4153       \n",
       "1             886            37         "
      ]
     },
     "execution_count": 26,
     "metadata": {},
     "output_type": "execute_result"
    }
   ],
   "source": [
    "contingency_table = pd.crosstab(df[TARGET], df[\"Fault\"])\n",
    "contingency_table"
   ]
  },
  {
   "cell_type": "markdown",
   "metadata": {},
   "source": [
    "<i>Построим гипотезы:\n",
    "    <ul>\n",
    "        <li>Нулевая гипотеза: отсутствуют статистически значимые различия между частотами объектов, представленных в каждой из групп</li>\n",
    "        <li>Альтернативная гипотеза: статистически значимые различия существуют</li>\n",
    "        <li>Пороговый уровень: α = 0.01</li>    \n",
    "    </ul>\n",
    "</i>"
   ]
  },
  {
   "cell_type": "markdown",
   "metadata": {},
   "source": [
    "<i>Определим ожидаемые частоты объектов в группах</i>"
   ]
  },
  {
   "cell_type": "code",
   "execution_count": 27,
   "metadata": {
    "scrolled": true
   },
   "outputs": [
    {
     "data": {
      "text/html": [
       "<div>\n",
       "<style scoped>\n",
       "    .dataframe tbody tr th:only-of-type {\n",
       "        vertical-align: middle;\n",
       "    }\n",
       "\n",
       "    .dataframe tbody tr th {\n",
       "        vertical-align: top;\n",
       "    }\n",
       "\n",
       "    .dataframe thead th {\n",
       "        text-align: right;\n",
       "    }\n",
       "</style>\n",
       "<table border=\"1\" class=\"dataframe\">\n",
       "  <thead>\n",
       "    <tr style=\"text-align: right;\">\n",
       "      <th></th>\n",
       "      <th>Rural</th>\n",
       "      <th>Urban</th>\n",
       "    </tr>\n",
       "  </thead>\n",
       "  <tbody>\n",
       "    <tr>\n",
       "      <td>0</td>\n",
       "      <td>10557.802205</td>\n",
       "      <td>3939.197795</td>\n",
       "    </tr>\n",
       "    <tr>\n",
       "      <td>1</td>\n",
       "      <td>672.197795</td>\n",
       "      <td>250.802205</td>\n",
       "    </tr>\n",
       "  </tbody>\n",
       "</table>\n",
       "</div>"
      ],
      "text/plain": [
       "          Rural        Urban\n",
       "0  10557.802205  3939.197795\n",
       "1  672.197795    250.802205 "
      ]
     },
     "execution_count": 27,
     "metadata": {},
     "output_type": "execute_result"
    }
   ],
   "source": [
    "pd.DataFrame(chi2_contingency(contingency_table)[3]).rename(columns={0: \"Rural\", 1: \"Urban\"})"
   ]
  },
  {
   "cell_type": "markdown",
   "metadata": {},
   "source": [
    "<i>Вычислим значение уровня значимости (p-value)</i>"
   ]
  },
  {
   "cell_type": "code",
   "execution_count": 28,
   "metadata": {},
   "outputs": [
    {
     "name": "stdout",
     "output_type": "stream",
     "text": [
      "1.4280361401294865e-59\n",
      "Отклоняем нулевую гипотезу\n"
     ]
    }
   ],
   "source": [
    "p_value = chi2_contingency(contingency_table)[1]\n",
    "print(p_value, evaluate_pvalue(p_value, 0.01).capitalize(), sep=\"\\n\")"
   ]
  },
  {
   "cell_type": "markdown",
   "metadata": {},
   "source": [
    "#### Выявление 'сильных' и 'слабых' номинативных признаков"
   ]
  },
  {
   "cell_type": "code",
   "execution_count": 29,
   "metadata": {},
   "outputs": [],
   "source": [
    "strong_features, weak_features = {\"nominative\": [], \"numeric\": []}, {\"nominative\": [], \"numeric\": []}"
   ]
  },
  {
   "cell_type": "code",
   "execution_count": 30,
   "metadata": {},
   "outputs": [
    {
     "name": "stdout",
     "output_type": "stream",
     "text": [
      "Предположительно, признаки Month, Make, AccidentArea, MonthClaimed, Sex, Fault, PolicyType, VehicleCategory, VehiclePrice, Days_Policy_Accident, PastNumberOfClaims, AgeOfVehicle, AgeOfPolicyHolder, AgentType, NumberOfSuppliments, AddressChange_Claim, BasePolicy имеют значимую взаимосвязь с FraudFound_P\n"
     ]
    }
   ],
   "source": [
    "for column in nominative_features:\n",
    "    contingency_table = pd.crosstab(df[TARGET], df[column])\n",
    "    p_value = chi2_contingency(contingency_table)[1]\n",
    "\n",
    "    if p_value < 0.05:\n",
    "        strong_features[\"nominative\"].append(column)\n",
    "    else:\n",
    "        weak_features[\"nominative\"].append(column)\n",
    "        \n",
    "print(f\"Предположительно, признаки {', '.join(strong_features['nominative'])} имеют значимую взаимосвязь с {TARGET}\")"
   ]
  },
  {
   "cell_type": "markdown",
   "metadata": {},
   "source": [
    "#### Age"
   ]
  },
  {
   "cell_type": "code",
   "execution_count": 31,
   "metadata": {},
   "outputs": [
    {
     "data": {
      "image/png": "[encoded data removed]",
      "text/plain": [
       "<Figure size 1296x576 with 1 Axes>"
      ]
     },
     "metadata": {
      "needs_background": "light"
     },
     "output_type": "display_data"
    }
   ],
   "source": [
    "age_with_target_sample = df[[\"Age\", TARGET]].sample(2000, random_state=42)\n",
    "age_sample = age_with_target_sample[\"Age\"]\n",
    "age_sample_with_target_is_0 = age_sample[age_with_target_sample[TARGET] == 0]\n",
    "age_sample_with_target_is_1 = age_sample[age_with_target_sample[TARGET] == 1]\n",
    "\n",
    "plt.figure(figsize=(18, 8))\n",
    "\n",
    "sns.kdeplot(age_sample_with_target_is_0, label=\"TARGET = 0\", shade=True, color=COLORS[0])\n",
    "sns.kdeplot(age_sample_with_target_is_1,  label=\"TARGET = 1\", shade=True, color=COLORS[1])\n",
    "\n",
    "plt.title(\"Гистограмма распределения возраста в разрезе целевой переменной\")\n",
    "plt.show()"
   ]
  },
  {
   "cell_type": "markdown",
   "metadata": {},
   "source": [
    "<i>Построим гипотезы:\n",
    "    <ul>\n",
    "        <li>Нулевая гипотеза: средние статистики в двух независимых выборках равны: μ<sub>1</sub> = μ<sub>2</sub></li>\n",
    "        <li>Альтернативная гипотеза: средние статистики в двух независимых выборках различны: μ<sub>1</sub> ≠ μ<sub>2</sub>     </li>\n",
    "        <li>Пороговый уровень: α = 0.05</li>\n",
    "    </ul>\n",
    "</i>"
   ]
  },
  {
   "cell_type": "markdown",
   "metadata": {},
   "source": [
    "<i>Проверим распределение Monthly Balance After Payment на нормальность</i>"
   ]
  },
  {
   "cell_type": "code",
   "execution_count": 32,
   "metadata": {
    "scrolled": true
   },
   "outputs": [
    {
     "name": "stdout",
     "output_type": "stream",
     "text": [
      "p-value = 4.6576433395266715e-25, отклоняем нулевую гипотезу о нормальности распределения\n"
     ]
    }
   ],
   "source": [
    "print(f\"p-value = {shapiro(age_sample)[1]},\", evaluate_pvalue(shapiro(age_sample)[1], 0.05), \"о нормальности распределения\")"
   ]
  },
  {
   "cell_type": "markdown",
   "metadata": {},
   "source": [
    "<i>Ввиду того, что распределение Age не подчиняется нормальному закону, для проверки статистической гипотезы будет использован непараметрический критерий Манна-Уитни</i>"
   ]
  },
  {
   "cell_type": "code",
   "execution_count": 33,
   "metadata": {},
   "outputs": [
    {
     "name": "stdout",
     "output_type": "stream",
     "text": [
      "p-value = 0.0015062439309564155, поэтому отклоняем нулевую гипотезу о равенстве средних двух распределений признака Age,полученных в результате разбиения объектов по классам целевого атрибута.\n"
     ]
    }
   ],
   "source": [
    "U, p_value = mannwhitneyu(age_sample_with_target_is_0, age_sample_with_target_is_1)\n",
    "print(f\"p-value = {p_value}, поэтому\", evaluate_pvalue(p_value, 0.05), \"о равенстве средних двух распределений признака Age,\"\n",
    "      \"полученных в результате разбиения объектов по классам целевого атрибута.\")"
   ]
  },
  {
   "cell_type": "markdown",
   "metadata": {},
   "source": [
    "#### Выявление 'сильных' и 'слабых' количественных признаков"
   ]
  },
  {
   "cell_type": "code",
   "execution_count": 34,
   "metadata": {},
   "outputs": [
    {
     "name": "stdout",
     "output_type": "stream",
     "text": [
      "Предположительно, признаки Age, RepNumber, Deductible имеют значимую взаимосвязь с FraudFound_P\n"
     ]
    }
   ],
   "source": [
    "for column in numeric_features:\n",
    "    feature_with_target_sample = df[[column, TARGET]].sample(2000, random_state=42)\n",
    "    feature_sample = feature_with_target_sample[column]\n",
    "    feature_sample_with_target_is_0 = feature_sample[feature_with_target_sample[TARGET] == 0]\n",
    "    feature_sample_with_target_is_1 = feature_sample[feature_with_target_sample[TARGET] == 1]\n",
    "    \n",
    "    U, p_value = mannwhitneyu(feature_sample_with_target_is_0, feature_sample_with_target_is_1)\n",
    "    \n",
    "    if p_value < 0.05:\n",
    "        strong_features[\"numeric\"].append(column)\n",
    "    else:\n",
    "        weak_features[\"numeric\"].append(column)\n",
    "        \n",
    "print(f\"Предположительно, признаки {', '.join(strong_features['numeric'])} имеют значимую взаимосвязь с {TARGET}\")"
   ]
  },
  {
   "cell_type": "markdown",
   "metadata": {},
   "source": [
    "### 3.3 Кодирование данных и генерация новых признаков"
   ]
  },
  {
   "cell_type": "markdown",
   "metadata": {},
   "source": [
    "#### Бинаризация (Feature Binarization)"
   ]
  },
  {
   "cell_type": "markdown",
   "metadata": {},
   "source": [
    "<b>Бинаризация</b> - представление признаков в двоичной шкале [0; 1]"
   ]
  },
  {
   "cell_type": "code",
   "execution_count": 35,
   "metadata": {},
   "outputs": [],
   "source": [
    "AccidentArea_binary = {\"Urban\": 1, \"Rural\": 0}\n",
    "Sex_binary = {\"Male\": 1, \"Female\": 0}\n",
    "Fault_binary = {\"Third Party\": 1, \"Policy Holder\": 0}\n",
    "WitnessPresent = {\"No\": 1, \"Yes\": 0}\n",
    "PoliceReportFiled_binary = {\"No\": 1, \"Yes\": 0}\n",
    "AgentType_binary = {\"External\": 1, \"Internal\": 0}"
   ]
  },
  {
   "cell_type": "code",
   "execution_count": 36,
   "metadata": {},
   "outputs": [],
   "source": [
    "binary_dict = {\"AccidentArea\": AccidentArea_binary, \"Sex\": Sex_binary, \"Fault\": Fault_binary, \"WitnessPresent\": WitnessPresent,\n",
    "              \"PoliceReportFiled\": PoliceReportFiled_binary, \"AgentType\": AgentType_binary}"
   ]
  },
  {
   "cell_type": "code",
   "execution_count": 37,
   "metadata": {},
   "outputs": [
    {
     "data": {
      "text/html": [
       "<div>\n",
       "<style scoped>\n",
       "    .dataframe tbody tr th:only-of-type {\n",
       "        vertical-align: middle;\n",
       "    }\n",
       "\n",
       "    .dataframe tbody tr th {\n",
       "        vertical-align: top;\n",
       "    }\n",
       "\n",
       "    .dataframe thead th {\n",
       "        text-align: right;\n",
       "    }\n",
       "</style>\n",
       "<table border=\"1\" class=\"dataframe\">\n",
       "  <thead>\n",
       "    <tr style=\"text-align: right;\">\n",
       "      <th></th>\n",
       "      <th>AccidentArea</th>\n",
       "      <th>Sex</th>\n",
       "      <th>Fault</th>\n",
       "      <th>WitnessPresent</th>\n",
       "      <th>PoliceReportFiled</th>\n",
       "      <th>AgentType</th>\n",
       "    </tr>\n",
       "    <tr>\n",
       "      <th>PolicyNumber</th>\n",
       "      <th></th>\n",
       "      <th></th>\n",
       "      <th></th>\n",
       "      <th></th>\n",
       "      <th></th>\n",
       "      <th></th>\n",
       "    </tr>\n",
       "  </thead>\n",
       "  <tbody>\n",
       "    <tr>\n",
       "      <td>1</td>\n",
       "      <td>1</td>\n",
       "      <td>0</td>\n",
       "      <td>0</td>\n",
       "      <td>1</td>\n",
       "      <td>1</td>\n",
       "      <td>1</td>\n",
       "    </tr>\n",
       "    <tr>\n",
       "      <td>2</td>\n",
       "      <td>1</td>\n",
       "      <td>1</td>\n",
       "      <td>0</td>\n",
       "      <td>1</td>\n",
       "      <td>0</td>\n",
       "      <td>1</td>\n",
       "    </tr>\n",
       "    <tr>\n",
       "      <td>3</td>\n",
       "      <td>1</td>\n",
       "      <td>1</td>\n",
       "      <td>0</td>\n",
       "      <td>1</td>\n",
       "      <td>1</td>\n",
       "      <td>1</td>\n",
       "    </tr>\n",
       "    <tr>\n",
       "      <td>4</td>\n",
       "      <td>0</td>\n",
       "      <td>1</td>\n",
       "      <td>1</td>\n",
       "      <td>1</td>\n",
       "      <td>0</td>\n",
       "      <td>1</td>\n",
       "    </tr>\n",
       "    <tr>\n",
       "      <td>5</td>\n",
       "      <td>1</td>\n",
       "      <td>0</td>\n",
       "      <td>1</td>\n",
       "      <td>1</td>\n",
       "      <td>1</td>\n",
       "      <td>1</td>\n",
       "    </tr>\n",
       "  </tbody>\n",
       "</table>\n",
       "</div>"
      ],
      "text/plain": [
       "              AccidentArea  Sex  Fault  WitnessPresent  PoliceReportFiled  \\\n",
       "PolicyNumber                                                                \n",
       "1             1             0    0      1               1                   \n",
       "2             1             1    0      1               0                   \n",
       "3             1             1    0      1               1                   \n",
       "4             0             1    1      1               0                   \n",
       "5             1             0    1      1               1                   \n",
       "\n",
       "              AgentType  \n",
       "PolicyNumber             \n",
       "1             1          \n",
       "2             1          \n",
       "3             1          \n",
       "4             1          \n",
       "5             1          "
      ]
     },
     "execution_count": 37,
     "metadata": {},
     "output_type": "execute_result"
    }
   ],
   "source": [
    "for item in binary_dict.items():\n",
    "    df[item[0]] = df[item[0]].replace(item[1])\n",
    "    \n",
    "df[list(binary_dict.keys())].head()"
   ]
  },
  {
   "cell_type": "markdown",
   "metadata": {},
   "source": [
    "#### Ordinal Encoding"
   ]
  },
  {
   "cell_type": "markdown",
   "metadata": {},
   "source": [
    "<b>Ordinal Encoding</b> - представление качественных признаков в порядковой шкале"
   ]
  },
  {
   "cell_type": "code",
   "execution_count": 38,
   "metadata": {},
   "outputs": [],
   "source": [
    "months_dict = {\"Jan\": 1, \"Feb\": 2, \"Mar\": 3, \"Apr\": 4, \"May\": 5, \"Jun\": 6, \"Jul\": 7, \n",
    "               \"Aug\": 8, \"Sep\": 9, \"Oct\": 10, \"Nov\": 11, \"Dec\":12}\n",
    "days_of_week_dict = {\"Monday\": 1, \"Tuesday\": 2, \"Wednesday\": 3, \"Thursday\": 4, \"Friday\": 5, \"Saturday\": 6, \"Sunday\": 7}\n",
    "\n",
    "Month_encoding, MonthClaimed_encoding = months_dict, months_dict\n",
    "DayOfWeek_encoding, DayOfWeekClaimed_encoding = days_of_week_dict, days_of_week_dict"
   ]
  },
  {
   "cell_type": "markdown",
   "metadata": {},
   "source": [
    "#### Преобразование категориальных переменных, выраженных через численные отрезки, в количественные"
   ]
  },
  {
   "cell_type": "code",
   "execution_count": 39,
   "metadata": {},
   "outputs": [],
   "source": [
    "VehiclePrice_encoding = {\"less than 20000\": 19999, \"20000 to 29000\": 24500, \"30000 to 39000\": 34500,\n",
    "                        \"40000 to 59000\": 49500, \"60000 to 69000\": 64500, \"more than 69000\": 69001}\n",
    "Days_Policy_Accident_encoding = {\"none\": 0, \"1 to 7\": 4, \"8 to 15\": 12, \"15 to 30\": 22.5, \"more than 30\": 31}\n",
    "Days_Policy_Claim_encoding = {\"none\": 0, \"8 to 15\": 12, \"15 to 30\": 23, \"more than 30\": 31}\n",
    "PastNumberOfClaims_encoding = {\"none\": 0, \"1\": 1, \"2 to 4\": 3, \"more than 4\": 5}\n",
    "AgeOfVehicle_encoding = {\"new\": 1, \"2 years\": 2, \"3 years\": 3, \"4 years\": 4, \"5 years\": 5,\n",
    "                         \"6 years\": 6, \"7 years\": 7, \"more than 7\": 8}\n",
    "AgeOfPolicyHolder_encoding = {\"16 to 17\": 16.5, \"18 to 20\": 19, \"21 to 25\": 23, \"26 to 30\": 28,\n",
    "                        \"31 to 35\": 33, \"36 to 40\": 38, \"41 to 50\": 45.5, \"51 to 65\": 58, \"over 65\": 66}\n",
    "NumberOfSuppliments_encoding = {\"none\": 0, \"1 to 2\": 1.5, \"3 to 5\": 4, \"more than 5\": 6}\n",
    "AddressChange_Claim_encoding = {\"no change\": 0, \"under 6 months\": 0.5, \"1 year\": 1, \"2 to 3 years\": 2.5, \"4 to 8 years\": 6}\n",
    "NumberOfCars_encoding = {\"1 vehicle\": 1, \"2 vehicles\": 2, \"3 to 4\": 3.5, \"5 to 8\": 6.5, \"more than 8\": 9}"
   ]
  },
  {
   "cell_type": "code",
   "execution_count": 40,
   "metadata": {},
   "outputs": [],
   "source": [
    "encoding_dict = {\"VehiclePrice\": VehiclePrice_encoding, \"Days_Policy_Accident\": Days_Policy_Accident_encoding, \n",
    "                 \"Days_Policy_Claim\": Days_Policy_Claim_encoding, \"PastNumberOfClaims\": PastNumberOfClaims_encoding,\n",
    "                 \"AgeOfVehicle\": AgeOfVehicle_encoding, \"AgeOfPolicyHolder\": AgeOfPolicyHolder_encoding,\n",
    "                 \"NumberOfSuppliments\": NumberOfSuppliments_encoding, \"AddressChange_Claim\": AddressChange_Claim_encoding,\n",
    "                 \"NumberOfCars\": NumberOfCars_encoding,  \"Month\": Month_encoding, \"DayOfWeek\": DayOfWeek_encoding,  \n",
    "                 \"DayOfWeekClaimed\": DayOfWeekClaimed_encoding, \"MonthClaimed\": MonthClaimed_encoding}"
   ]
  },
  {
   "cell_type": "code",
   "execution_count": 41,
   "metadata": {},
   "outputs": [
    {
     "data": {
      "text/html": [
       "<div>\n",
       "<style scoped>\n",
       "    .dataframe tbody tr th:only-of-type {\n",
       "        vertical-align: middle;\n",
       "    }\n",
       "\n",
       "    .dataframe tbody tr th {\n",
       "        vertical-align: top;\n",
       "    }\n",
       "\n",
       "    .dataframe thead th {\n",
       "        text-align: right;\n",
       "    }\n",
       "</style>\n",
       "<table border=\"1\" class=\"dataframe\">\n",
       "  <thead>\n",
       "    <tr style=\"text-align: right;\">\n",
       "      <th></th>\n",
       "      <th>VehiclePrice</th>\n",
       "      <th>Days_Policy_Accident</th>\n",
       "      <th>Days_Policy_Claim</th>\n",
       "      <th>PastNumberOfClaims</th>\n",
       "      <th>AgeOfVehicle</th>\n",
       "      <th>AgeOfPolicyHolder</th>\n",
       "      <th>NumberOfSuppliments</th>\n",
       "      <th>AddressChange_Claim</th>\n",
       "      <th>NumberOfCars</th>\n",
       "      <th>Month</th>\n",
       "      <th>DayOfWeek</th>\n",
       "      <th>DayOfWeekClaimed</th>\n",
       "      <th>MonthClaimed</th>\n",
       "    </tr>\n",
       "    <tr>\n",
       "      <th>PolicyNumber</th>\n",
       "      <th></th>\n",
       "      <th></th>\n",
       "      <th></th>\n",
       "      <th></th>\n",
       "      <th></th>\n",
       "      <th></th>\n",
       "      <th></th>\n",
       "      <th></th>\n",
       "      <th></th>\n",
       "      <th></th>\n",
       "      <th></th>\n",
       "      <th></th>\n",
       "      <th></th>\n",
       "    </tr>\n",
       "  </thead>\n",
       "  <tbody>\n",
       "    <tr>\n",
       "      <td>15416</td>\n",
       "      <td>24500</td>\n",
       "      <td>31.0</td>\n",
       "      <td>31</td>\n",
       "      <td>3</td>\n",
       "      <td>6</td>\n",
       "      <td>33.0</td>\n",
       "      <td>0.0</td>\n",
       "      <td>0.0</td>\n",
       "      <td>1.0</td>\n",
       "      <td>11</td>\n",
       "      <td>5</td>\n",
       "      <td>2</td>\n",
       "      <td>11</td>\n",
       "    </tr>\n",
       "    <tr>\n",
       "      <td>15417</td>\n",
       "      <td>34500</td>\n",
       "      <td>31.0</td>\n",
       "      <td>31</td>\n",
       "      <td>5</td>\n",
       "      <td>6</td>\n",
       "      <td>33.0</td>\n",
       "      <td>6.0</td>\n",
       "      <td>0.0</td>\n",
       "      <td>3.5</td>\n",
       "      <td>11</td>\n",
       "      <td>4</td>\n",
       "      <td>5</td>\n",
       "      <td>12</td>\n",
       "    </tr>\n",
       "    <tr>\n",
       "      <td>15418</td>\n",
       "      <td>24500</td>\n",
       "      <td>31.0</td>\n",
       "      <td>31</td>\n",
       "      <td>5</td>\n",
       "      <td>5</td>\n",
       "      <td>28.0</td>\n",
       "      <td>1.5</td>\n",
       "      <td>0.0</td>\n",
       "      <td>1.0</td>\n",
       "      <td>11</td>\n",
       "      <td>4</td>\n",
       "      <td>5</td>\n",
       "      <td>12</td>\n",
       "    </tr>\n",
       "    <tr>\n",
       "      <td>15419</td>\n",
       "      <td>24500</td>\n",
       "      <td>31.0</td>\n",
       "      <td>31</td>\n",
       "      <td>0</td>\n",
       "      <td>2</td>\n",
       "      <td>33.0</td>\n",
       "      <td>6.0</td>\n",
       "      <td>0.0</td>\n",
       "      <td>1.0</td>\n",
       "      <td>12</td>\n",
       "      <td>1</td>\n",
       "      <td>4</td>\n",
       "      <td>12</td>\n",
       "    </tr>\n",
       "    <tr>\n",
       "      <td>15420</td>\n",
       "      <td>24500</td>\n",
       "      <td>31.0</td>\n",
       "      <td>31</td>\n",
       "      <td>0</td>\n",
       "      <td>5</td>\n",
       "      <td>28.0</td>\n",
       "      <td>1.5</td>\n",
       "      <td>0.0</td>\n",
       "      <td>1.0</td>\n",
       "      <td>12</td>\n",
       "      <td>3</td>\n",
       "      <td>4</td>\n",
       "      <td>12</td>\n",
       "    </tr>\n",
       "  </tbody>\n",
       "</table>\n",
       "</div>"
      ],
      "text/plain": [
       "              VehiclePrice  Days_Policy_Accident  Days_Policy_Claim  \\\n",
       "PolicyNumber                                                          \n",
       "15416         24500         31.0                  31                  \n",
       "15417         34500         31.0                  31                  \n",
       "15418         24500         31.0                  31                  \n",
       "15419         24500         31.0                  31                  \n",
       "15420         24500         31.0                  31                  \n",
       "\n",
       "              PastNumberOfClaims  AgeOfVehicle  AgeOfPolicyHolder  \\\n",
       "PolicyNumber                                                        \n",
       "15416         3                   6             33.0                \n",
       "15417         5                   6             33.0                \n",
       "15418         5                   5             28.0                \n",
       "15419         0                   2             33.0                \n",
       "15420         0                   5             28.0                \n",
       "\n",
       "              NumberOfSuppliments  AddressChange_Claim  NumberOfCars  Month  \\\n",
       "PolicyNumber                                                                  \n",
       "15416         0.0                  0.0                  1.0           11      \n",
       "15417         6.0                  0.0                  3.5           11      \n",
       "15418         1.5                  0.0                  1.0           11      \n",
       "15419         6.0                  0.0                  1.0           12      \n",
       "15420         1.5                  0.0                  1.0           12      \n",
       "\n",
       "              DayOfWeek  DayOfWeekClaimed  MonthClaimed  \n",
       "PolicyNumber                                             \n",
       "15416         5          2                 11            \n",
       "15417         4          5                 12            \n",
       "15418         4          5                 12            \n",
       "15419         1          4                 12            \n",
       "15420         3          4                 12            "
      ]
     },
     "execution_count": 41,
     "metadata": {},
     "output_type": "execute_result"
    }
   ],
   "source": [
    "for item in encoding_dict.items():\n",
    "    df[item[0]] = df[item[0]].replace(item[1])\n",
    "    \n",
    "df[list(encoding_dict.keys())].tail()"
   ]
  },
  {
   "cell_type": "markdown",
   "metadata": {},
   "source": [
    "#### Целевое кодирование (Target Encoding)"
   ]
  },
  {
   "cell_type": "markdown",
   "metadata": {},
   "source": [
    "<b>Целевое кодирование</b> - способ кодирования категориальных переменных через целевой атрибут. Каждый класс заменяется в случае количественного таргета - медианой/средним, в случае качественного - долей (вероятностью) принадлежности к данному классу"
   ]
  },
  {
   "cell_type": "code",
   "execution_count": 42,
   "metadata": {},
   "outputs": [],
   "source": [
    "for feature in [\"Make\", \"PolicyType\", \"RepNumber\"]:\n",
    "    accidents_by_feature = df.groupby([feature]).agg({f\"{TARGET}\": \"count\"}).reset_index().\\\n",
    "    rename(columns={\"FraudFound_P\": \"FraudFound_P_Quantity\"})\n",
    "    \n",
    "    accidents_with_fraud_by_feature = df.groupby([feature]).agg({f\"{TARGET}\": \"sum\"}).reset_index().\\\n",
    "    rename(columns={\"FraudFound_P\": \"FraudFound_Pis1_Quantity\"})\n",
    "    \n",
    "    accidents_with_fraud_by_feature_overall = pd.merge(accidents_with_fraud_by_feature, accidents_by_feature, \n",
    "                                           on=[feature], how=\"inner\")\n",
    "    \n",
    "    accidents_with_fraud_by_feature_overall[f\"FraudFound_Pis1_By_{feature}_Probability\"] = \\\n",
    "    accidents_with_fraud_by_feature_overall[\"FraudFound_Pis1_Quantity\"] / \\\n",
    "    accidents_with_fraud_by_feature_overall[\"FraudFound_P_Quantity\"]\n",
    "\n",
    "    accidents_with_fraud_by_feature_overall.drop(columns=[\"FraudFound_Pis1_Quantity\", \"FraudFound_P_Quantity\"], \n",
    "                                                 axis=1, inplace=True)\n",
    "    \n",
    "    df = df.merge(accidents_with_fraud_by_feature_overall, on=feature, how=\"left\")\n",
    "    df[f\"{feature}Probability\"] = df[f\"FraudFound_Pis1_By_{feature}_Probability\"]\n",
    "    df.drop(columns=[f\"{feature}\", f\"FraudFound_Pis1_By_{feature}_Probability\"], inplace=True)"
   ]
  },
  {
   "cell_type": "markdown",
   "metadata": {},
   "source": [
    "#### Dummy-кодирование (One Hot Encoding)"
   ]
  },
  {
   "cell_type": "markdown",
   "metadata": {},
   "source": [
    "Сутью <b>Dummy-кодирования</b> является разбиение переменной на N категорий с бинарной шкалой, где N - количество уникальных классов исходной переменной"
   ]
  },
  {
   "cell_type": "code",
   "execution_count": 43,
   "metadata": {},
   "outputs": [
    {
     "data": {
      "text/plain": [
       "['MaritalStatus_Divorced',\n",
       " 'MaritalStatus_Married',\n",
       " 'MaritalStatus_Single',\n",
       " 'MaritalStatus_Widow',\n",
       " 'VehicleCategory_Sedan',\n",
       " 'VehicleCategory_Sport',\n",
       " 'VehicleCategory_Utility',\n",
       " 'BasePolicy_All Perils',\n",
       " 'BasePolicy_Collision',\n",
       " 'BasePolicy_Liability']"
      ]
     },
     "execution_count": 43,
     "metadata": {},
     "output_type": "execute_result"
    }
   ],
   "source": [
    "df = pd.get_dummies(df, columns=[\"MaritalStatus\", \"VehicleCategory\", \"BasePolicy\"])\n",
    "df.columns.to_list()[-10:]"
   ]
  },
  {
   "cell_type": "markdown",
   "metadata": {},
   "source": [
    "#### Вид датасета после всех преобразований"
   ]
  },
  {
   "cell_type": "code",
   "execution_count": 44,
   "metadata": {},
   "outputs": [
    {
     "name": "stdout",
     "output_type": "stream",
     "text": [
      "<class 'pandas.core.frame.DataFrame'>\n",
      "Int64Index: 15420 entries, 0 to 15419\n",
      "Data columns (total 39 columns):\n",
      "Month                      15420 non-null int64\n",
      "WeekOfMonth                15420 non-null int64\n",
      "DayOfWeek                  15420 non-null int64\n",
      "AccidentArea               15420 non-null int64\n",
      "DayOfWeekClaimed           15420 non-null int64\n",
      "MonthClaimed               15420 non-null int64\n",
      "WeekOfMonthClaimed         15420 non-null int64\n",
      "Sex                        15420 non-null int64\n",
      "Age                        15420 non-null float64\n",
      "Fault                      15420 non-null int64\n",
      "VehiclePrice               15420 non-null int64\n",
      "Deductible                 15420 non-null int64\n",
      "DriverRating               15420 non-null int64\n",
      "Days_Policy_Accident       15420 non-null float64\n",
      "Days_Policy_Claim          15420 non-null int64\n",
      "PastNumberOfClaims         15420 non-null int64\n",
      "AgeOfVehicle               15420 non-null int64\n",
      "AgeOfPolicyHolder          15420 non-null float64\n",
      "PoliceReportFiled          15420 non-null int64\n",
      "WitnessPresent             15420 non-null int64\n",
      "AgentType                  15420 non-null int64\n",
      "NumberOfSuppliments        15420 non-null float64\n",
      "AddressChange_Claim        15420 non-null float64\n",
      "NumberOfCars               15420 non-null float64\n",
      "Year                       15420 non-null int64\n",
      "FraudFound_P               15420 non-null int64\n",
      "MakeProbability            15420 non-null float64\n",
      "PolicyTypeProbability      15420 non-null float64\n",
      "RepNumberProbability       15420 non-null float64\n",
      "MaritalStatus_Divorced     15420 non-null uint8\n",
      "MaritalStatus_Married      15420 non-null uint8\n",
      "MaritalStatus_Single       15420 non-null uint8\n",
      "MaritalStatus_Widow        15420 non-null uint8\n",
      "VehicleCategory_Sedan      15420 non-null uint8\n",
      "VehicleCategory_Sport      15420 non-null uint8\n",
      "VehicleCategory_Utility    15420 non-null uint8\n",
      "BasePolicy_All Perils      15420 non-null uint8\n",
      "BasePolicy_Collision       15420 non-null uint8\n",
      "BasePolicy_Liability       15420 non-null uint8\n",
      "dtypes: float64(9), int64(20), uint8(10)\n",
      "memory usage: 3.7 MB\n"
     ]
    }
   ],
   "source": [
    "df.info()"
   ]
  },
  {
   "cell_type": "code",
   "execution_count": 45,
   "metadata": {},
   "outputs": [
    {
     "data": {
      "text/html": [
       "<div>\n",
       "<style scoped>\n",
       "    .dataframe tbody tr th:only-of-type {\n",
       "        vertical-align: middle;\n",
       "    }\n",
       "\n",
       "    .dataframe tbody tr th {\n",
       "        vertical-align: top;\n",
       "    }\n",
       "\n",
       "    .dataframe thead th {\n",
       "        text-align: right;\n",
       "    }\n",
       "</style>\n",
       "<table border=\"1\" class=\"dataframe\">\n",
       "  <thead>\n",
       "    <tr style=\"text-align: right;\">\n",
       "      <th></th>\n",
       "      <th>Month</th>\n",
       "      <th>WeekOfMonth</th>\n",
       "      <th>DayOfWeek</th>\n",
       "      <th>AccidentArea</th>\n",
       "      <th>DayOfWeekClaimed</th>\n",
       "      <th>MonthClaimed</th>\n",
       "      <th>WeekOfMonthClaimed</th>\n",
       "      <th>Sex</th>\n",
       "      <th>Age</th>\n",
       "      <th>Fault</th>\n",
       "      <th>VehiclePrice</th>\n",
       "      <th>Deductible</th>\n",
       "      <th>DriverRating</th>\n",
       "      <th>Days_Policy_Accident</th>\n",
       "      <th>Days_Policy_Claim</th>\n",
       "      <th>PastNumberOfClaims</th>\n",
       "      <th>AgeOfVehicle</th>\n",
       "      <th>AgeOfPolicyHolder</th>\n",
       "      <th>PoliceReportFiled</th>\n",
       "      <th>WitnessPresent</th>\n",
       "      <th>AgentType</th>\n",
       "      <th>NumberOfSuppliments</th>\n",
       "      <th>AddressChange_Claim</th>\n",
       "      <th>NumberOfCars</th>\n",
       "      <th>Year</th>\n",
       "      <th>FraudFound_P</th>\n",
       "      <th>MakeProbability</th>\n",
       "      <th>PolicyTypeProbability</th>\n",
       "      <th>RepNumberProbability</th>\n",
       "      <th>MaritalStatus_Divorced</th>\n",
       "      <th>MaritalStatus_Married</th>\n",
       "      <th>MaritalStatus_Single</th>\n",
       "      <th>MaritalStatus_Widow</th>\n",
       "      <th>VehicleCategory_Sedan</th>\n",
       "      <th>VehicleCategory_Sport</th>\n",
       "      <th>VehicleCategory_Utility</th>\n",
       "      <th>BasePolicy_All Perils</th>\n",
       "      <th>BasePolicy_Collision</th>\n",
       "      <th>BasePolicy_Liability</th>\n",
       "    </tr>\n",
       "  </thead>\n",
       "  <tbody>\n",
       "    <tr>\n",
       "      <td>0</td>\n",
       "      <td>12</td>\n",
       "      <td>5</td>\n",
       "      <td>3</td>\n",
       "      <td>1</td>\n",
       "      <td>2</td>\n",
       "      <td>1</td>\n",
       "      <td>1</td>\n",
       "      <td>0</td>\n",
       "      <td>21.0</td>\n",
       "      <td>0</td>\n",
       "      <td>69001</td>\n",
       "      <td>300</td>\n",
       "      <td>1</td>\n",
       "      <td>31.0</td>\n",
       "      <td>31</td>\n",
       "      <td>0</td>\n",
       "      <td>3</td>\n",
       "      <td>28.0</td>\n",
       "      <td>1</td>\n",
       "      <td>1</td>\n",
       "      <td>1</td>\n",
       "      <td>0.0</td>\n",
       "      <td>1.0</td>\n",
       "      <td>3.5</td>\n",
       "      <td>1994</td>\n",
       "      <td>0</td>\n",
       "      <td>0.063906</td>\n",
       "      <td>0.000000</td>\n",
       "      <td>0.048106</td>\n",
       "      <td>0</td>\n",
       "      <td>0</td>\n",
       "      <td>1</td>\n",
       "      <td>0</td>\n",
       "      <td>0</td>\n",
       "      <td>1</td>\n",
       "      <td>0</td>\n",
       "      <td>0</td>\n",
       "      <td>0</td>\n",
       "      <td>1</td>\n",
       "    </tr>\n",
       "    <tr>\n",
       "      <td>1</td>\n",
       "      <td>1</td>\n",
       "      <td>3</td>\n",
       "      <td>3</td>\n",
       "      <td>1</td>\n",
       "      <td>1</td>\n",
       "      <td>1</td>\n",
       "      <td>4</td>\n",
       "      <td>1</td>\n",
       "      <td>34.0</td>\n",
       "      <td>0</td>\n",
       "      <td>69001</td>\n",
       "      <td>400</td>\n",
       "      <td>4</td>\n",
       "      <td>31.0</td>\n",
       "      <td>31</td>\n",
       "      <td>0</td>\n",
       "      <td>6</td>\n",
       "      <td>33.0</td>\n",
       "      <td>0</td>\n",
       "      <td>1</td>\n",
       "      <td>1</td>\n",
       "      <td>0.0</td>\n",
       "      <td>0.0</td>\n",
       "      <td>1.0</td>\n",
       "      <td>1994</td>\n",
       "      <td>0</td>\n",
       "      <td>0.063906</td>\n",
       "      <td>0.137931</td>\n",
       "      <td>0.050154</td>\n",
       "      <td>0</td>\n",
       "      <td>0</td>\n",
       "      <td>1</td>\n",
       "      <td>0</td>\n",
       "      <td>0</td>\n",
       "      <td>1</td>\n",
       "      <td>0</td>\n",
       "      <td>0</td>\n",
       "      <td>1</td>\n",
       "      <td>0</td>\n",
       "    </tr>\n",
       "    <tr>\n",
       "      <td>2</td>\n",
       "      <td>10</td>\n",
       "      <td>5</td>\n",
       "      <td>5</td>\n",
       "      <td>1</td>\n",
       "      <td>4</td>\n",
       "      <td>11</td>\n",
       "      <td>2</td>\n",
       "      <td>1</td>\n",
       "      <td>47.0</td>\n",
       "      <td>0</td>\n",
       "      <td>69001</td>\n",
       "      <td>400</td>\n",
       "      <td>3</td>\n",
       "      <td>31.0</td>\n",
       "      <td>31</td>\n",
       "      <td>1</td>\n",
       "      <td>7</td>\n",
       "      <td>45.5</td>\n",
       "      <td>1</td>\n",
       "      <td>1</td>\n",
       "      <td>1</td>\n",
       "      <td>0.0</td>\n",
       "      <td>0.0</td>\n",
       "      <td>1.0</td>\n",
       "      <td>1994</td>\n",
       "      <td>0</td>\n",
       "      <td>0.063906</td>\n",
       "      <td>0.137931</td>\n",
       "      <td>0.069224</td>\n",
       "      <td>0</td>\n",
       "      <td>1</td>\n",
       "      <td>0</td>\n",
       "      <td>0</td>\n",
       "      <td>0</td>\n",
       "      <td>1</td>\n",
       "      <td>0</td>\n",
       "      <td>0</td>\n",
       "      <td>1</td>\n",
       "      <td>0</td>\n",
       "    </tr>\n",
       "    <tr>\n",
       "      <td>3</td>\n",
       "      <td>6</td>\n",
       "      <td>2</td>\n",
       "      <td>6</td>\n",
       "      <td>0</td>\n",
       "      <td>5</td>\n",
       "      <td>7</td>\n",
       "      <td>1</td>\n",
       "      <td>1</td>\n",
       "      <td>65.0</td>\n",
       "      <td>1</td>\n",
       "      <td>24500</td>\n",
       "      <td>400</td>\n",
       "      <td>2</td>\n",
       "      <td>31.0</td>\n",
       "      <td>31</td>\n",
       "      <td>1</td>\n",
       "      <td>8</td>\n",
       "      <td>58.0</td>\n",
       "      <td>0</td>\n",
       "      <td>1</td>\n",
       "      <td>1</td>\n",
       "      <td>6.0</td>\n",
       "      <td>0.0</td>\n",
       "      <td>1.0</td>\n",
       "      <td>1994</td>\n",
       "      <td>0</td>\n",
       "      <td>0.059596</td>\n",
       "      <td>0.007219</td>\n",
       "      <td>0.054825</td>\n",
       "      <td>0</td>\n",
       "      <td>1</td>\n",
       "      <td>0</td>\n",
       "      <td>0</td>\n",
       "      <td>0</td>\n",
       "      <td>1</td>\n",
       "      <td>0</td>\n",
       "      <td>0</td>\n",
       "      <td>0</td>\n",
       "      <td>1</td>\n",
       "    </tr>\n",
       "    <tr>\n",
       "      <td>4</td>\n",
       "      <td>1</td>\n",
       "      <td>5</td>\n",
       "      <td>1</td>\n",
       "      <td>1</td>\n",
       "      <td>2</td>\n",
       "      <td>2</td>\n",
       "      <td>2</td>\n",
       "      <td>0</td>\n",
       "      <td>27.0</td>\n",
       "      <td>1</td>\n",
       "      <td>69001</td>\n",
       "      <td>400</td>\n",
       "      <td>1</td>\n",
       "      <td>31.0</td>\n",
       "      <td>31</td>\n",
       "      <td>0</td>\n",
       "      <td>5</td>\n",
       "      <td>33.0</td>\n",
       "      <td>1</td>\n",
       "      <td>1</td>\n",
       "      <td>1</td>\n",
       "      <td>0.0</td>\n",
       "      <td>0.0</td>\n",
       "      <td>1.0</td>\n",
       "      <td>1994</td>\n",
       "      <td>0</td>\n",
       "      <td>0.063906</td>\n",
       "      <td>0.137931</td>\n",
       "      <td>0.063224</td>\n",
       "      <td>0</td>\n",
       "      <td>0</td>\n",
       "      <td>1</td>\n",
       "      <td>0</td>\n",
       "      <td>0</td>\n",
       "      <td>1</td>\n",
       "      <td>0</td>\n",
       "      <td>0</td>\n",
       "      <td>1</td>\n",
       "      <td>0</td>\n",
       "    </tr>\n",
       "    <tr>\n",
       "      <td>...</td>\n",
       "      <td>...</td>\n",
       "      <td>...</td>\n",
       "      <td>...</td>\n",
       "      <td>...</td>\n",
       "      <td>...</td>\n",
       "      <td>...</td>\n",
       "      <td>...</td>\n",
       "      <td>...</td>\n",
       "      <td>...</td>\n",
       "      <td>...</td>\n",
       "      <td>...</td>\n",
       "      <td>...</td>\n",
       "      <td>...</td>\n",
       "      <td>...</td>\n",
       "      <td>...</td>\n",
       "      <td>...</td>\n",
       "      <td>...</td>\n",
       "      <td>...</td>\n",
       "      <td>...</td>\n",
       "      <td>...</td>\n",
       "      <td>...</td>\n",
       "      <td>...</td>\n",
       "      <td>...</td>\n",
       "      <td>...</td>\n",
       "      <td>...</td>\n",
       "      <td>...</td>\n",
       "      <td>...</td>\n",
       "      <td>...</td>\n",
       "      <td>...</td>\n",
       "      <td>...</td>\n",
       "      <td>...</td>\n",
       "      <td>...</td>\n",
       "      <td>...</td>\n",
       "      <td>...</td>\n",
       "      <td>...</td>\n",
       "      <td>...</td>\n",
       "      <td>...</td>\n",
       "      <td>...</td>\n",
       "      <td>...</td>\n",
       "    </tr>\n",
       "    <tr>\n",
       "      <td>15415</td>\n",
       "      <td>11</td>\n",
       "      <td>4</td>\n",
       "      <td>5</td>\n",
       "      <td>1</td>\n",
       "      <td>2</td>\n",
       "      <td>11</td>\n",
       "      <td>5</td>\n",
       "      <td>1</td>\n",
       "      <td>35.0</td>\n",
       "      <td>0</td>\n",
       "      <td>24500</td>\n",
       "      <td>400</td>\n",
       "      <td>4</td>\n",
       "      <td>31.0</td>\n",
       "      <td>31</td>\n",
       "      <td>3</td>\n",
       "      <td>6</td>\n",
       "      <td>33.0</td>\n",
       "      <td>1</td>\n",
       "      <td>1</td>\n",
       "      <td>1</td>\n",
       "      <td>0.0</td>\n",
       "      <td>0.0</td>\n",
       "      <td>1.0</td>\n",
       "      <td>1996</td>\n",
       "      <td>1</td>\n",
       "      <td>0.059596</td>\n",
       "      <td>0.068768</td>\n",
       "      <td>0.052685</td>\n",
       "      <td>0</td>\n",
       "      <td>1</td>\n",
       "      <td>0</td>\n",
       "      <td>0</td>\n",
       "      <td>1</td>\n",
       "      <td>0</td>\n",
       "      <td>0</td>\n",
       "      <td>0</td>\n",
       "      <td>1</td>\n",
       "      <td>0</td>\n",
       "    </tr>\n",
       "    <tr>\n",
       "      <td>15416</td>\n",
       "      <td>11</td>\n",
       "      <td>5</td>\n",
       "      <td>4</td>\n",
       "      <td>1</td>\n",
       "      <td>5</td>\n",
       "      <td>12</td>\n",
       "      <td>1</td>\n",
       "      <td>1</td>\n",
       "      <td>30.0</td>\n",
       "      <td>0</td>\n",
       "      <td>34500</td>\n",
       "      <td>400</td>\n",
       "      <td>3</td>\n",
       "      <td>31.0</td>\n",
       "      <td>31</td>\n",
       "      <td>5</td>\n",
       "      <td>6</td>\n",
       "      <td>33.0</td>\n",
       "      <td>1</td>\n",
       "      <td>1</td>\n",
       "      <td>1</td>\n",
       "      <td>6.0</td>\n",
       "      <td>0.0</td>\n",
       "      <td>3.5</td>\n",
       "      <td>1996</td>\n",
       "      <td>0</td>\n",
       "      <td>0.055512</td>\n",
       "      <td>0.007219</td>\n",
       "      <td>0.059072</td>\n",
       "      <td>0</td>\n",
       "      <td>1</td>\n",
       "      <td>0</td>\n",
       "      <td>0</td>\n",
       "      <td>0</td>\n",
       "      <td>1</td>\n",
       "      <td>0</td>\n",
       "      <td>0</td>\n",
       "      <td>0</td>\n",
       "      <td>1</td>\n",
       "    </tr>\n",
       "    <tr>\n",
       "      <td>15417</td>\n",
       "      <td>11</td>\n",
       "      <td>5</td>\n",
       "      <td>4</td>\n",
       "      <td>0</td>\n",
       "      <td>5</td>\n",
       "      <td>12</td>\n",
       "      <td>1</td>\n",
       "      <td>1</td>\n",
       "      <td>24.0</td>\n",
       "      <td>0</td>\n",
       "      <td>24500</td>\n",
       "      <td>400</td>\n",
       "      <td>4</td>\n",
       "      <td>31.0</td>\n",
       "      <td>31</td>\n",
       "      <td>5</td>\n",
       "      <td>5</td>\n",
       "      <td>28.0</td>\n",
       "      <td>1</td>\n",
       "      <td>1</td>\n",
       "      <td>1</td>\n",
       "      <td>1.5</td>\n",
       "      <td>0.0</td>\n",
       "      <td>1.0</td>\n",
       "      <td>1996</td>\n",
       "      <td>1</td>\n",
       "      <td>0.059596</td>\n",
       "      <td>0.068768</td>\n",
       "      <td>0.054825</td>\n",
       "      <td>0</td>\n",
       "      <td>0</td>\n",
       "      <td>1</td>\n",
       "      <td>0</td>\n",
       "      <td>1</td>\n",
       "      <td>0</td>\n",
       "      <td>0</td>\n",
       "      <td>0</td>\n",
       "      <td>1</td>\n",
       "      <td>0</td>\n",
       "    </tr>\n",
       "    <tr>\n",
       "      <td>15418</td>\n",
       "      <td>12</td>\n",
       "      <td>1</td>\n",
       "      <td>1</td>\n",
       "      <td>1</td>\n",
       "      <td>4</td>\n",
       "      <td>12</td>\n",
       "      <td>2</td>\n",
       "      <td>0</td>\n",
       "      <td>34.0</td>\n",
       "      <td>1</td>\n",
       "      <td>24500</td>\n",
       "      <td>400</td>\n",
       "      <td>4</td>\n",
       "      <td>31.0</td>\n",
       "      <td>31</td>\n",
       "      <td>0</td>\n",
       "      <td>2</td>\n",
       "      <td>33.0</td>\n",
       "      <td>1</td>\n",
       "      <td>1</td>\n",
       "      <td>1</td>\n",
       "      <td>6.0</td>\n",
       "      <td>0.0</td>\n",
       "      <td>1.0</td>\n",
       "      <td>1996</td>\n",
       "      <td>0</td>\n",
       "      <td>0.059596</td>\n",
       "      <td>0.100563</td>\n",
       "      <td>0.070064</td>\n",
       "      <td>0</td>\n",
       "      <td>1</td>\n",
       "      <td>0</td>\n",
       "      <td>0</td>\n",
       "      <td>1</td>\n",
       "      <td>0</td>\n",
       "      <td>0</td>\n",
       "      <td>1</td>\n",
       "      <td>0</td>\n",
       "      <td>0</td>\n",
       "    </tr>\n",
       "    <tr>\n",
       "      <td>15419</td>\n",
       "      <td>12</td>\n",
       "      <td>2</td>\n",
       "      <td>3</td>\n",
       "      <td>1</td>\n",
       "      <td>4</td>\n",
       "      <td>12</td>\n",
       "      <td>3</td>\n",
       "      <td>1</td>\n",
       "      <td>21.0</td>\n",
       "      <td>0</td>\n",
       "      <td>24500</td>\n",
       "      <td>400</td>\n",
       "      <td>4</td>\n",
       "      <td>31.0</td>\n",
       "      <td>31</td>\n",
       "      <td>0</td>\n",
       "      <td>5</td>\n",
       "      <td>28.0</td>\n",
       "      <td>1</td>\n",
       "      <td>1</td>\n",
       "      <td>1</td>\n",
       "      <td>1.5</td>\n",
       "      <td>0.0</td>\n",
       "      <td>1.0</td>\n",
       "      <td>1996</td>\n",
       "      <td>1</td>\n",
       "      <td>0.059596</td>\n",
       "      <td>0.068768</td>\n",
       "      <td>0.063224</td>\n",
       "      <td>0</td>\n",
       "      <td>0</td>\n",
       "      <td>1</td>\n",
       "      <td>0</td>\n",
       "      <td>1</td>\n",
       "      <td>0</td>\n",
       "      <td>0</td>\n",
       "      <td>0</td>\n",
       "      <td>1</td>\n",
       "      <td>0</td>\n",
       "    </tr>\n",
       "  </tbody>\n",
       "</table>\n",
       "<p>15420 rows × 39 columns</p>\n",
       "</div>"
      ],
      "text/plain": [
       "       Month  WeekOfMonth  DayOfWeek  AccidentArea  DayOfWeekClaimed  \\\n",
       "0      12     5            3          1             2                  \n",
       "1      1      3            3          1             1                  \n",
       "2      10     5            5          1             4                  \n",
       "3      6      2            6          0             5                  \n",
       "4      1      5            1          1             2                  \n",
       "...   ..     ..           ..         ..            ..                  \n",
       "15415  11     4            5          1             2                  \n",
       "15416  11     5            4          1             5                  \n",
       "15417  11     5            4          0             5                  \n",
       "15418  12     1            1          1             4                  \n",
       "15419  12     2            3          1             4                  \n",
       "\n",
       "       MonthClaimed  WeekOfMonthClaimed  Sex   Age  Fault  VehiclePrice  \\\n",
       "0      1             1                   0    21.0  0      69001          \n",
       "1      1             4                   1    34.0  0      69001          \n",
       "2      11            2                   1    47.0  0      69001          \n",
       "3      7             1                   1    65.0  1      24500          \n",
       "4      2             2                   0    27.0  1      69001          \n",
       "...   ..            ..                  ..     ... ..        ...          \n",
       "15415  11            5                   1    35.0  0      24500          \n",
       "15416  12            1                   1    30.0  0      34500          \n",
       "15417  12            1                   1    24.0  0      24500          \n",
       "15418  12            2                   0    34.0  1      24500          \n",
       "15419  12            3                   1    21.0  0      24500          \n",
       "\n",
       "       Deductible  DriverRating  Days_Policy_Accident  Days_Policy_Claim  \\\n",
       "0      300         1             31.0                  31                  \n",
       "1      400         4             31.0                  31                  \n",
       "2      400         3             31.0                  31                  \n",
       "3      400         2             31.0                  31                  \n",
       "4      400         1             31.0                  31                  \n",
       "...    ...        ..              ...                  ..                  \n",
       "15415  400         4             31.0                  31                  \n",
       "15416  400         3             31.0                  31                  \n",
       "15417  400         4             31.0                  31                  \n",
       "15418  400         4             31.0                  31                  \n",
       "15419  400         4             31.0                  31                  \n",
       "\n",
       "       PastNumberOfClaims  AgeOfVehicle  AgeOfPolicyHolder  PoliceReportFiled  \\\n",
       "0      0                   3             28.0               1                   \n",
       "1      0                   6             33.0               0                   \n",
       "2      1                   7             45.5               1                   \n",
       "3      1                   8             58.0               0                   \n",
       "4      0                   5             33.0               1                   \n",
       "...   ..                  ..              ...              ..                   \n",
       "15415  3                   6             33.0               1                   \n",
       "15416  5                   6             33.0               1                   \n",
       "15417  5                   5             28.0               1                   \n",
       "15418  0                   2             33.0               1                   \n",
       "15419  0                   5             28.0               1                   \n",
       "\n",
       "       WitnessPresent  AgentType  NumberOfSuppliments  AddressChange_Claim  \\\n",
       "0      1               1          0.0                  1.0                   \n",
       "1      1               1          0.0                  0.0                   \n",
       "2      1               1          0.0                  0.0                   \n",
       "3      1               1          6.0                  0.0                   \n",
       "4      1               1          0.0                  0.0                   \n",
       "...   ..              ..          ...                  ...                   \n",
       "15415  1               1          0.0                  0.0                   \n",
       "15416  1               1          6.0                  0.0                   \n",
       "15417  1               1          1.5                  0.0                   \n",
       "15418  1               1          6.0                  0.0                   \n",
       "15419  1               1          1.5                  0.0                   \n",
       "\n",
       "       NumberOfCars  Year  FraudFound_P  MakeProbability  \\\n",
       "0      3.5           1994  0             0.063906          \n",
       "1      1.0           1994  0             0.063906          \n",
       "2      1.0           1994  0             0.063906          \n",
       "3      1.0           1994  0             0.059596          \n",
       "4      1.0           1994  0             0.063906          \n",
       "...    ...            ... ..                  ...          \n",
       "15415  1.0           1996  1             0.059596          \n",
       "15416  3.5           1996  0             0.055512          \n",
       "15417  1.0           1996  1             0.059596          \n",
       "15418  1.0           1996  0             0.059596          \n",
       "15419  1.0           1996  1             0.059596          \n",
       "\n",
       "       PolicyTypeProbability  RepNumberProbability  MaritalStatus_Divorced  \\\n",
       "0      0.000000               0.048106              0                        \n",
       "1      0.137931               0.050154              0                        \n",
       "2      0.137931               0.069224              0                        \n",
       "3      0.007219               0.054825              0                        \n",
       "4      0.137931               0.063224              0                        \n",
       "...         ...                    ...             ..                        \n",
       "15415  0.068768               0.052685              0                        \n",
       "15416  0.007219               0.059072              0                        \n",
       "15417  0.068768               0.054825              0                        \n",
       "15418  0.100563               0.070064              0                        \n",
       "15419  0.068768               0.063224              0                        \n",
       "\n",
       "       MaritalStatus_Married  MaritalStatus_Single  MaritalStatus_Widow  \\\n",
       "0      0                      1                     0                     \n",
       "1      0                      1                     0                     \n",
       "2      1                      0                     0                     \n",
       "3      1                      0                     0                     \n",
       "4      0                      1                     0                     \n",
       "...   ..                     ..                    ..                     \n",
       "15415  1                      0                     0                     \n",
       "15416  1                      0                     0                     \n",
       "15417  0                      1                     0                     \n",
       "15418  1                      0                     0                     \n",
       "15419  0                      1                     0                     \n",
       "\n",
       "       VehicleCategory_Sedan  VehicleCategory_Sport  VehicleCategory_Utility  \\\n",
       "0      0                      1                      0                         \n",
       "1      0                      1                      0                         \n",
       "2      0                      1                      0                         \n",
       "3      0                      1                      0                         \n",
       "4      0                      1                      0                         \n",
       "...   ..                     ..                     ..                         \n",
       "15415  1                      0                      0                         \n",
       "15416  0                      1                      0                         \n",
       "15417  1                      0                      0                         \n",
       "15418  1                      0                      0                         \n",
       "15419  1                      0                      0                         \n",
       "\n",
       "       BasePolicy_All Perils  BasePolicy_Collision  BasePolicy_Liability  \n",
       "0      0                      0                     1                     \n",
       "1      0                      1                     0                     \n",
       "2      0                      1                     0                     \n",
       "3      0                      0                     1                     \n",
       "4      0                      1                     0                     \n",
       "...   ..                     ..                    ..                     \n",
       "15415  0                      1                     0                     \n",
       "15416  0                      0                     1                     \n",
       "15417  0                      1                     0                     \n",
       "15418  1                      0                     0                     \n",
       "15419  0                      1                     0                     \n",
       "\n",
       "[15420 rows x 39 columns]"
      ]
     },
     "execution_count": 45,
     "metadata": {},
     "output_type": "execute_result"
    }
   ],
   "source": [
    "df"
   ]
  },
  {
   "cell_type": "markdown",
   "metadata": {},
   "source": [
    "#### Оптипизация памяти"
   ]
  },
  {
   "cell_type": "code",
   "execution_count": 46,
   "metadata": {},
   "outputs": [],
   "source": [
    "df[\"DayOfWeekClaimed\"] = df[\"DayOfWeekClaimed\"].astype(int)\n",
    "df[\"MonthClaimed\"] = df[\"MonthClaimed\"].astype(int)"
   ]
  },
  {
   "cell_type": "code",
   "execution_count": 47,
   "metadata": {},
   "outputs": [],
   "source": [
    "def optimize_floats(df: pd.DataFrame) -> pd.DataFrame:\n",
    "    floats = df.select_dtypes(include=['float64']).columns.tolist()\n",
    "    df[floats] = df[floats].apply(pd.to_numeric, downcast='float')\n",
    "    return df\n",
    "\n",
    "\n",
    "def optimize_ints(df: pd.DataFrame) -> pd.DataFrame:\n",
    "    ints = df.select_dtypes(include=['int64']).columns.tolist()\n",
    "    df[ints] = df[ints].apply(pd.to_numeric, downcast='integer')\n",
    "    return df\n",
    "\n",
    "df = optimize_floats(df)\n",
    "df = optimize_ints(df)"
   ]
  },
  {
   "cell_type": "code",
   "execution_count": 48,
   "metadata": {
    "scrolled": false
   },
   "outputs": [
    {
     "name": "stdout",
     "output_type": "stream",
     "text": [
      "<class 'pandas.core.frame.DataFrame'>\n",
      "Int64Index: 15420 entries, 0 to 15419\n",
      "Data columns (total 39 columns):\n",
      "Month                      15420 non-null int8\n",
      "WeekOfMonth                15420 non-null int8\n",
      "DayOfWeek                  15420 non-null int8\n",
      "AccidentArea               15420 non-null int8\n",
      "DayOfWeekClaimed           15420 non-null int32\n",
      "MonthClaimed               15420 non-null int32\n",
      "WeekOfMonthClaimed         15420 non-null int8\n",
      "Sex                        15420 non-null int8\n",
      "Age                        15420 non-null float32\n",
      "Fault                      15420 non-null int8\n",
      "VehiclePrice               15420 non-null int32\n",
      "Deductible                 15420 non-null int16\n",
      "DriverRating               15420 non-null int8\n",
      "Days_Policy_Accident       15420 non-null float32\n",
      "Days_Policy_Claim          15420 non-null int8\n",
      "PastNumberOfClaims         15420 non-null int8\n",
      "AgeOfVehicle               15420 non-null int8\n",
      "AgeOfPolicyHolder          15420 non-null float32\n",
      "PoliceReportFiled          15420 non-null int8\n",
      "WitnessPresent             15420 non-null int8\n",
      "AgentType                  15420 non-null int8\n",
      "NumberOfSuppliments        15420 non-null float32\n",
      "AddressChange_Claim        15420 non-null float32\n",
      "NumberOfCars               15420 non-null float32\n",
      "Year                       15420 non-null int16\n",
      "FraudFound_P               15420 non-null int8\n",
      "MakeProbability            15420 non-null float32\n",
      "PolicyTypeProbability      15420 non-null float32\n",
      "RepNumberProbability       15420 non-null float32\n",
      "MaritalStatus_Divorced     15420 non-null uint8\n",
      "MaritalStatus_Married      15420 non-null uint8\n",
      "MaritalStatus_Single       15420 non-null uint8\n",
      "MaritalStatus_Widow        15420 non-null uint8\n",
      "VehicleCategory_Sedan      15420 non-null uint8\n",
      "VehicleCategory_Sport      15420 non-null uint8\n",
      "VehicleCategory_Utility    15420 non-null uint8\n",
      "BasePolicy_All Perils      15420 non-null uint8\n",
      "BasePolicy_Collision       15420 non-null uint8\n",
      "BasePolicy_Liability       15420 non-null uint8\n",
      "dtypes: float32(9), int16(2), int32(3), int8(15), uint8(10)\n",
      "memory usage: 1.2 MB\n"
     ]
    }
   ],
   "source": [
    "df.info()"
   ]
  },
  {
   "cell_type": "markdown",
   "metadata": {},
   "source": [
    "## Этап 4. Построение моделей машинного обучения"
   ]
  },
  {
   "cell_type": "markdown",
   "metadata": {},
   "source": [
    "### 4.1 Разбиение данных на обучающую и тестовую выборку"
   ]
  },
  {
   "cell_type": "code",
   "execution_count": 49,
   "metadata": {},
   "outputs": [],
   "source": [
    "x = df.drop(columns=[TARGET])\n",
    "y = df[[TARGET]]\n",
    "x_train, x_test, y_train, y_test = train_test_split(x, y, test_size = 0.2, random_state = 42)"
   ]
  },
  {
   "cell_type": "code",
   "execution_count": 50,
   "metadata": {},
   "outputs": [
    {
     "data": {
      "text/plain": [
       "(0, 0)"
      ]
     },
     "execution_count": 50,
     "metadata": {},
     "output_type": "execute_result"
    }
   ],
   "source": [
    "x_train.isna().sum().sum(), x_test.isna().sum().sum()"
   ]
  },
  {
   "cell_type": "code",
   "execution_count": 51,
   "metadata": {},
   "outputs": [
    {
     "data": {
      "text/plain": [
       "((12336, 38), (3084, 38), (12336, 1), (3084, 1))"
      ]
     },
     "execution_count": 51,
     "metadata": {},
     "output_type": "execute_result"
    }
   ],
   "source": [
    "x_train.shape, x_test.shape, y_train.shape, y_test.shape"
   ]
  },
  {
   "cell_type": "code",
   "execution_count": 52,
   "metadata": {},
   "outputs": [],
   "source": [
    "scaler = StandardScaler()"
   ]
  },
  {
   "cell_type": "code",
   "execution_count": 53,
   "metadata": {},
   "outputs": [],
   "source": [
    "transformed_features = x_test.columns\n",
    "\n",
    "x_train_scaled = scaler.fit_transform(x_train)\n",
    "x_test_scaled = scaler.transform(x_test)"
   ]
  },
  {
   "cell_type": "markdown",
   "metadata": {},
   "source": [
    "### 4.2 Балансировка классов целевой переменной"
   ]
  },
  {
   "cell_type": "code",
   "execution_count": 54,
   "metadata": {},
   "outputs": [],
   "source": [
    "sm = SMOTE(random_state=42)\n",
    "y_train_scaled = y_train.copy()\n",
    "x_train, y_train = sm.fit_resample(x_train, y_train)\n",
    "x_train_scaled, y_train = sm.fit_resample(x_train_scaled, y_train_scaled)"
   ]
  },
  {
   "cell_type": "markdown",
   "metadata": {},
   "source": [
    "### 4.3 Построение моделей, оценка качества и оптимизация гиперпараметров"
   ]
  },
  {
   "cell_type": "code",
   "execution_count": 55,
   "metadata": {},
   "outputs": [],
   "source": [
    "starttime = timeit.default_timer()"
   ]
  },
  {
   "cell_type": "code",
   "execution_count": 56,
   "metadata": {},
   "outputs": [],
   "source": [
    "models_results = pd.Series()"
   ]
  },
  {
   "cell_type": "markdown",
   "metadata": {},
   "source": [
    "#### Функция для построения моделей и определения метрик качества"
   ]
  },
  {
   "cell_type": "code",
   "execution_count": 57,
   "metadata": {},
   "outputs": [],
   "source": [
    "def get_model(model, title, x_train = x_train, x_test = x_test):\n",
    "    model.fit(x_train, y_train)\n",
    "    \n",
    "    y_train_pred, y_test_pred = model.predict(x_train), model.predict(x_test)\n",
    "    \n",
    "    reports = {\"train scores\": classification_report(y_train, y_train_pred), \n",
    "                   \"test scores\": classification_report(y_test, y_test_pred),\n",
    "                   \"confusion matrix\": confusion_matrix(y_test, y_test_pred)\n",
    "              }\n",
    "              \n",
    "    return {\"model\": model, \"title\": title, \"y_train_pred\": y_train_pred, \"y_test_pred\": y_test_pred, \"reports\": reports}"
   ]
  },
  {
   "cell_type": "markdown",
   "metadata": {},
   "source": [
    "#### Логистическая регрессия"
   ]
  },
  {
   "cell_type": "markdown",
   "metadata": {},
   "source": [
    "<b>Бинарная логистическая регрессия</b> — это разновидность множественной регрессии, общее назначение которой состоит в анализе связи между несколькими независимыми переменными (называемыми также регрессорами или предикторами) и зависимой переменной, представленной в двоичной шкале."
   ]
  },
  {
   "cell_type": "code",
   "execution_count": 58,
   "metadata": {},
   "outputs": [],
   "source": [
    "lr = get_model(title=\"Логистическая регрессия\", model=LogisticRegression(), x_train = x_train_scaled, x_test = x_test_scaled)"
   ]
  },
  {
   "cell_type": "markdown",
   "metadata": {},
   "source": [
    "F-мера позволяет оценить в комплексе как Precision, так и Recall, поэтому наиболее важным критерием качества модели будем считать F<sub>1</sub>&ndash;score"
   ]
  },
  {
   "cell_type": "code",
   "execution_count": 59,
   "metadata": {
    "scrolled": false
   },
   "outputs": [
    {
     "name": "stdout",
     "output_type": "stream",
     "text": [
      "\tМетрики качества модели 'Логистическая регрессия'\n",
      "\n",
      "\t\t\tОбучающая выборка\n",
      "              precision    recall  f1-score   support\n",
      "\n",
      "           0       0.85      0.63      0.72     11610\n",
      "           1       0.71      0.89      0.79     11610\n",
      "\n",
      "    accuracy                           0.76     23220\n",
      "   macro avg       0.78      0.76      0.76     23220\n",
      "weighted avg       0.78      0.76      0.76     23220\n",
      "\n",
      "\n",
      "\t\t\tТестовая выборка\n",
      "              precision    recall  f1-score   support\n",
      "\n",
      "           0       0.99      0.63      0.77      2887\n",
      "           1       0.14      0.86      0.24       197\n",
      "\n",
      "    accuracy                           0.64      3084\n",
      "   macro avg       0.56      0.75      0.50      3084\n",
      "weighted avg       0.93      0.64      0.73      3084\n",
      "\n"
     ]
    }
   ],
   "source": [
    "print(f\"\\tМетрики качества модели '{lr['title']}'\\n\\n\\t\\t\\tОбучающая выборка\\n{lr['reports'].get('train scores')}\"\n",
    "      f\"\\n\\n\\t\\t\\tТестовая выборка\\n{lr['reports'].get('test scores')}\")"
   ]
  },
  {
   "cell_type": "markdown",
   "metadata": {},
   "source": [
    "С целью сопоставления предсказаний и реальности используется <b>матрица ошибок (confusion matrix)</b> – таблица с 4 различными комбинациями прогнозируемых и фактических значений. Прогнозируемые значения описываются как положительные и отрицательные, а фактические – как истинные и ложные."
   ]
  },
  {
   "cell_type": "code",
   "execution_count": 60,
   "metadata": {
    "scrolled": false
   },
   "outputs": [
    {
     "data": {
      "image/png": "[encoded data removed]",
      "text/plain": [
       "<Figure size 432x288 with 2 Axes>"
      ]
     },
     "metadata": {
      "needs_background": "light"
     },
     "output_type": "display_data"
    }
   ],
   "source": [
    "fig = ConfusionMatrixDisplay(confusion_matrix=lr[\"reports\"].get(\"confusion matrix\"))\n",
    "fig.plot(cmap=\"binary\")\n",
    "plt.show()"
   ]
  },
  {
   "cell_type": "markdown",
   "metadata": {},
   "source": [
    "<i>Оценим вероятность принадлежности целевой переменной к предсказанному классу</i>"
   ]
  },
  {
   "cell_type": "code",
   "execution_count": 61,
   "metadata": {},
   "outputs": [
    {
     "data": {
      "text/plain": [
       "array([0, 1], dtype=int8)"
      ]
     },
     "execution_count": 61,
     "metadata": {},
     "output_type": "execute_result"
    }
   ],
   "source": [
    "lr[\"model\"].classes_"
   ]
  },
  {
   "cell_type": "code",
   "execution_count": 62,
   "metadata": {},
   "outputs": [
    {
     "data": {
      "text/plain": [
       "array([[0.48332562, 0.51667438],\n",
       "       [0.93039953, 0.06960047],\n",
       "       [0.35087306, 0.64912694],\n",
       "       ...,\n",
       "       [0.94610779, 0.05389221],\n",
       "       [0.87881682, 0.12118318],\n",
       "       [0.23691987, 0.76308013]])"
      ]
     },
     "execution_count": 62,
     "metadata": {},
     "output_type": "execute_result"
    }
   ],
   "source": [
    "y_test_predict_proba = lr[\"model\"].predict_proba(x_test_scaled)\n",
    "y_test_predict_proba"
   ]
  },
  {
   "cell_type": "markdown",
   "metadata": {},
   "source": [
    "<i>Вычислим порог вероятности принадлежности объекта к целевому классу, при котором F<sub>1</sub>&ndash;score достигает наибольшего значения</i>"
   ]
  },
  {
   "cell_type": "code",
   "execution_count": 63,
   "metadata": {
    "scrolled": false
   },
   "outputs": [],
   "source": [
    "f1_scores = list()\n",
    "for p in pd.DataFrame(y_test_predict_proba).iloc[:, 1].unique():\n",
    "    f1_scores.append([p, f1_score(y_test, lr[\"model\"].predict_proba(x_test_scaled)[:,1] >= p)])"
   ]
  },
  {
   "cell_type": "code",
   "execution_count": 64,
   "metadata": {
    "scrolled": false
   },
   "outputs": [
    {
     "name": "stdout",
     "output_type": "stream",
     "text": [
      "Оптимальный порог вероятности = 0.7654350134289478 с f1_score = 0.29149797570850206\n"
     ]
    }
   ],
   "source": [
    "f1_scores_df = pd.DataFrame(f1_scores, columns=[\"threshold probability\", \"f1_score\"])\n",
    "f1_score_max = f1_scores_df.iloc[:, 1].max()\n",
    "threshold_probability_max = f1_scores_df.loc[f1_scores_df[\"f1_score\"] == f1_score_max, \"threshold probability\"]\n",
    "print(f\"Оптимальный порог вероятности = {threshold_probability_max.iloc[0]} с f1_score = {f1_score_max}\")"
   ]
  },
  {
   "cell_type": "code",
   "execution_count": 65,
   "metadata": {
    "scrolled": false
   },
   "outputs": [
    {
     "data": {
      "text/html": [
       "<div>\n",
       "<style scoped>\n",
       "    .dataframe tbody tr th:only-of-type {\n",
       "        vertical-align: middle;\n",
       "    }\n",
       "\n",
       "    .dataframe tbody tr th {\n",
       "        vertical-align: top;\n",
       "    }\n",
       "\n",
       "    .dataframe thead th {\n",
       "        text-align: right;\n",
       "    }\n",
       "</style>\n",
       "<table border=\"1\" class=\"dataframe\">\n",
       "  <thead>\n",
       "    <tr style=\"text-align: right;\">\n",
       "      <th></th>\n",
       "      <th>threshold probability</th>\n",
       "      <th>f1_score</th>\n",
       "    </tr>\n",
       "  </thead>\n",
       "  <tbody>\n",
       "    <tr>\n",
       "      <td>0</td>\n",
       "      <td>0.516674</td>\n",
       "      <td>0.234708</td>\n",
       "    </tr>\n",
       "    <tr>\n",
       "      <td>1</td>\n",
       "      <td>0.069600</td>\n",
       "      <td>0.140502</td>\n",
       "    </tr>\n",
       "    <tr>\n",
       "      <td>2</td>\n",
       "      <td>0.649127</td>\n",
       "      <td>0.270492</td>\n",
       "    </tr>\n",
       "    <tr>\n",
       "      <td>3</td>\n",
       "      <td>0.765218</td>\n",
       "      <td>0.290323</td>\n",
       "    </tr>\n",
       "    <tr>\n",
       "      <td>4</td>\n",
       "      <td>0.748666</td>\n",
       "      <td>0.274074</td>\n",
       "    </tr>\n",
       "    <tr>\n",
       "      <td>...</td>\n",
       "      <td>...</td>\n",
       "      <td>...</td>\n",
       "    </tr>\n",
       "    <tr>\n",
       "      <td>3079</td>\n",
       "      <td>0.048433</td>\n",
       "      <td>0.130854</td>\n",
       "    </tr>\n",
       "    <tr>\n",
       "      <td>3080</td>\n",
       "      <td>0.059568</td>\n",
       "      <td>0.135302</td>\n",
       "    </tr>\n",
       "    <tr>\n",
       "      <td>3081</td>\n",
       "      <td>0.053892</td>\n",
       "      <td>0.132437</td>\n",
       "    </tr>\n",
       "    <tr>\n",
       "      <td>3082</td>\n",
       "      <td>0.121183</td>\n",
       "      <td>0.176228</td>\n",
       "    </tr>\n",
       "    <tr>\n",
       "      <td>3083</td>\n",
       "      <td>0.763080</td>\n",
       "      <td>0.285714</td>\n",
       "    </tr>\n",
       "  </tbody>\n",
       "</table>\n",
       "<p>3084 rows × 2 columns</p>\n",
       "</div>"
      ],
      "text/plain": [
       "      threshold probability  f1_score\n",
       "0     0.516674               0.234708\n",
       "1     0.069600               0.140502\n",
       "2     0.649127               0.270492\n",
       "3     0.765218               0.290323\n",
       "4     0.748666               0.274074\n",
       "...        ...                    ...\n",
       "3079  0.048433               0.130854\n",
       "3080  0.059568               0.135302\n",
       "3081  0.053892               0.132437\n",
       "3082  0.121183               0.176228\n",
       "3083  0.763080               0.285714\n",
       "\n",
       "[3084 rows x 2 columns]"
      ]
     },
     "execution_count": 65,
     "metadata": {},
     "output_type": "execute_result"
    }
   ],
   "source": [
    "f1_scores_df"
   ]
  },
  {
   "cell_type": "code",
   "execution_count": 66,
   "metadata": {},
   "outputs": [
    {
     "data": {
      "text/plain": [
       "Text(0.5, 1.0, 'Зависимость метрики F1-score от порога вероятности')"
      ]
     },
     "execution_count": 66,
     "metadata": {},
     "output_type": "execute_result"
    },
    {
     "data": {
      "image/png": "[encoded data removed]",
      "text/plain": [
       "<Figure size 1296x648 with 1 Axes>"
      ]
     },
     "metadata": {
      "needs_background": "light"
     },
     "output_type": "display_data"
    }
   ],
   "source": [
    "fig = plt.figure(figsize=(18, 9))\n",
    "sns.scatterplot(data=f1_scores_df, x=\"threshold probability\", y=\"f1_score\")\n",
    "plt.hlines(f1_score_max, y.min(), threshold_probability_max, linestyle = '--', color=COLORS[1])\n",
    "plt.vlines(threshold_probability_max, y.min(), f1_score_max, linestyle = '--', color=COLORS[1])\n",
    "plt.title(\"Зависимость метрики F1-score от порога вероятности\")"
   ]
  },
  {
   "cell_type": "markdown",
   "metadata": {},
   "source": [
    "<i>Определим метрики оценки качества финальной модели логистической регрессии</i>"
   ]
  },
  {
   "cell_type": "code",
   "execution_count": 67,
   "metadata": {
    "scrolled": true
   },
   "outputs": [
    {
     "name": "stdout",
     "output_type": "stream",
     "text": [
      "              precision    recall  f1-score   support\n",
      "\n",
      "           0       0.96      0.92      0.94      2887\n",
      "           1       0.24      0.37      0.29       197\n",
      "\n",
      "    accuracy                           0.89      3084\n",
      "   macro avg       0.60      0.64      0.61      3084\n",
      "weighted avg       0.91      0.89      0.90      3084\n",
      "\n"
     ]
    }
   ],
   "source": [
    "print(classification_report(y_test, lr[\"model\"].predict_proba(x_test_scaled)[:,1] >= threshold_probability_max.iloc[0]))"
   ]
  },
  {
   "cell_type": "code",
   "execution_count": 68,
   "metadata": {
    "scrolled": true
   },
   "outputs": [
    {
     "data": {
      "image/png": "[encoded data removed]",
      "text/plain": [
       "<Figure size 432x288 with 2 Axes>"
      ]
     },
     "metadata": {
      "needs_background": "light"
     },
     "output_type": "display_data"
    }
   ],
   "source": [
    "fig = ConfusionMatrixDisplay(confusion_matrix=confusion_matrix(y_test, \n",
    "                                            lr[\"model\"].predict_proba(x_test_scaled)[:,1] >= threshold_probability_max.iloc[0]))\n",
    "fig.plot(cmap=\"binary\")\n",
    "plt.show()"
   ]
  },
  {
   "cell_type": "code",
   "execution_count": 69,
   "metadata": {},
   "outputs": [],
   "source": [
    "models_results = pd.concat([models_results, pd.Series({lr[\"title\"]: round(f1_score_max, 2)})])"
   ]
  },
  {
   "cell_type": "markdown",
   "metadata": {},
   "source": [
    "#### Метод k-ближайших соседей"
   ]
  },
  {
   "cell_type": "markdown",
   "metadata": {},
   "source": [
    "Суть <b>метода k-ближайших соседей</b> заключается в нахождении числа k ближайших соседей прогнозируемого объекта и отнесении его к тому классу, представителей которого больше среди данных k соседей."
   ]
  },
  {
   "cell_type": "code",
   "execution_count": 70,
   "metadata": {},
   "outputs": [],
   "source": [
    "knn = get_model(title=\"Метод k-ближайших соседей\", model=KNeighborsClassifier(), \n",
    "                x_train = x_train_scaled, x_test = x_test_scaled)"
   ]
  },
  {
   "cell_type": "code",
   "execution_count": 71,
   "metadata": {},
   "outputs": [
    {
     "name": "stdout",
     "output_type": "stream",
     "text": [
      "Метод 3-ближайших соседей : 0.2012738853503185\n",
      "Метод 4-ближайших соседей : 0.20134228187919462\n",
      "Метод 5-ближайших соседей : 0.2123510292524377\n",
      "Метод 6-ближайших соседей : 0.21064814814814814\n",
      "Метод 7-ближайших соседей : 0.19883040935672516\n",
      "Метод 8-ближайших соседей : 0.20328542094455854\n",
      "Метод 9-ближайших соседей : 0.20627802690582958\n",
      "Метод 10-ближайших соседей : 0.21082089552238809\n",
      "Метод 11-ближайших соседей : 0.20980223559759242\n",
      "Метод 12-ближайших соседей : 0.21108179419525067\n",
      "Метод 13-ближайших соседей : 0.21370309951060357\n",
      "Метод 14-ближайших соседей : 0.21362489486963834\n",
      "Метод 15-ближайших соседей : 0.21926389976507438\n"
     ]
    }
   ],
   "source": [
    "for i in range(3, 16):\n",
    "    knn = get_model(title=f\"Метод {i}-ближайших соседей\", model=KNeighborsClassifier(n_neighbors=i), \n",
    "                    x_train = x_train_scaled, x_test = x_test_scaled)\n",
    "    print(knn[\"title\"], \":\", f1_score(y_test, knn[\"y_test_pred\"]))"
   ]
  },
  {
   "cell_type": "markdown",
   "metadata": {},
   "source": [
    "<i>Подбор оптимального количества соседних объектов не оказал высокую эффективность для максимизации f1_score</i>"
   ]
  },
  {
   "cell_type": "code",
   "execution_count": 72,
   "metadata": {},
   "outputs": [
    {
     "name": "stdout",
     "output_type": "stream",
     "text": [
      "\tМетрики качества модели 'Метод 15-ближайших соседей'\n",
      "\n",
      "\t\t\tОбучающая выборка\n",
      "              precision    recall  f1-score   support\n",
      "\n",
      "           0       1.00      0.68      0.81     11610\n",
      "           1       0.76      1.00      0.86     11610\n",
      "\n",
      "    accuracy                           0.84     23220\n",
      "   macro avg       0.88      0.84      0.84     23220\n",
      "weighted avg       0.88      0.84      0.84     23220\n",
      "\n",
      "\n",
      "\t\t\tТестовая выборка\n",
      "              precision    recall  f1-score   support\n",
      "\n",
      "           0       0.97      0.67      0.80      2887\n",
      "           1       0.13      0.71      0.22       197\n",
      "\n",
      "    accuracy                           0.68      3084\n",
      "   macro avg       0.55      0.69      0.51      3084\n",
      "weighted avg       0.92      0.68      0.76      3084\n",
      "\n"
     ]
    }
   ],
   "source": [
    "print(f\"\\tМетрики качества модели '{knn['title']}'\\n\\n\\t\\t\\tОбучающая выборка\\n{knn['reports'].get('train scores')}\"\n",
    "      f\"\\n\\n\\t\\t\\tТестовая выборка\\n{knn['reports'].get('test scores')}\")"
   ]
  },
  {
   "cell_type": "code",
   "execution_count": 73,
   "metadata": {
    "scrolled": true
   },
   "outputs": [
    {
     "data": {
      "image/png": "[encoded data removed]",
      "text/plain": [
       "<Figure size 432x288 with 2 Axes>"
      ]
     },
     "metadata": {
      "needs_background": "light"
     },
     "output_type": "display_data"
    }
   ],
   "source": [
    "fig = ConfusionMatrixDisplay(confusion_matrix=knn[\"reports\"].get(\"confusion matrix\"))\n",
    "fig.plot(cmap=\"binary\")\n",
    "plt.show()"
   ]
  },
  {
   "cell_type": "code",
   "execution_count": 74,
   "metadata": {},
   "outputs": [],
   "source": [
    "models_results = pd.concat([models_results, pd.Series({knn[\"title\"]: round(f1_score(y_test, knn[\"y_test_pred\"]), 2)})])"
   ]
  },
  {
   "cell_type": "markdown",
   "metadata": {},
   "source": [
    "#### Cлучайный лес"
   ]
  },
  {
   "cell_type": "code",
   "execution_count": 75,
   "metadata": {},
   "outputs": [
    {
     "name": "stdout",
     "output_type": "stream",
     "text": [
      "Обучена базовая модель случайного леса c f1_score = 0.13\n"
     ]
    }
   ],
   "source": [
    "rfc_base = get_model(title=\"базовая модель случайного леса\", model=RandomForestClassifier(random_state=42))\n",
    "print(f\"Обучена {rfc_base['title']} c f1_score = {round(f1_score(y_test, rfc_base['y_test_pred']), 2)}\")"
   ]
  },
  {
   "cell_type": "markdown",
   "metadata": {},
   "source": [
    "Краткое описание гиперпараметров, включенных в словарь для подбора:\n",
    "<ul>\n",
    "    <li><b>n_estimators</b> - число деревьев</li>\n",
    "    <li><b>max_depth</b> - максимальная глубина деревьев</li>\n",
    "    <li><b>min_samples_leaf</b> - ограничение на число объектов в листьях</li>\n",
    "</ul>"
   ]
  },
  {
   "cell_type": "code",
   "execution_count": 76,
   "metadata": {},
   "outputs": [],
   "source": [
    "rfc = RandomForestClassifier(random_state=42)\n",
    "parameters = {\"n_estimators\": [1200, 1600, 2000], \"max_depth\": [10, 13, 16], \"min_samples_leaf\": [4, 8, 12]}"
   ]
  },
  {
   "cell_type": "code",
   "execution_count": 77,
   "metadata": {},
   "outputs": [
    {
     "name": "stdout",
     "output_type": "stream",
     "text": [
      " Results from Random Search \n",
      "\n",
      " The best estimator across ALL searched params:\n",
      " RandomForestClassifier(max_depth=16, min_samples_leaf=4, n_estimators=1200,\n",
      "                       random_state=42)\n",
      "\n",
      " The best score across ALL searched params:\n",
      " 0.9475452196382429\n",
      "\n",
      " The best parameters across ALL searched params:\n",
      " {'n_estimators': 1200, 'min_samples_leaf': 4, 'max_depth': 16}\n"
     ]
    }
   ],
   "source": [
    "randm_src = RandomizedSearchCV(estimator=rfc, param_distributions = parameters,\n",
    "                               cv = 2, n_iter = 10, n_jobs=-1)\n",
    "randm_src.fit(x_train, y_train)\n",
    "\n",
    "print(\" Results from Random Search \" )\n",
    "print(\"\\n The best estimator across ALL searched params:\\n\", randm_src.best_estimator_)\n",
    "print(\"\\n The best score across ALL searched params:\\n\", randm_src.best_score_)\n",
    "print(\"\\n The best parameters across ALL searched params:\\n\", randm_src.best_params_)"
   ]
  },
  {
   "cell_type": "markdown",
   "metadata": {},
   "source": [
    "<i>Определим метрики оценки качества финальной модели случайного леса</i>"
   ]
  },
  {
   "cell_type": "code",
   "execution_count": 78,
   "metadata": {},
   "outputs": [],
   "source": [
    "n_estimators, max_depth, min_samples_leaf = randm_src.best_params_.values()"
   ]
  },
  {
   "cell_type": "code",
   "execution_count": 79,
   "metadata": {
    "scrolled": true
   },
   "outputs": [],
   "source": [
    "rfc = get_model(title=\"Случайный лес\", \n",
    "               model=RandomForestClassifier(n_estimators = n_estimators, max_depth = max_depth,\n",
    "                                            min_samples_leaf = min_samples_leaf, random_state=42))"
   ]
  },
  {
   "cell_type": "code",
   "execution_count": 80,
   "metadata": {},
   "outputs": [
    {
     "name": "stdout",
     "output_type": "stream",
     "text": [
      "\tМетрики качества модели 'Случайный лес'\n",
      "\n",
      "\t\t\tОбучающая выборка\n",
      "              precision    recall  f1-score   support\n",
      "\n",
      "           0       0.96      0.72      0.82     11610\n",
      "           1       0.77      0.97      0.86     11610\n",
      "\n",
      "    accuracy                           0.84     23220\n",
      "   macro avg       0.87      0.84      0.84     23220\n",
      "weighted avg       0.87      0.84      0.84     23220\n",
      "\n",
      "\n",
      "\t\t\tТестовая выборка\n",
      "              precision    recall  f1-score   support\n",
      "\n",
      "           0       0.98      0.70      0.82      2887\n",
      "           1       0.15      0.78      0.26       197\n",
      "\n",
      "    accuracy                           0.71      3084\n",
      "   macro avg       0.57      0.74      0.54      3084\n",
      "weighted avg       0.93      0.71      0.78      3084\n",
      "\n"
     ]
    }
   ],
   "source": [
    "print(f\"\\tМетрики качества модели '{rfc['title']}'\\n\\n\\t\\t\\tОбучающая выборка\\n{rfc['reports'].get('train scores')}\"\n",
    "      f\"\\n\\n\\t\\t\\tТестовая выборка\\n{rfc['reports'].get('test scores')}\")"
   ]
  },
  {
   "cell_type": "code",
   "execution_count": 81,
   "metadata": {
    "scrolled": true
   },
   "outputs": [
    {
     "data": {
      "image/png": "[encoded data removed]",
      "text/plain": [
       "<Figure size 432x288 with 2 Axes>"
      ]
     },
     "metadata": {
      "needs_background": "light"
     },
     "output_type": "display_data"
    }
   ],
   "source": [
    "fig = ConfusionMatrixDisplay(confusion_matrix=rfc[\"reports\"].get(\"confusion matrix\"))\n",
    "fig.plot(cmap=\"binary\")\n",
    "plt.show()"
   ]
  },
  {
   "cell_type": "code",
   "execution_count": 82,
   "metadata": {},
   "outputs": [],
   "source": [
    "models_results = pd.concat([models_results, pd.Series({rfc[\"title\"]: round(f1_score(y_test, rfc[\"y_test_pred\"]), 2)})])"
   ]
  },
  {
   "cell_type": "markdown",
   "metadata": {},
   "source": [
    "#### XGBoost"
   ]
  },
  {
   "cell_type": "markdown",
   "metadata": {},
   "source": [
    "Алгоритм <b>XGBoost</b> основан на бустинге. Под данным термином понимают однородных слабых учеников (деревьев), обученных последовательно адаптивным способом (слабый ученик зависит от предыдущих) и объединённых, следуя детерминированной стратегии."
   ]
  },
  {
   "cell_type": "code",
   "execution_count": 83,
   "metadata": {
    "scrolled": true
   },
   "outputs": [],
   "source": [
    "xgboost = get_model(title=\"XGBoost\", model=XGBClassifier(max_depth = 5, alpha = 10, n_estimators = 10, eval_metric=\"mlogloss\"))"
   ]
  },
  {
   "cell_type": "code",
   "execution_count": 84,
   "metadata": {},
   "outputs": [
    {
     "name": "stdout",
     "output_type": "stream",
     "text": [
      "\tМетрики качества модели 'XGBoost'\n",
      "\n",
      "\t\t\tОбучающая выборка\n",
      "              precision    recall  f1-score   support\n",
      "\n",
      "           0       0.94      0.89      0.92     11610\n",
      "           1       0.90      0.95      0.92     11610\n",
      "\n",
      "    accuracy                           0.92     23220\n",
      "   macro avg       0.92      0.92      0.92     23220\n",
      "weighted avg       0.92      0.92      0.92     23220\n",
      "\n",
      "\n",
      "\t\t\tТестовая выборка\n",
      "              precision    recall  f1-score   support\n",
      "\n",
      "           0       0.96      0.90      0.93      2887\n",
      "           1       0.25      0.51      0.33       197\n",
      "\n",
      "    accuracy                           0.87      3084\n",
      "   macro avg       0.61      0.70      0.63      3084\n",
      "weighted avg       0.92      0.87      0.89      3084\n",
      "\n"
     ]
    }
   ],
   "source": [
    "print(f\"\\tМетрики качества модели '{xgboost['title']}'\\n\\n\\t\\t\\tОбучающая выборка\\n{xgboost['reports'].get('train scores')}\"\n",
    "      f\"\\n\\n\\t\\t\\tТестовая выборка\\n{xgboost['reports'].get('test scores')}\")"
   ]
  },
  {
   "cell_type": "code",
   "execution_count": 85,
   "metadata": {},
   "outputs": [
    {
     "data": {
      "image/png": "[encoded data removed]",
      "text/plain": [
       "<Figure size 432x288 with 2 Axes>"
      ]
     },
     "metadata": {
      "needs_background": "light"
     },
     "output_type": "display_data"
    }
   ],
   "source": [
    "fig = ConfusionMatrixDisplay(confusion_matrix=xgboost[\"reports\"].get(\"confusion matrix\"))\n",
    "fig.plot(cmap=\"binary\")\n",
    "plt.show()"
   ]
  },
  {
   "cell_type": "code",
   "execution_count": 86,
   "metadata": {},
   "outputs": [],
   "source": [
    "models_results = pd.concat([models_results, pd.Series({xgboost[\"title\"]: round(f1_score(y_test, xgboost[\"y_test_pred\"]), 2)})])"
   ]
  },
  {
   "cell_type": "code",
   "execution_count": 87,
   "metadata": {},
   "outputs": [],
   "source": [
    "time_execution = timeit.default_timer() - starttime"
   ]
  },
  {
   "cell_type": "markdown",
   "metadata": {},
   "source": [
    "### 4.4 Оценка важности признаков"
   ]
  },
  {
   "cell_type": "markdown",
   "metadata": {},
   "source": [
    "#### Логистическая регрессия"
   ]
  },
  {
   "cell_type": "code",
   "execution_count": 88,
   "metadata": {},
   "outputs": [
    {
     "data": {
      "text/html": [
       "<div>\n",
       "<style scoped>\n",
       "    .dataframe tbody tr th:only-of-type {\n",
       "        vertical-align: middle;\n",
       "    }\n",
       "\n",
       "    .dataframe tbody tr th {\n",
       "        vertical-align: top;\n",
       "    }\n",
       "\n",
       "    .dataframe thead th {\n",
       "        text-align: right;\n",
       "    }\n",
       "</style>\n",
       "<table border=\"1\" class=\"dataframe\">\n",
       "  <thead>\n",
       "    <tr style=\"text-align: right;\">\n",
       "      <th></th>\n",
       "      <th>feature</th>\n",
       "      <th>coefficient</th>\n",
       "      <th>absolute coefficient</th>\n",
       "    </tr>\n",
       "  </thead>\n",
       "  <tbody>\n",
       "    <tr>\n",
       "      <td>26</td>\n",
       "      <td>PolicyTypeProbability</td>\n",
       "      <td>1.313335</td>\n",
       "      <td>1.313335</td>\n",
       "    </tr>\n",
       "    <tr>\n",
       "      <td>9</td>\n",
       "      <td>Fault</td>\n",
       "      <td>-1.310918</td>\n",
       "      <td>1.310918</td>\n",
       "    </tr>\n",
       "    <tr>\n",
       "      <td>32</td>\n",
       "      <td>VehicleCategory_Sedan</td>\n",
       "      <td>0.281684</td>\n",
       "      <td>0.281684</td>\n",
       "    </tr>\n",
       "    <tr>\n",
       "      <td>33</td>\n",
       "      <td>VehicleCategory_Sport</td>\n",
       "      <td>-0.267736</td>\n",
       "      <td>0.267736</td>\n",
       "    </tr>\n",
       "    <tr>\n",
       "      <td>37</td>\n",
       "      <td>BasePolicy_Liability</td>\n",
       "      <td>0.265910</td>\n",
       "      <td>0.265910</td>\n",
       "    </tr>\n",
       "    <tr>\n",
       "      <td>35</td>\n",
       "      <td>BasePolicy_All Perils</td>\n",
       "      <td>-0.253899</td>\n",
       "      <td>0.253899</td>\n",
       "    </tr>\n",
       "    <tr>\n",
       "      <td>17</td>\n",
       "      <td>AgeOfPolicyHolder</td>\n",
       "      <td>-0.230972</td>\n",
       "      <td>0.230972</td>\n",
       "    </tr>\n",
       "    <tr>\n",
       "      <td>27</td>\n",
       "      <td>RepNumberProbability</td>\n",
       "      <td>0.196852</td>\n",
       "      <td>0.196852</td>\n",
       "    </tr>\n",
       "    <tr>\n",
       "      <td>7</td>\n",
       "      <td>Sex</td>\n",
       "      <td>0.181487</td>\n",
       "      <td>0.181487</td>\n",
       "    </tr>\n",
       "    <tr>\n",
       "      <td>25</td>\n",
       "      <td>MakeProbability</td>\n",
       "      <td>0.151649</td>\n",
       "      <td>0.151649</td>\n",
       "    </tr>\n",
       "  </tbody>\n",
       "</table>\n",
       "</div>"
      ],
      "text/plain": [
       "                  feature  coefficient  absolute coefficient\n",
       "26  PolicyTypeProbability  1.313335     1.313335            \n",
       "9   Fault                 -1.310918     1.310918            \n",
       "32  VehicleCategory_Sedan  0.281684     0.281684            \n",
       "33  VehicleCategory_Sport -0.267736     0.267736            \n",
       "37  BasePolicy_Liability   0.265910     0.265910            \n",
       "35  BasePolicy_All Perils -0.253899     0.253899            \n",
       "17  AgeOfPolicyHolder     -0.230972     0.230972            \n",
       "27  RepNumberProbability   0.196852     0.196852            \n",
       "7   Sex                    0.181487     0.181487            \n",
       "25  MakeProbability        0.151649     0.151649            "
      ]
     },
     "execution_count": 88,
     "metadata": {},
     "output_type": "execute_result"
    }
   ],
   "source": [
    "lr_features = pd.DataFrame({\n",
    "    \"feature\": x_test.columns,\n",
    "    \"coefficient\": lr[\"model\"].coef_[0],\n",
    "    \"absolute coefficient\": np.abs(lr[\"model\"].coef_[0])\n",
    "})\n",
    "\n",
    "lr_features = lr_features.sort_values(by=\"absolute coefficient\", ascending=False)\n",
    "lr_features[:10]"
   ]
  },
  {
   "cell_type": "code",
   "execution_count": 89,
   "metadata": {
    "scrolled": true
   },
   "outputs": [
    {
     "data": {
      "text/plain": [
       "<matplotlib.axes._subplots.AxesSubplot at 0x2370af51048>"
      ]
     },
     "execution_count": 89,
     "metadata": {},
     "output_type": "execute_result"
    },
    {
     "data": {
      "image/png": "[encoded data removed]",
      "text/plain": [
       "<Figure size 432x288 with 1 Axes>"
      ]
     },
     "metadata": {
      "needs_background": "light"
     },
     "output_type": "display_data"
    }
   ],
   "source": [
    "lr_features.set_index(\"feature\", inplace=True)\n",
    "lr_features.iloc[:10, 1].plot(kind=\"barh\", color=COLORS[0])"
   ]
  },
  {
   "cell_type": "markdown",
   "metadata": {},
   "source": [
    "#### Cлучайный лес"
   ]
  },
  {
   "cell_type": "code",
   "execution_count": 90,
   "metadata": {},
   "outputs": [
    {
     "data": {
      "text/html": [
       "<div>\n",
       "<style scoped>\n",
       "    .dataframe tbody tr th:only-of-type {\n",
       "        vertical-align: middle;\n",
       "    }\n",
       "\n",
       "    .dataframe tbody tr th {\n",
       "        vertical-align: top;\n",
       "    }\n",
       "\n",
       "    .dataframe thead th {\n",
       "        text-align: right;\n",
       "    }\n",
       "</style>\n",
       "<table border=\"1\" class=\"dataframe\">\n",
       "  <thead>\n",
       "    <tr style=\"text-align: right;\">\n",
       "      <th></th>\n",
       "      <th>feature</th>\n",
       "      <th>importance</th>\n",
       "    </tr>\n",
       "  </thead>\n",
       "  <tbody>\n",
       "    <tr>\n",
       "      <td>26</td>\n",
       "      <td>PolicyTypeProbability</td>\n",
       "      <td>0.216445</td>\n",
       "    </tr>\n",
       "    <tr>\n",
       "      <td>37</td>\n",
       "      <td>BasePolicy_Liability</td>\n",
       "      <td>0.164153</td>\n",
       "    </tr>\n",
       "    <tr>\n",
       "      <td>9</td>\n",
       "      <td>Fault</td>\n",
       "      <td>0.147914</td>\n",
       "    </tr>\n",
       "    <tr>\n",
       "      <td>33</td>\n",
       "      <td>VehicleCategory_Sport</td>\n",
       "      <td>0.113704</td>\n",
       "    </tr>\n",
       "    <tr>\n",
       "      <td>25</td>\n",
       "      <td>MakeProbability</td>\n",
       "      <td>0.047055</td>\n",
       "    </tr>\n",
       "    <tr>\n",
       "      <td>15</td>\n",
       "      <td>PastNumberOfClaims</td>\n",
       "      <td>0.041521</td>\n",
       "    </tr>\n",
       "    <tr>\n",
       "      <td>36</td>\n",
       "      <td>BasePolicy_Collision</td>\n",
       "      <td>0.041367</td>\n",
       "    </tr>\n",
       "    <tr>\n",
       "      <td>24</td>\n",
       "      <td>Year</td>\n",
       "      <td>0.035088</td>\n",
       "    </tr>\n",
       "    <tr>\n",
       "      <td>32</td>\n",
       "      <td>VehicleCategory_Sedan</td>\n",
       "      <td>0.024225</td>\n",
       "    </tr>\n",
       "    <tr>\n",
       "      <td>12</td>\n",
       "      <td>DriverRating</td>\n",
       "      <td>0.019304</td>\n",
       "    </tr>\n",
       "  </tbody>\n",
       "</table>\n",
       "</div>"
      ],
      "text/plain": [
       "                  feature  importance\n",
       "26  PolicyTypeProbability  0.216445  \n",
       "37  BasePolicy_Liability   0.164153  \n",
       "9   Fault                  0.147914  \n",
       "33  VehicleCategory_Sport  0.113704  \n",
       "25  MakeProbability        0.047055  \n",
       "15  PastNumberOfClaims     0.041521  \n",
       "36  BasePolicy_Collision   0.041367  \n",
       "24  Year                   0.035088  \n",
       "32  VehicleCategory_Sedan  0.024225  \n",
       "12  DriverRating           0.019304  "
      ]
     },
     "execution_count": 90,
     "metadata": {},
     "output_type": "execute_result"
    }
   ],
   "source": [
    "rfc_features = pd.DataFrame({\n",
    "    \"feature\": x_test.columns,\n",
    "    \"importance\": rfc[\"model\"].feature_importances_\n",
    "})\n",
    "\n",
    "rfc_features = rfc_features.sort_values(by=\"importance\", ascending=False)\n",
    "rfc_features[:10]"
   ]
  },
  {
   "cell_type": "code",
   "execution_count": 91,
   "metadata": {
    "scrolled": false
   },
   "outputs": [
    {
     "data": {
      "text/plain": [
       "<matplotlib.axes._subplots.AxesSubplot at 0x23709b0c2c8>"
      ]
     },
     "execution_count": 91,
     "metadata": {},
     "output_type": "execute_result"
    },
    {
     "data": {
      "image/png": "[encoded data removed]",
      "text/plain": [
       "<Figure size 432x288 with 1 Axes>"
      ]
     },
     "metadata": {
      "needs_background": "light"
     },
     "output_type": "display_data"
    }
   ],
   "source": [
    "rfc_features.set_index(\"feature\", inplace=True)\n",
    "rfc_features.iloc[:10, 0].plot(kind=\"barh\", color=COLORS[0])"
   ]
  },
  {
   "cell_type": "markdown",
   "metadata": {},
   "source": [
    "#### XGBoost"
   ]
  },
  {
   "cell_type": "code",
   "execution_count": 92,
   "metadata": {},
   "outputs": [
    {
     "data": {
      "text/html": [
       "<div>\n",
       "<style scoped>\n",
       "    .dataframe tbody tr th:only-of-type {\n",
       "        vertical-align: middle;\n",
       "    }\n",
       "\n",
       "    .dataframe tbody tr th {\n",
       "        vertical-align: top;\n",
       "    }\n",
       "\n",
       "    .dataframe thead th {\n",
       "        text-align: right;\n",
       "    }\n",
       "</style>\n",
       "<table border=\"1\" class=\"dataframe\">\n",
       "  <thead>\n",
       "    <tr style=\"text-align: right;\">\n",
       "      <th></th>\n",
       "      <th>feature</th>\n",
       "      <th>importance</th>\n",
       "    </tr>\n",
       "  </thead>\n",
       "  <tbody>\n",
       "    <tr>\n",
       "      <td>9</td>\n",
       "      <td>Fault</td>\n",
       "      <td>0.160278</td>\n",
       "    </tr>\n",
       "    <tr>\n",
       "      <td>36</td>\n",
       "      <td>BasePolicy_Collision</td>\n",
       "      <td>0.155929</td>\n",
       "    </tr>\n",
       "    <tr>\n",
       "      <td>26</td>\n",
       "      <td>PolicyTypeProbability</td>\n",
       "      <td>0.127195</td>\n",
       "    </tr>\n",
       "    <tr>\n",
       "      <td>35</td>\n",
       "      <td>BasePolicy_All Perils</td>\n",
       "      <td>0.126817</td>\n",
       "    </tr>\n",
       "    <tr>\n",
       "      <td>29</td>\n",
       "      <td>MaritalStatus_Married</td>\n",
       "      <td>0.075679</td>\n",
       "    </tr>\n",
       "    <tr>\n",
       "      <td>12</td>\n",
       "      <td>DriverRating</td>\n",
       "      <td>0.044670</td>\n",
       "    </tr>\n",
       "    <tr>\n",
       "      <td>15</td>\n",
       "      <td>PastNumberOfClaims</td>\n",
       "      <td>0.030238</td>\n",
       "    </tr>\n",
       "    <tr>\n",
       "      <td>30</td>\n",
       "      <td>MaritalStatus_Single</td>\n",
       "      <td>0.025646</td>\n",
       "    </tr>\n",
       "    <tr>\n",
       "      <td>11</td>\n",
       "      <td>Deductible</td>\n",
       "      <td>0.025307</td>\n",
       "    </tr>\n",
       "    <tr>\n",
       "      <td>27</td>\n",
       "      <td>RepNumberProbability</td>\n",
       "      <td>0.023470</td>\n",
       "    </tr>\n",
       "  </tbody>\n",
       "</table>\n",
       "</div>"
      ],
      "text/plain": [
       "                  feature  importance\n",
       "9   Fault                  0.160278  \n",
       "36  BasePolicy_Collision   0.155929  \n",
       "26  PolicyTypeProbability  0.127195  \n",
       "35  BasePolicy_All Perils  0.126817  \n",
       "29  MaritalStatus_Married  0.075679  \n",
       "12  DriverRating           0.044670  \n",
       "15  PastNumberOfClaims     0.030238  \n",
       "30  MaritalStatus_Single   0.025646  \n",
       "11  Deductible             0.025307  \n",
       "27  RepNumberProbability   0.023470  "
      ]
     },
     "execution_count": 92,
     "metadata": {},
     "output_type": "execute_result"
    }
   ],
   "source": [
    "xgboost_features = pd.DataFrame({\n",
    "    \"feature\": x_test.columns,\n",
    "    \"importance\": xgboost[\"model\"].feature_importances_\n",
    "})\n",
    "\n",
    "xgboost_features = xgboost_features.sort_values(by=\"importance\", ascending=False)\n",
    "xgboost_features[:10]"
   ]
  },
  {
   "cell_type": "code",
   "execution_count": 93,
   "metadata": {
    "scrolled": false
   },
   "outputs": [
    {
     "data": {
      "text/plain": [
       "<matplotlib.axes._subplots.AxesSubplot at 0x2370b00dcc8>"
      ]
     },
     "execution_count": 93,
     "metadata": {},
     "output_type": "execute_result"
    },
    {
     "data": {
      "image/png": "[encoded data removed]",
      "text/plain": [
       "<Figure size 432x288 with 1 Axes>"
      ]
     },
     "metadata": {
      "needs_background": "light"
     },
     "output_type": "display_data"
    }
   ],
   "source": [
    "xgboost_features.set_index(\"feature\", inplace=True)\n",
    "xgboost_features.iloc[:10, 0].plot(kind=\"barh\", color=COLORS[0])"
   ]
  },
  {
   "cell_type": "markdown",
   "metadata": {},
   "source": [
    "## Этап 5. Заключение"
   ]
  },
  {
   "cell_type": "code",
   "execution_count": 94,
   "metadata": {},
   "outputs": [
    {
     "name": "stdout",
     "output_type": "stream",
     "text": [
      "Время построения всех моделей: 486 сек.\n"
     ]
    }
   ],
   "source": [
    "print(f\"Время построения всех моделей: {round(time_execution)} сек.\")"
   ]
  },
  {
   "cell_type": "markdown",
   "metadata": {},
   "source": [
    "<i>Выведем наилучшие метрики качества полученных моделей</i>"
   ]
  },
  {
   "cell_type": "code",
   "execution_count": 95,
   "metadata": {},
   "outputs": [
    {
     "data": {
      "text/plain": [
       "Логистическая регрессия       0.29\n",
       "Метод 15-ближайших соседей    0.22\n",
       "Случайный лес                 0.26\n",
       "XGBoost                       0.33\n",
       "dtype: float64"
      ]
     },
     "execution_count": 95,
     "metadata": {},
     "output_type": "execute_result"
    }
   ],
   "source": [
    "models_results"
   ]
  },
  {
   "cell_type": "markdown",
   "metadata": {},
   "source": [
    "<i>Сравним степени важности признаков, полученные разными моделями. Определим отдельную шкалу, отображающую суммарную степень важности признака, оцененную 3 моделями</i>"
   ]
  },
  {
   "cell_type": "code",
   "execution_count": 96,
   "metadata": {},
   "outputs": [
    {
     "data": {
      "text/html": [
       "<div>\n",
       "<style scoped>\n",
       "    .dataframe tbody tr th:only-of-type {\n",
       "        vertical-align: middle;\n",
       "    }\n",
       "\n",
       "    .dataframe tbody tr th {\n",
       "        vertical-align: top;\n",
       "    }\n",
       "\n",
       "    .dataframe thead th {\n",
       "        text-align: right;\n",
       "    }\n",
       "</style>\n",
       "<table border=\"1\" class=\"dataframe\">\n",
       "  <thead>\n",
       "    <tr style=\"text-align: right;\">\n",
       "      <th></th>\n",
       "      <th>AccidentArea</th>\n",
       "      <th>AddressChange_Claim</th>\n",
       "      <th>Age</th>\n",
       "      <th>AgeOfPolicyHolder</th>\n",
       "      <th>AgeOfVehicle</th>\n",
       "      <th>AgentType</th>\n",
       "      <th>BasePolicy_All Perils</th>\n",
       "      <th>BasePolicy_Collision</th>\n",
       "      <th>BasePolicy_Liability</th>\n",
       "      <th>DayOfWeek</th>\n",
       "      <th>DayOfWeekClaimed</th>\n",
       "      <th>Days_Policy_Accident</th>\n",
       "      <th>Days_Policy_Claim</th>\n",
       "      <th>Deductible</th>\n",
       "      <th>DriverRating</th>\n",
       "      <th>Fault</th>\n",
       "      <th>MakeProbability</th>\n",
       "      <th>MaritalStatus_Divorced</th>\n",
       "      <th>MaritalStatus_Married</th>\n",
       "      <th>MaritalStatus_Single</th>\n",
       "      <th>MaritalStatus_Widow</th>\n",
       "      <th>Month</th>\n",
       "      <th>MonthClaimed</th>\n",
       "      <th>NumberOfCars</th>\n",
       "      <th>NumberOfSuppliments</th>\n",
       "      <th>PastNumberOfClaims</th>\n",
       "      <th>PoliceReportFiled</th>\n",
       "      <th>PolicyTypeProbability</th>\n",
       "      <th>RepNumberProbability</th>\n",
       "      <th>Sex</th>\n",
       "      <th>VehicleCategory_Sedan</th>\n",
       "      <th>VehicleCategory_Sport</th>\n",
       "      <th>VehicleCategory_Utility</th>\n",
       "      <th>VehiclePrice</th>\n",
       "      <th>WeekOfMonth</th>\n",
       "      <th>WeekOfMonthClaimed</th>\n",
       "      <th>WitnessPresent</th>\n",
       "      <th>Year</th>\n",
       "    </tr>\n",
       "  </thead>\n",
       "  <tbody>\n",
       "    <tr>\n",
       "      <td>Logistic Regression</td>\n",
       "      <td>0.017669</td>\n",
       "      <td>0.134565</td>\n",
       "      <td>0.039274</td>\n",
       "      <td>0.230972</td>\n",
       "      <td>0.022911</td>\n",
       "      <td>0.129781</td>\n",
       "      <td>0.253899</td>\n",
       "      <td>0.019675</td>\n",
       "      <td>0.265910</td>\n",
       "      <td>0.019591</td>\n",
       "      <td>0.039541</td>\n",
       "      <td>0.069052</td>\n",
       "      <td>0.058425</td>\n",
       "      <td>0.130883</td>\n",
       "      <td>0.012115</td>\n",
       "      <td>1.310918</td>\n",
       "      <td>0.151649</td>\n",
       "      <td>0.130308</td>\n",
       "      <td>0.085937</td>\n",
       "      <td>0.072723</td>\n",
       "      <td>0.053911</td>\n",
       "      <td>0.131231</td>\n",
       "      <td>0.010602</td>\n",
       "      <td>0.072322</td>\n",
       "      <td>0.097014</td>\n",
       "      <td>0.026505</td>\n",
       "      <td>0.055227</td>\n",
       "      <td>1.313335</td>\n",
       "      <td>0.196852</td>\n",
       "      <td>0.181487</td>\n",
       "      <td>0.281684</td>\n",
       "      <td>0.267736</td>\n",
       "      <td>0.055055</td>\n",
       "      <td>0.085374</td>\n",
       "      <td>0.063541</td>\n",
       "      <td>0.074009</td>\n",
       "      <td>0.047965</td>\n",
       "      <td>0.049783</td>\n",
       "    </tr>\n",
       "    <tr>\n",
       "      <td>Random Forest</td>\n",
       "      <td>0.010436</td>\n",
       "      <td>0.006207</td>\n",
       "      <td>0.003679</td>\n",
       "      <td>0.002967</td>\n",
       "      <td>0.018038</td>\n",
       "      <td>0.000006</td>\n",
       "      <td>0.014146</td>\n",
       "      <td>0.041367</td>\n",
       "      <td>0.164153</td>\n",
       "      <td>0.002815</td>\n",
       "      <td>0.002053</td>\n",
       "      <td>0.000053</td>\n",
       "      <td>0.000000</td>\n",
       "      <td>0.008440</td>\n",
       "      <td>0.019304</td>\n",
       "      <td>0.147914</td>\n",
       "      <td>0.047055</td>\n",
       "      <td>0.000016</td>\n",
       "      <td>0.004007</td>\n",
       "      <td>0.007690</td>\n",
       "      <td>0.000000</td>\n",
       "      <td>0.006794</td>\n",
       "      <td>0.008869</td>\n",
       "      <td>0.000555</td>\n",
       "      <td>0.010497</td>\n",
       "      <td>0.041521</td>\n",
       "      <td>0.000029</td>\n",
       "      <td>0.216445</td>\n",
       "      <td>0.012121</td>\n",
       "      <td>0.000102</td>\n",
       "      <td>0.024225</td>\n",
       "      <td>0.113704</td>\n",
       "      <td>0.000892</td>\n",
       "      <td>0.004263</td>\n",
       "      <td>0.015240</td>\n",
       "      <td>0.009309</td>\n",
       "      <td>0.000001</td>\n",
       "      <td>0.035088</td>\n",
       "    </tr>\n",
       "    <tr>\n",
       "      <td>XGBoost</td>\n",
       "      <td>0.008441</td>\n",
       "      <td>0.010821</td>\n",
       "      <td>0.002415</td>\n",
       "      <td>0.003590</td>\n",
       "      <td>0.019720</td>\n",
       "      <td>0.000684</td>\n",
       "      <td>0.126817</td>\n",
       "      <td>0.155929</td>\n",
       "      <td>0.000000</td>\n",
       "      <td>0.011074</td>\n",
       "      <td>0.005033</td>\n",
       "      <td>0.000644</td>\n",
       "      <td>0.000064</td>\n",
       "      <td>0.025307</td>\n",
       "      <td>0.044670</td>\n",
       "      <td>0.160278</td>\n",
       "      <td>0.020766</td>\n",
       "      <td>0.008347</td>\n",
       "      <td>0.075679</td>\n",
       "      <td>0.025646</td>\n",
       "      <td>0.003098</td>\n",
       "      <td>0.011830</td>\n",
       "      <td>0.014189</td>\n",
       "      <td>0.000546</td>\n",
       "      <td>0.003943</td>\n",
       "      <td>0.030238</td>\n",
       "      <td>0.001091</td>\n",
       "      <td>0.127195</td>\n",
       "      <td>0.023470</td>\n",
       "      <td>0.003747</td>\n",
       "      <td>0.000000</td>\n",
       "      <td>0.000000</td>\n",
       "      <td>0.003718</td>\n",
       "      <td>0.019572</td>\n",
       "      <td>0.017460</td>\n",
       "      <td>0.012655</td>\n",
       "      <td>0.000657</td>\n",
       "      <td>0.020667</td>\n",
       "    </tr>\n",
       "  </tbody>\n",
       "</table>\n",
       "</div>"
      ],
      "text/plain": [
       "                     AccidentArea  AddressChange_Claim       Age  \\\n",
       "Logistic Regression  0.017669      0.134565             0.039274   \n",
       "Random Forest        0.010436      0.006207             0.003679   \n",
       "XGBoost              0.008441      0.010821             0.002415   \n",
       "\n",
       "                     AgeOfPolicyHolder  AgeOfVehicle  AgentType  \\\n",
       "Logistic Regression  0.230972           0.022911      0.129781    \n",
       "Random Forest        0.002967           0.018038      0.000006    \n",
       "XGBoost              0.003590           0.019720      0.000684    \n",
       "\n",
       "                     BasePolicy_All Perils  BasePolicy_Collision  \\\n",
       "Logistic Regression  0.253899               0.019675               \n",
       "Random Forest        0.014146               0.041367               \n",
       "XGBoost              0.126817               0.155929               \n",
       "\n",
       "                     BasePolicy_Liability  DayOfWeek  DayOfWeekClaimed  \\\n",
       "Logistic Regression  0.265910              0.019591   0.039541           \n",
       "Random Forest        0.164153              0.002815   0.002053           \n",
       "XGBoost              0.000000              0.011074   0.005033           \n",
       "\n",
       "                     Days_Policy_Accident  Days_Policy_Claim  Deductible  \\\n",
       "Logistic Regression  0.069052              0.058425           0.130883     \n",
       "Random Forest        0.000053              0.000000           0.008440     \n",
       "XGBoost              0.000644              0.000064           0.025307     \n",
       "\n",
       "                     DriverRating     Fault  MakeProbability  \\\n",
       "Logistic Regression  0.012115      1.310918  0.151649          \n",
       "Random Forest        0.019304      0.147914  0.047055          \n",
       "XGBoost              0.044670      0.160278  0.020766          \n",
       "\n",
       "                     MaritalStatus_Divorced  MaritalStatus_Married  \\\n",
       "Logistic Regression  0.130308                0.085937                \n",
       "Random Forest        0.000016                0.004007                \n",
       "XGBoost              0.008347                0.075679                \n",
       "\n",
       "                     MaritalStatus_Single  MaritalStatus_Widow     Month  \\\n",
       "Logistic Regression  0.072723              0.053911             0.131231   \n",
       "Random Forest        0.007690              0.000000             0.006794   \n",
       "XGBoost              0.025646              0.003098             0.011830   \n",
       "\n",
       "                     MonthClaimed  NumberOfCars  NumberOfSuppliments  \\\n",
       "Logistic Regression  0.010602      0.072322      0.097014              \n",
       "Random Forest        0.008869      0.000555      0.010497              \n",
       "XGBoost              0.014189      0.000546      0.003943              \n",
       "\n",
       "                     PastNumberOfClaims  PoliceReportFiled  \\\n",
       "Logistic Regression  0.026505            0.055227            \n",
       "Random Forest        0.041521            0.000029            \n",
       "XGBoost              0.030238            0.001091            \n",
       "\n",
       "                     PolicyTypeProbability  RepNumberProbability       Sex  \\\n",
       "Logistic Regression  1.313335               0.196852              0.181487   \n",
       "Random Forest        0.216445               0.012121              0.000102   \n",
       "XGBoost              0.127195               0.023470              0.003747   \n",
       "\n",
       "                     VehicleCategory_Sedan  VehicleCategory_Sport  \\\n",
       "Logistic Regression  0.281684               0.267736                \n",
       "Random Forest        0.024225               0.113704                \n",
       "XGBoost              0.000000               0.000000                \n",
       "\n",
       "                     VehicleCategory_Utility  VehiclePrice  WeekOfMonth  \\\n",
       "Logistic Regression  0.055055                 0.085374      0.063541      \n",
       "Random Forest        0.000892                 0.004263      0.015240      \n",
       "XGBoost              0.003718                 0.019572      0.017460      \n",
       "\n",
       "                     WeekOfMonthClaimed  WitnessPresent      Year  \n",
       "Logistic Regression  0.074009            0.047965        0.049783  \n",
       "Random Forest        0.009309            0.000001        0.035088  \n",
       "XGBoost              0.012655            0.000657        0.020667  "
      ]
     },
     "execution_count": 96,
     "metadata": {},
     "output_type": "execute_result"
    }
   ],
   "source": [
    "importances_df = pd.concat([pd.DataFrame(lr_features.loc[:, \"absolute coefficient\"]), rfc_features, xgboost_features], axis=1)\n",
    "importances_df.columns = [\"Logistic Regression\", \"Random Forest\", \"XGBoost\"]\n",
    "importances_df.T"
   ]
  },
  {
   "cell_type": "code",
   "execution_count": 97,
   "metadata": {
    "scrolled": false
   },
   "outputs": [
    {
     "data": {
      "text/html": [
       "<div>\n",
       "<style scoped>\n",
       "    .dataframe tbody tr th:only-of-type {\n",
       "        vertical-align: middle;\n",
       "    }\n",
       "\n",
       "    .dataframe tbody tr th {\n",
       "        vertical-align: top;\n",
       "    }\n",
       "\n",
       "    .dataframe thead th {\n",
       "        text-align: right;\n",
       "    }\n",
       "</style>\n",
       "<table border=\"1\" class=\"dataframe\">\n",
       "  <thead>\n",
       "    <tr style=\"text-align: right;\">\n",
       "      <th></th>\n",
       "      <th>Logistic Regression</th>\n",
       "      <th>Feature Score by LR</th>\n",
       "      <th>Random Forest</th>\n",
       "      <th>Feature Score by RF</th>\n",
       "      <th>XGBoost</th>\n",
       "      <th>Feature Score by XGBoost</th>\n",
       "      <th>Sum Score</th>\n",
       "    </tr>\n",
       "  </thead>\n",
       "  <tbody>\n",
       "    <tr>\n",
       "      <td>PolicyTypeProbability</td>\n",
       "      <td>1.313335</td>\n",
       "      <td>38</td>\n",
       "      <td>0.216445</td>\n",
       "      <td>38</td>\n",
       "      <td>0.127195</td>\n",
       "      <td>36</td>\n",
       "      <td>112</td>\n",
       "    </tr>\n",
       "    <tr>\n",
       "      <td>Fault</td>\n",
       "      <td>1.310918</td>\n",
       "      <td>37</td>\n",
       "      <td>0.147914</td>\n",
       "      <td>36</td>\n",
       "      <td>0.160278</td>\n",
       "      <td>38</td>\n",
       "      <td>111</td>\n",
       "    </tr>\n",
       "    <tr>\n",
       "      <td>BasePolicy_All Perils</td>\n",
       "      <td>0.253899</td>\n",
       "      <td>33</td>\n",
       "      <td>0.014146</td>\n",
       "      <td>26</td>\n",
       "      <td>0.126817</td>\n",
       "      <td>35</td>\n",
       "      <td>94</td>\n",
       "    </tr>\n",
       "    <tr>\n",
       "      <td>MakeProbability</td>\n",
       "      <td>0.151649</td>\n",
       "      <td>29</td>\n",
       "      <td>0.047055</td>\n",
       "      <td>34</td>\n",
       "      <td>0.020766</td>\n",
       "      <td>28</td>\n",
       "      <td>91</td>\n",
       "    </tr>\n",
       "    <tr>\n",
       "      <td>RepNumberProbability</td>\n",
       "      <td>0.196852</td>\n",
       "      <td>31</td>\n",
       "      <td>0.012121</td>\n",
       "      <td>25</td>\n",
       "      <td>0.023470</td>\n",
       "      <td>29</td>\n",
       "      <td>85</td>\n",
       "    </tr>\n",
       "    <tr>\n",
       "      <td>Deductible</td>\n",
       "      <td>0.130883</td>\n",
       "      <td>26</td>\n",
       "      <td>0.008440</td>\n",
       "      <td>20</td>\n",
       "      <td>0.025307</td>\n",
       "      <td>30</td>\n",
       "      <td>76</td>\n",
       "    </tr>\n",
       "    <tr>\n",
       "      <td>BasePolicy_Collision</td>\n",
       "      <td>0.019675</td>\n",
       "      <td>5</td>\n",
       "      <td>0.041367</td>\n",
       "      <td>32</td>\n",
       "      <td>0.155929</td>\n",
       "      <td>37</td>\n",
       "      <td>74</td>\n",
       "    </tr>\n",
       "    <tr>\n",
       "      <td>VehicleCategory_Sport</td>\n",
       "      <td>0.267736</td>\n",
       "      <td>35</td>\n",
       "      <td>0.113704</td>\n",
       "      <td>35</td>\n",
       "      <td>0.000000</td>\n",
       "      <td>2</td>\n",
       "      <td>72</td>\n",
       "    </tr>\n",
       "    <tr>\n",
       "      <td>BasePolicy_Liability</td>\n",
       "      <td>0.265910</td>\n",
       "      <td>34</td>\n",
       "      <td>0.164153</td>\n",
       "      <td>37</td>\n",
       "      <td>0.000000</td>\n",
       "      <td>1</td>\n",
       "      <td>72</td>\n",
       "    </tr>\n",
       "    <tr>\n",
       "      <td>PastNumberOfClaims</td>\n",
       "      <td>0.026505</td>\n",
       "      <td>7</td>\n",
       "      <td>0.041521</td>\n",
       "      <td>33</td>\n",
       "      <td>0.030238</td>\n",
       "      <td>32</td>\n",
       "      <td>72</td>\n",
       "    </tr>\n",
       "    <tr>\n",
       "      <td>MaritalStatus_Married</td>\n",
       "      <td>0.085937</td>\n",
       "      <td>22</td>\n",
       "      <td>0.004007</td>\n",
       "      <td>15</td>\n",
       "      <td>0.075679</td>\n",
       "      <td>34</td>\n",
       "      <td>71</td>\n",
       "    </tr>\n",
       "    <tr>\n",
       "      <td>MaritalStatus_Single</td>\n",
       "      <td>0.072723</td>\n",
       "      <td>19</td>\n",
       "      <td>0.007690</td>\n",
       "      <td>19</td>\n",
       "      <td>0.025646</td>\n",
       "      <td>31</td>\n",
       "      <td>69</td>\n",
       "    </tr>\n",
       "    <tr>\n",
       "      <td>VehicleCategory_Sedan</td>\n",
       "      <td>0.281684</td>\n",
       "      <td>36</td>\n",
       "      <td>0.024225</td>\n",
       "      <td>30</td>\n",
       "      <td>0.000000</td>\n",
       "      <td>3</td>\n",
       "      <td>69</td>\n",
       "    </tr>\n",
       "    <tr>\n",
       "      <td>Year</td>\n",
       "      <td>0.049783</td>\n",
       "      <td>11</td>\n",
       "      <td>0.035088</td>\n",
       "      <td>31</td>\n",
       "      <td>0.020667</td>\n",
       "      <td>27</td>\n",
       "      <td>69</td>\n",
       "    </tr>\n",
       "    <tr>\n",
       "      <td>WeekOfMonth</td>\n",
       "      <td>0.063541</td>\n",
       "      <td>16</td>\n",
       "      <td>0.015240</td>\n",
       "      <td>27</td>\n",
       "      <td>0.017460</td>\n",
       "      <td>24</td>\n",
       "      <td>67</td>\n",
       "    </tr>\n",
       "    <tr>\n",
       "      <td>Month</td>\n",
       "      <td>0.131231</td>\n",
       "      <td>27</td>\n",
       "      <td>0.006794</td>\n",
       "      <td>18</td>\n",
       "      <td>0.011830</td>\n",
       "      <td>21</td>\n",
       "      <td>66</td>\n",
       "    </tr>\n",
       "    <tr>\n",
       "      <td>DriverRating</td>\n",
       "      <td>0.012115</td>\n",
       "      <td>2</td>\n",
       "      <td>0.019304</td>\n",
       "      <td>29</td>\n",
       "      <td>0.044670</td>\n",
       "      <td>33</td>\n",
       "      <td>64</td>\n",
       "    </tr>\n",
       "    <tr>\n",
       "      <td>WeekOfMonthClaimed</td>\n",
       "      <td>0.074009</td>\n",
       "      <td>20</td>\n",
       "      <td>0.009309</td>\n",
       "      <td>22</td>\n",
       "      <td>0.012655</td>\n",
       "      <td>22</td>\n",
       "      <td>64</td>\n",
       "    </tr>\n",
       "    <tr>\n",
       "      <td>AddressChange_Claim</td>\n",
       "      <td>0.134565</td>\n",
       "      <td>28</td>\n",
       "      <td>0.006207</td>\n",
       "      <td>17</td>\n",
       "      <td>0.010821</td>\n",
       "      <td>19</td>\n",
       "      <td>64</td>\n",
       "    </tr>\n",
       "    <tr>\n",
       "      <td>VehiclePrice</td>\n",
       "      <td>0.085374</td>\n",
       "      <td>21</td>\n",
       "      <td>0.004263</td>\n",
       "      <td>16</td>\n",
       "      <td>0.019572</td>\n",
       "      <td>25</td>\n",
       "      <td>62</td>\n",
       "    </tr>\n",
       "    <tr>\n",
       "      <td>NumberOfSuppliments</td>\n",
       "      <td>0.097014</td>\n",
       "      <td>23</td>\n",
       "      <td>0.010497</td>\n",
       "      <td>24</td>\n",
       "      <td>0.003943</td>\n",
       "      <td>15</td>\n",
       "      <td>62</td>\n",
       "    </tr>\n",
       "    <tr>\n",
       "      <td>AgeOfVehicle</td>\n",
       "      <td>0.022911</td>\n",
       "      <td>6</td>\n",
       "      <td>0.018038</td>\n",
       "      <td>28</td>\n",
       "      <td>0.019720</td>\n",
       "      <td>26</td>\n",
       "      <td>60</td>\n",
       "    </tr>\n",
       "    <tr>\n",
       "      <td>AgeOfPolicyHolder</td>\n",
       "      <td>0.230972</td>\n",
       "      <td>32</td>\n",
       "      <td>0.002967</td>\n",
       "      <td>13</td>\n",
       "      <td>0.003590</td>\n",
       "      <td>12</td>\n",
       "      <td>57</td>\n",
       "    </tr>\n",
       "    <tr>\n",
       "      <td>Sex</td>\n",
       "      <td>0.181487</td>\n",
       "      <td>30</td>\n",
       "      <td>0.000102</td>\n",
       "      <td>8</td>\n",
       "      <td>0.003747</td>\n",
       "      <td>14</td>\n",
       "      <td>52</td>\n",
       "    </tr>\n",
       "    <tr>\n",
       "      <td>MaritalStatus_Divorced</td>\n",
       "      <td>0.130308</td>\n",
       "      <td>25</td>\n",
       "      <td>0.000016</td>\n",
       "      <td>5</td>\n",
       "      <td>0.008347</td>\n",
       "      <td>17</td>\n",
       "      <td>47</td>\n",
       "    </tr>\n",
       "    <tr>\n",
       "      <td>MonthClaimed</td>\n",
       "      <td>0.010602</td>\n",
       "      <td>1</td>\n",
       "      <td>0.008869</td>\n",
       "      <td>21</td>\n",
       "      <td>0.014189</td>\n",
       "      <td>23</td>\n",
       "      <td>45</td>\n",
       "    </tr>\n",
       "    <tr>\n",
       "      <td>AccidentArea</td>\n",
       "      <td>0.017669</td>\n",
       "      <td>3</td>\n",
       "      <td>0.010436</td>\n",
       "      <td>23</td>\n",
       "      <td>0.008441</td>\n",
       "      <td>18</td>\n",
       "      <td>44</td>\n",
       "    </tr>\n",
       "    <tr>\n",
       "      <td>AgentType</td>\n",
       "      <td>0.129781</td>\n",
       "      <td>24</td>\n",
       "      <td>0.000006</td>\n",
       "      <td>4</td>\n",
       "      <td>0.000684</td>\n",
       "      <td>8</td>\n",
       "      <td>36</td>\n",
       "    </tr>\n",
       "    <tr>\n",
       "      <td>DayOfWeek</td>\n",
       "      <td>0.019591</td>\n",
       "      <td>4</td>\n",
       "      <td>0.002815</td>\n",
       "      <td>12</td>\n",
       "      <td>0.011074</td>\n",
       "      <td>20</td>\n",
       "      <td>36</td>\n",
       "    </tr>\n",
       "    <tr>\n",
       "      <td>VehicleCategory_Utility</td>\n",
       "      <td>0.055055</td>\n",
       "      <td>13</td>\n",
       "      <td>0.000892</td>\n",
       "      <td>10</td>\n",
       "      <td>0.003718</td>\n",
       "      <td>13</td>\n",
       "      <td>36</td>\n",
       "    </tr>\n",
       "    <tr>\n",
       "      <td>DayOfWeekClaimed</td>\n",
       "      <td>0.039541</td>\n",
       "      <td>9</td>\n",
       "      <td>0.002053</td>\n",
       "      <td>11</td>\n",
       "      <td>0.005033</td>\n",
       "      <td>16</td>\n",
       "      <td>36</td>\n",
       "    </tr>\n",
       "    <tr>\n",
       "      <td>NumberOfCars</td>\n",
       "      <td>0.072322</td>\n",
       "      <td>18</td>\n",
       "      <td>0.000555</td>\n",
       "      <td>9</td>\n",
       "      <td>0.000546</td>\n",
       "      <td>5</td>\n",
       "      <td>32</td>\n",
       "    </tr>\n",
       "    <tr>\n",
       "      <td>Age</td>\n",
       "      <td>0.039274</td>\n",
       "      <td>8</td>\n",
       "      <td>0.003679</td>\n",
       "      <td>14</td>\n",
       "      <td>0.002415</td>\n",
       "      <td>10</td>\n",
       "      <td>32</td>\n",
       "    </tr>\n",
       "    <tr>\n",
       "      <td>Days_Policy_Accident</td>\n",
       "      <td>0.069052</td>\n",
       "      <td>17</td>\n",
       "      <td>0.000053</td>\n",
       "      <td>7</td>\n",
       "      <td>0.000644</td>\n",
       "      <td>6</td>\n",
       "      <td>30</td>\n",
       "    </tr>\n",
       "    <tr>\n",
       "      <td>PoliceReportFiled</td>\n",
       "      <td>0.055227</td>\n",
       "      <td>14</td>\n",
       "      <td>0.000029</td>\n",
       "      <td>6</td>\n",
       "      <td>0.001091</td>\n",
       "      <td>9</td>\n",
       "      <td>29</td>\n",
       "    </tr>\n",
       "    <tr>\n",
       "      <td>MaritalStatus_Widow</td>\n",
       "      <td>0.053911</td>\n",
       "      <td>12</td>\n",
       "      <td>0.000000</td>\n",
       "      <td>1</td>\n",
       "      <td>0.003098</td>\n",
       "      <td>11</td>\n",
       "      <td>24</td>\n",
       "    </tr>\n",
       "    <tr>\n",
       "      <td>Days_Policy_Claim</td>\n",
       "      <td>0.058425</td>\n",
       "      <td>15</td>\n",
       "      <td>0.000000</td>\n",
       "      <td>2</td>\n",
       "      <td>0.000064</td>\n",
       "      <td>4</td>\n",
       "      <td>21</td>\n",
       "    </tr>\n",
       "    <tr>\n",
       "      <td>WitnessPresent</td>\n",
       "      <td>0.047965</td>\n",
       "      <td>10</td>\n",
       "      <td>0.000001</td>\n",
       "      <td>3</td>\n",
       "      <td>0.000657</td>\n",
       "      <td>7</td>\n",
       "      <td>20</td>\n",
       "    </tr>\n",
       "  </tbody>\n",
       "</table>\n",
       "</div>"
      ],
      "text/plain": [
       "                         Logistic Regression  Feature Score by LR  \\\n",
       "PolicyTypeProbability    1.313335             38                    \n",
       "Fault                    1.310918             37                    \n",
       "BasePolicy_All Perils    0.253899             33                    \n",
       "MakeProbability          0.151649             29                    \n",
       "RepNumberProbability     0.196852             31                    \n",
       "Deductible               0.130883             26                    \n",
       "BasePolicy_Collision     0.019675             5                     \n",
       "VehicleCategory_Sport    0.267736             35                    \n",
       "BasePolicy_Liability     0.265910             34                    \n",
       "PastNumberOfClaims       0.026505             7                     \n",
       "MaritalStatus_Married    0.085937             22                    \n",
       "MaritalStatus_Single     0.072723             19                    \n",
       "VehicleCategory_Sedan    0.281684             36                    \n",
       "Year                     0.049783             11                    \n",
       "WeekOfMonth              0.063541             16                    \n",
       "Month                    0.131231             27                    \n",
       "DriverRating             0.012115             2                     \n",
       "WeekOfMonthClaimed       0.074009             20                    \n",
       "AddressChange_Claim      0.134565             28                    \n",
       "VehiclePrice             0.085374             21                    \n",
       "NumberOfSuppliments      0.097014             23                    \n",
       "AgeOfVehicle             0.022911             6                     \n",
       "AgeOfPolicyHolder        0.230972             32                    \n",
       "Sex                      0.181487             30                    \n",
       "MaritalStatus_Divorced   0.130308             25                    \n",
       "MonthClaimed             0.010602             1                     \n",
       "AccidentArea             0.017669             3                     \n",
       "AgentType                0.129781             24                    \n",
       "DayOfWeek                0.019591             4                     \n",
       "VehicleCategory_Utility  0.055055             13                    \n",
       "DayOfWeekClaimed         0.039541             9                     \n",
       "NumberOfCars             0.072322             18                    \n",
       "Age                      0.039274             8                     \n",
       "Days_Policy_Accident     0.069052             17                    \n",
       "PoliceReportFiled        0.055227             14                    \n",
       "MaritalStatus_Widow      0.053911             12                    \n",
       "Days_Policy_Claim        0.058425             15                    \n",
       "WitnessPresent           0.047965             10                    \n",
       "\n",
       "                         Random Forest  Feature Score by RF   XGBoost  \\\n",
       "PolicyTypeProbability    0.216445       38                   0.127195   \n",
       "Fault                    0.147914       36                   0.160278   \n",
       "BasePolicy_All Perils    0.014146       26                   0.126817   \n",
       "MakeProbability          0.047055       34                   0.020766   \n",
       "RepNumberProbability     0.012121       25                   0.023470   \n",
       "Deductible               0.008440       20                   0.025307   \n",
       "BasePolicy_Collision     0.041367       32                   0.155929   \n",
       "VehicleCategory_Sport    0.113704       35                   0.000000   \n",
       "BasePolicy_Liability     0.164153       37                   0.000000   \n",
       "PastNumberOfClaims       0.041521       33                   0.030238   \n",
       "MaritalStatus_Married    0.004007       15                   0.075679   \n",
       "MaritalStatus_Single     0.007690       19                   0.025646   \n",
       "VehicleCategory_Sedan    0.024225       30                   0.000000   \n",
       "Year                     0.035088       31                   0.020667   \n",
       "WeekOfMonth              0.015240       27                   0.017460   \n",
       "Month                    0.006794       18                   0.011830   \n",
       "DriverRating             0.019304       29                   0.044670   \n",
       "WeekOfMonthClaimed       0.009309       22                   0.012655   \n",
       "AddressChange_Claim      0.006207       17                   0.010821   \n",
       "VehiclePrice             0.004263       16                   0.019572   \n",
       "NumberOfSuppliments      0.010497       24                   0.003943   \n",
       "AgeOfVehicle             0.018038       28                   0.019720   \n",
       "AgeOfPolicyHolder        0.002967       13                   0.003590   \n",
       "Sex                      0.000102       8                    0.003747   \n",
       "MaritalStatus_Divorced   0.000016       5                    0.008347   \n",
       "MonthClaimed             0.008869       21                   0.014189   \n",
       "AccidentArea             0.010436       23                   0.008441   \n",
       "AgentType                0.000006       4                    0.000684   \n",
       "DayOfWeek                0.002815       12                   0.011074   \n",
       "VehicleCategory_Utility  0.000892       10                   0.003718   \n",
       "DayOfWeekClaimed         0.002053       11                   0.005033   \n",
       "NumberOfCars             0.000555       9                    0.000546   \n",
       "Age                      0.003679       14                   0.002415   \n",
       "Days_Policy_Accident     0.000053       7                    0.000644   \n",
       "PoliceReportFiled        0.000029       6                    0.001091   \n",
       "MaritalStatus_Widow      0.000000       1                    0.003098   \n",
       "Days_Policy_Claim        0.000000       2                    0.000064   \n",
       "WitnessPresent           0.000001       3                    0.000657   \n",
       "\n",
       "                         Feature Score by XGBoost  Sum Score  \n",
       "PolicyTypeProbability    36                        112        \n",
       "Fault                    38                        111        \n",
       "BasePolicy_All Perils    35                        94         \n",
       "MakeProbability          28                        91         \n",
       "RepNumberProbability     29                        85         \n",
       "Deductible               30                        76         \n",
       "BasePolicy_Collision     37                        74         \n",
       "VehicleCategory_Sport    2                         72         \n",
       "BasePolicy_Liability     1                         72         \n",
       "PastNumberOfClaims       32                        72         \n",
       "MaritalStatus_Married    34                        71         \n",
       "MaritalStatus_Single     31                        69         \n",
       "VehicleCategory_Sedan    3                         69         \n",
       "Year                     27                        69         \n",
       "WeekOfMonth              24                        67         \n",
       "Month                    21                        66         \n",
       "DriverRating             33                        64         \n",
       "WeekOfMonthClaimed       22                        64         \n",
       "AddressChange_Claim      19                        64         \n",
       "VehiclePrice             25                        62         \n",
       "NumberOfSuppliments      15                        62         \n",
       "AgeOfVehicle             26                        60         \n",
       "AgeOfPolicyHolder        12                        57         \n",
       "Sex                      14                        52         \n",
       "MaritalStatus_Divorced   17                        47         \n",
       "MonthClaimed             23                        45         \n",
       "AccidentArea             18                        44         \n",
       "AgentType                8                         36         \n",
       "DayOfWeek                20                        36         \n",
       "VehicleCategory_Utility  13                        36         \n",
       "DayOfWeekClaimed         16                        36         \n",
       "NumberOfCars             5                         32         \n",
       "Age                      10                        32         \n",
       "Days_Policy_Accident     6                         30         \n",
       "PoliceReportFiled        9                         29         \n",
       "MaritalStatus_Widow      11                        24         \n",
       "Days_Policy_Claim        4                         21         \n",
       "WitnessPresent           7                         20         "
      ]
     },
     "execution_count": 97,
     "metadata": {},
     "output_type": "execute_result"
    }
   ],
   "source": [
    "scores = list(range(len(importances_df.index), 0, -1))\n",
    "\n",
    "importances_lr_ranking = importances_df[[\"Logistic Regression\"]].sort_values(by=\"Logistic Regression\", ascending=False)\n",
    "importances_rfc_ranking = importances_df[[\"Random Forest\"]].sort_values(by=\"Random Forest\", ascending=False)\n",
    "importances_xgboost_ranking = importances_df[[\"XGBoost\"]].sort_values(by=\"XGBoost\", ascending=False)\n",
    "\n",
    "importances_lr_ranking[\"Feature Score by LR\"] = scores \n",
    "importances_rfc_ranking[\"Feature Score by RF\"] = scores \n",
    "importances_xgboost_ranking[\"Feature Score by XGBoost\"] = scores\n",
    "\n",
    "importances_df = pd.concat([importances_lr_ranking, importances_rfc_ranking, importances_xgboost_ranking], axis=1)\n",
    "importances_df[\"Sum Score\"] = importances_df[\"Feature Score by LR\"] + importances_df[\"Feature Score by RF\"] + \\\n",
    "importances_df[\"Feature Score by XGBoost\"]\n",
    "\n",
    "importances_df = importances_df.sort_values(by=\"Sum Score\", ascending=False)\n",
    "importances_df"
   ]
  },
  {
   "cell_type": "markdown",
   "metadata": {},
   "source": [
    "<i>Отобразим признаки в виде ранжированной по степени их важности столбчатой диаграммы</i>"
   ]
  },
  {
   "cell_type": "code",
   "execution_count": 98,
   "metadata": {
    "scrolled": false
   },
   "outputs": [
    {
     "data": {
      "image/png": "[encoded data removed]",
      "text/plain": [
       "<Figure size 1728x864 with 1 Axes>"
      ]
     },
     "metadata": {
      "needs_background": "light"
     },
     "output_type": "display_data"
    }
   ],
   "source": [
    "importances_df[\"Ranking\"] = scores\n",
    "\n",
    "importances_df[[\"Ranking\"]].plot(figsize=(24, 12), kind=\"bar\", color=COLORS[0])\n",
    "plt.xticks(rotation=90)\n",
    "plt.show()"
   ]
  },
  {
   "cell_type": "markdown",
   "metadata": {},
   "source": [
    "<i>Представим информацию о важности признаков, определённой с помощью статистического критерия</i>"
   ]
  },
  {
   "cell_type": "code",
   "execution_count": 99,
   "metadata": {},
   "outputs": [],
   "source": [
    "def get_importance(feature, feature_class):\n",
    "    if feature in strong_features[feature_class]:\n",
    "        return True\n",
    "    elif feature in weak_features[feature_class]:\n",
    "        return False\n",
    "    else:\n",
    "        return None"
   ]
  },
  {
   "cell_type": "code",
   "execution_count": 100,
   "metadata": {
    "scrolled": false
   },
   "outputs": [
    {
     "data": {
      "text/html": [
       "<div>\n",
       "<style scoped>\n",
       "    .dataframe tbody tr th:only-of-type {\n",
       "        vertical-align: middle;\n",
       "    }\n",
       "\n",
       "    .dataframe tbody tr th {\n",
       "        vertical-align: top;\n",
       "    }\n",
       "\n",
       "    .dataframe thead th {\n",
       "        text-align: right;\n",
       "    }\n",
       "</style>\n",
       "<table border=\"1\" class=\"dataframe\">\n",
       "  <thead>\n",
       "    <tr style=\"text-align: right;\">\n",
       "      <th></th>\n",
       "      <th>feature</th>\n",
       "      <th>class</th>\n",
       "      <th>importance by Chi-squared test</th>\n",
       "      <th>importance by Mann-Whitney U test</th>\n",
       "    </tr>\n",
       "  </thead>\n",
       "  <tbody>\n",
       "    <tr>\n",
       "      <td>0</td>\n",
       "      <td>Month</td>\n",
       "      <td>nominative</td>\n",
       "      <td>True</td>\n",
       "      <td>None</td>\n",
       "    </tr>\n",
       "    <tr>\n",
       "      <td>1</td>\n",
       "      <td>WeekOfMonth</td>\n",
       "      <td>numeric</td>\n",
       "      <td>None</td>\n",
       "      <td>False</td>\n",
       "    </tr>\n",
       "    <tr>\n",
       "      <td>2</td>\n",
       "      <td>DayOfWeek</td>\n",
       "      <td>nominative</td>\n",
       "      <td>False</td>\n",
       "      <td>None</td>\n",
       "    </tr>\n",
       "    <tr>\n",
       "      <td>3</td>\n",
       "      <td>Make</td>\n",
       "      <td>nominative</td>\n",
       "      <td>True</td>\n",
       "      <td>None</td>\n",
       "    </tr>\n",
       "    <tr>\n",
       "      <td>4</td>\n",
       "      <td>AccidentArea</td>\n",
       "      <td>nominative</td>\n",
       "      <td>True</td>\n",
       "      <td>None</td>\n",
       "    </tr>\n",
       "    <tr>\n",
       "      <td>5</td>\n",
       "      <td>DayOfWeekClaimed</td>\n",
       "      <td>nominative</td>\n",
       "      <td>False</td>\n",
       "      <td>None</td>\n",
       "    </tr>\n",
       "    <tr>\n",
       "      <td>6</td>\n",
       "      <td>MonthClaimed</td>\n",
       "      <td>nominative</td>\n",
       "      <td>True</td>\n",
       "      <td>None</td>\n",
       "    </tr>\n",
       "    <tr>\n",
       "      <td>7</td>\n",
       "      <td>WeekOfMonthClaimed</td>\n",
       "      <td>numeric</td>\n",
       "      <td>None</td>\n",
       "      <td>False</td>\n",
       "    </tr>\n",
       "    <tr>\n",
       "      <td>8</td>\n",
       "      <td>Sex</td>\n",
       "      <td>nominative</td>\n",
       "      <td>True</td>\n",
       "      <td>None</td>\n",
       "    </tr>\n",
       "    <tr>\n",
       "      <td>9</td>\n",
       "      <td>MaritalStatus</td>\n",
       "      <td>nominative</td>\n",
       "      <td>False</td>\n",
       "      <td>None</td>\n",
       "    </tr>\n",
       "    <tr>\n",
       "      <td>10</td>\n",
       "      <td>Age</td>\n",
       "      <td>numeric</td>\n",
       "      <td>None</td>\n",
       "      <td>True</td>\n",
       "    </tr>\n",
       "    <tr>\n",
       "      <td>11</td>\n",
       "      <td>Fault</td>\n",
       "      <td>nominative</td>\n",
       "      <td>True</td>\n",
       "      <td>None</td>\n",
       "    </tr>\n",
       "    <tr>\n",
       "      <td>12</td>\n",
       "      <td>PolicyType</td>\n",
       "      <td>nominative</td>\n",
       "      <td>True</td>\n",
       "      <td>None</td>\n",
       "    </tr>\n",
       "    <tr>\n",
       "      <td>13</td>\n",
       "      <td>VehicleCategory</td>\n",
       "      <td>nominative</td>\n",
       "      <td>True</td>\n",
       "      <td>None</td>\n",
       "    </tr>\n",
       "    <tr>\n",
       "      <td>14</td>\n",
       "      <td>VehiclePrice</td>\n",
       "      <td>nominative</td>\n",
       "      <td>True</td>\n",
       "      <td>None</td>\n",
       "    </tr>\n",
       "    <tr>\n",
       "      <td>15</td>\n",
       "      <td>RepNumber</td>\n",
       "      <td>numeric</td>\n",
       "      <td>None</td>\n",
       "      <td>True</td>\n",
       "    </tr>\n",
       "    <tr>\n",
       "      <td>16</td>\n",
       "      <td>Deductible</td>\n",
       "      <td>numeric</td>\n",
       "      <td>None</td>\n",
       "      <td>True</td>\n",
       "    </tr>\n",
       "    <tr>\n",
       "      <td>17</td>\n",
       "      <td>DriverRating</td>\n",
       "      <td>numeric</td>\n",
       "      <td>None</td>\n",
       "      <td>False</td>\n",
       "    </tr>\n",
       "    <tr>\n",
       "      <td>18</td>\n",
       "      <td>Days_Policy_Accident</td>\n",
       "      <td>nominative</td>\n",
       "      <td>True</td>\n",
       "      <td>None</td>\n",
       "    </tr>\n",
       "    <tr>\n",
       "      <td>19</td>\n",
       "      <td>Days_Policy_Claim</td>\n",
       "      <td>nominative</td>\n",
       "      <td>False</td>\n",
       "      <td>None</td>\n",
       "    </tr>\n",
       "    <tr>\n",
       "      <td>20</td>\n",
       "      <td>PastNumberOfClaims</td>\n",
       "      <td>nominative</td>\n",
       "      <td>True</td>\n",
       "      <td>None</td>\n",
       "    </tr>\n",
       "    <tr>\n",
       "      <td>21</td>\n",
       "      <td>AgeOfVehicle</td>\n",
       "      <td>nominative</td>\n",
       "      <td>True</td>\n",
       "      <td>None</td>\n",
       "    </tr>\n",
       "    <tr>\n",
       "      <td>22</td>\n",
       "      <td>AgeOfPolicyHolder</td>\n",
       "      <td>nominative</td>\n",
       "      <td>True</td>\n",
       "      <td>None</td>\n",
       "    </tr>\n",
       "    <tr>\n",
       "      <td>23</td>\n",
       "      <td>PoliceReportFiled</td>\n",
       "      <td>nominative</td>\n",
       "      <td>False</td>\n",
       "      <td>None</td>\n",
       "    </tr>\n",
       "    <tr>\n",
       "      <td>24</td>\n",
       "      <td>WitnessPresent</td>\n",
       "      <td>nominative</td>\n",
       "      <td>False</td>\n",
       "      <td>None</td>\n",
       "    </tr>\n",
       "    <tr>\n",
       "      <td>25</td>\n",
       "      <td>AgentType</td>\n",
       "      <td>nominative</td>\n",
       "      <td>True</td>\n",
       "      <td>None</td>\n",
       "    </tr>\n",
       "    <tr>\n",
       "      <td>26</td>\n",
       "      <td>NumberOfSuppliments</td>\n",
       "      <td>nominative</td>\n",
       "      <td>True</td>\n",
       "      <td>None</td>\n",
       "    </tr>\n",
       "    <tr>\n",
       "      <td>27</td>\n",
       "      <td>AddressChange_Claim</td>\n",
       "      <td>nominative</td>\n",
       "      <td>True</td>\n",
       "      <td>None</td>\n",
       "    </tr>\n",
       "    <tr>\n",
       "      <td>28</td>\n",
       "      <td>NumberOfCars</td>\n",
       "      <td>nominative</td>\n",
       "      <td>False</td>\n",
       "      <td>None</td>\n",
       "    </tr>\n",
       "    <tr>\n",
       "      <td>29</td>\n",
       "      <td>Year</td>\n",
       "      <td>numeric</td>\n",
       "      <td>None</td>\n",
       "      <td>False</td>\n",
       "    </tr>\n",
       "    <tr>\n",
       "      <td>30</td>\n",
       "      <td>BasePolicy</td>\n",
       "      <td>nominative</td>\n",
       "      <td>True</td>\n",
       "      <td>None</td>\n",
       "    </tr>\n",
       "  </tbody>\n",
       "</table>\n",
       "</div>"
      ],
      "text/plain": [
       "                 feature       class importance by Chi-squared test  \\\n",
       "0   Month                 nominative  True                            \n",
       "1   WeekOfMonth           numeric     None                            \n",
       "2   DayOfWeek             nominative  False                           \n",
       "3   Make                  nominative  True                            \n",
       "4   AccidentArea          nominative  True                            \n",
       "5   DayOfWeekClaimed      nominative  False                           \n",
       "6   MonthClaimed          nominative  True                            \n",
       "7   WeekOfMonthClaimed    numeric     None                            \n",
       "8   Sex                   nominative  True                            \n",
       "9   MaritalStatus         nominative  False                           \n",
       "10  Age                   numeric     None                            \n",
       "11  Fault                 nominative  True                            \n",
       "12  PolicyType            nominative  True                            \n",
       "13  VehicleCategory       nominative  True                            \n",
       "14  VehiclePrice          nominative  True                            \n",
       "15  RepNumber             numeric     None                            \n",
       "16  Deductible            numeric     None                            \n",
       "17  DriverRating          numeric     None                            \n",
       "18  Days_Policy_Accident  nominative  True                            \n",
       "19  Days_Policy_Claim     nominative  False                           \n",
       "20  PastNumberOfClaims    nominative  True                            \n",
       "21  AgeOfVehicle          nominative  True                            \n",
       "22  AgeOfPolicyHolder     nominative  True                            \n",
       "23  PoliceReportFiled     nominative  False                           \n",
       "24  WitnessPresent        nominative  False                           \n",
       "25  AgentType             nominative  True                            \n",
       "26  NumberOfSuppliments   nominative  True                            \n",
       "27  AddressChange_Claim   nominative  True                            \n",
       "28  NumberOfCars          nominative  False                           \n",
       "29  Year                  numeric     None                            \n",
       "30  BasePolicy            nominative  True                            \n",
       "\n",
       "   importance by Mann-Whitney U test  \n",
       "0   None                              \n",
       "1   False                             \n",
       "2   None                              \n",
       "3   None                              \n",
       "4   None                              \n",
       "5   None                              \n",
       "6   None                              \n",
       "7   False                             \n",
       "8   None                              \n",
       "9   None                              \n",
       "10  True                              \n",
       "11  None                              \n",
       "12  None                              \n",
       "13  None                              \n",
       "14  None                              \n",
       "15  True                              \n",
       "16  True                              \n",
       "17  False                             \n",
       "18  None                              \n",
       "19  None                              \n",
       "20  None                              \n",
       "21  None                              \n",
       "22  None                              \n",
       "23  None                              \n",
       "24  None                              \n",
       "25  None                              \n",
       "26  None                              \n",
       "27  None                              \n",
       "28  None                              \n",
       "29  False                             \n",
       "30  None                              "
      ]
     },
     "execution_count": 100,
     "metadata": {},
     "output_type": "execute_result"
    }
   ],
   "source": [
    "importances_by_test = pd.DataFrame({\"feature\": features}, columns=[\"feature\", \"class\", \"importance by Chi-squared test\",\n",
    "                                                 \"importance by Mann-Whitney U test\"])\n",
    "\n",
    "importances_by_test[\"class\"] = importances_by_test[\"feature\"].\\\n",
    "apply(lambda x: \"nominative\" if x in nominative_features else \"numeric\")\n",
    "\n",
    "importances_by_test[\"importance by Chi-squared test\"] = importances_by_test[\"feature\"].\\\n",
    "apply(lambda x: get_importance(x, \"nominative\"))\n",
    "\n",
    "importances_by_test[\"importance by Mann-Whitney U test\"] = importances_by_test[\"feature\"].\\\n",
    "apply(lambda x: get_importance(x, \"numeric\"))\n",
    "\n",
    "importances_by_test"
   ]
  },
  {
   "cell_type": "markdown",
   "metadata": {},
   "source": [
    "Выводы:\n",
    "<ul>\n",
    "   <li>Модель с наилучшими метриками качества - <b>XGBoost</b></li>\n",
    "    <li>Результаты, полученные с помощью статистических тестов, имеют <b>сильную корреляцию</b><br/> с результатами, полученными при помощи обучения моделей</li>\n",
    "    <li>С помощью <b>подбора гиперпараметров</b> модели можно значительно улучшить её качество, главное учесть фактор переобучения</li>\n",
    "</ul>"
   ]
  }
 ],
 "metadata": {
  "kernelspec": {
   "display_name": "Python 3",
   "language": "python",
   "name": "python3"
  },
  "language_info": {
   "codemirror_mode": {
    "name": "ipython",
    "version": 3
   },
   "file_extension": ".py",
   "mimetype": "text/x-python",
   "name": "python",
   "nbconvert_exporter": "python",
   "pygments_lexer": "ipython3",
   "version": "3.7.4"
  }
 },
 "nbformat": 4,
 "nbformat_minor": 2
}
